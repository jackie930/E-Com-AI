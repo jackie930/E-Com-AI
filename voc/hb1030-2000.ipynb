{
 "cells": [
  {
   "cell_type": "code",
   "execution_count": 54,
   "id": "02a7573b",
   "metadata": {
    "tags": []
   },
   "outputs": [],
   "source": [
    "import sagemaker as sage\n",
    "import pandas as pd\n",
    "from time import gmtime, strftime\n",
    "from sagemaker import get_execution_role\n",
    "from sagemaker.pytorch import PyTorch\n",
    "import os\n",
    "import numpy as np\n",
    "import shutil\n",
    "import pandas as pd   \n",
    "import numpy as np\n",
    "import os\n",
    "import shutil"
   ]
  },
  {
   "cell_type": "markdown",
   "id": "a42b5c60",
   "metadata": {},
   "source": [
    "# data prepare"
   ]
  },
  {
   "cell_type": "code",
   "execution_count": 55,
   "id": "a0c7592b-0f37-4c5d-8c67-d9aab4deffde",
   "metadata": {
    "tags": []
   },
   "outputs": [],
   "source": [
    "def get_data_direct(excelname):\n",
    "    jsonObj = pd.read_excel(excelname)\n",
    "    jsonObj['review_content'] = jsonObj['review_content'].fillna(method='ffill')\n",
    "    jsonObj = jsonObj[-jsonObj['review_content'].isnull()]\n",
    "    jsonObj['review_content'] = jsonObj['review_content'].apply(lambda x: x.replace('\\n',' '))\n",
    "    #print (jsonObj.head())\n",
    "     \n",
    "    #readjust key\n",
    "    key_dict, values, keys = get_key()\n",
    "    #capitalize\n",
    "    jsonObj['aspect_category'] = jsonObj['aspect_category'].map(lambda x: str(x).capitalize())\n",
    "    #map\n",
    "    jsonObj['aspect_category'] = jsonObj['aspect_category'].map(lambda x:convert_key(x, key_dict, values, keys))\n",
    "    jsonObj = jsonObj[jsonObj['aspect_category']!='wrong']\n",
    "    \n",
    "    #print (jsonObj.head())\n",
    "    print (\"<< aspect category number: \", jsonObj.groupby('aspect_category')['aspect_category'].nunique())\n",
    "    \n",
    "    #generate label \n",
    "    #jsonObj['label'] = jsonObj.apply(lambda row: (str(row['aspect_term']),str(row['aspect_category']),str(row['opinion_term']),str(row['sentiment_polarity'])), axis=1)\n",
    "    jsonObj['label'] = jsonObj.apply(lambda row: get_label(row), axis=1)\n",
    "    \n",
    "    jsonObj = jsonObj[['review_content','label']]\n",
    "    \n",
    "    #print (jsonObj.head())\n",
    "    print (\"number of rows label is null\", len(jsonObj[jsonObj['label'].isnull()]))\n",
    "    jsonObj = jsonObj[-jsonObj['label'].isnull()]\n",
    "    \n",
    "    #agg label\n",
    "    jsonObj_grouped = jsonObj.groupby('review_content')['label'].apply(list).reset_index()\n",
    "    \n",
    "    #print (jsonObj['review_content'].nunique())\n",
    "    #print (jsonObj_grouped.head)\n",
    "    #print (jsonObj_grouped.shape)\n",
    "    return jsonObj_grouped"
   ]
  },
  {
   "cell_type": "code",
   "execution_count": 56,
   "id": "8bce159c-f970-49fa-ba17-db372f71eb7f",
   "metadata": {
    "tags": []
   },
   "outputs": [
    {
     "name": "stdout",
     "output_type": "stream",
     "text": [
      "<< aspect category number:  aspect_category\n",
      "Accessory prices                      1\n",
      "App interactive control experience    1\n",
      "App interface design                  1\n",
      "Appearance design                     1\n",
      "Battery capacity                      1\n",
      "                                     ..\n",
      "Trade-in policy                       1\n",
      "User manual                           1\n",
      "Waterproof                            1\n",
      "Wireless charging                     1\n",
      "Workmanship craftsmanship             1\n",
      "Name: aspect_category, Length: 70, dtype: int64\n",
      "number of rows label is null 0\n"
     ]
    }
   ],
   "source": [
    "df = get_data_direct('../../data/GPT打标（带描述）-Jackie.xlsx')"
   ]
  },
  {
   "cell_type": "code",
   "execution_count": 57,
   "id": "09e9ec4a-af5b-443e-a5be-213633dcfe89",
   "metadata": {
    "tags": []
   },
   "outputs": [],
   "source": [
    "train, validate, test = np.split(df.sample(frac=1), [int(.8*len(df)), int(.9*len(df))])\n",
    "train = pd.concat([df,train])"
   ]
  },
  {
   "cell_type": "code",
   "execution_count": 58,
   "id": "63f90344-3eff-4e45-9e84-6c317eadd680",
   "metadata": {
    "tags": []
   },
   "outputs": [
    {
     "data": {
      "text/plain": [
       "pandas.core.frame.DataFrame"
      ]
     },
     "execution_count": 58,
     "metadata": {},
     "output_type": "execute_result"
    }
   ],
   "source": [
    "type(train)"
   ]
  },
  {
   "cell_type": "code",
   "execution_count": 59,
   "id": "c12c60ac-cc00-4680-b0d3-bf0a468c57fe",
   "metadata": {
    "tags": []
   },
   "outputs": [
    {
     "name": "stdout",
     "output_type": "stream",
     "text": [
      "<< path valid!\n",
      "<< aspect category number:  aspect_category\n",
      "Accessory prices                      1\n",
      "App interactive control experience    1\n",
      "App interface design                  1\n",
      "Appearance design                     1\n",
      "Battery capacity                      1\n",
      "                                     ..\n",
      "Trade-in policy                       1\n",
      "User manual                           1\n",
      "Waterproof                            1\n",
      "Wireless charging                     1\n",
      "Workmanship craftsmanship             1\n",
      "Name: aspect_category, Length: 66, dtype: int64\n",
      "number of rows label is null 531\n",
      "<< aspect category number:  aspect_category\n",
      "App interface design                      1\n",
      "Appearance design                         1\n",
      "Battery capacity                          1\n",
      "Battery cycle life                        1\n",
      "Battery replacement                       1\n",
      "Charging accessories                      1\n",
      "Charging quality                          1\n",
      "Charging speed                            1\n",
      "Compatibility/adaptability                1\n",
      "Correct delivery address                  1\n",
      "Correct delivery content and quantity     1\n",
      "Cost-effectiveness                        1\n",
      "Customer support                          1\n",
      "Expansion function                        1\n",
      "Fault notification                        1\n",
      "Heat dissipation                          1\n",
      "High-temperature performance              1\n",
      "Number of output ports                    1\n",
      "Output port type                          1\n",
      "Package quality upon receipt              1\n",
      "Portability                               1\n",
      "Price range                               1\n",
      "Product dimensions                        1\n",
      "Product durability                        1\n",
      "Product quality                           1\n",
      "Product weight                            1\n",
      "Quality control                           1\n",
      "Repair service                            1\n",
      "Scheduled delivery                        1\n",
      "Signature service                         1\n",
      "Solar panel charging performance          1\n",
      "Solar panel compatibility adaptability    1\n",
      "Solar panel durability                    1\n",
      "Solar panel handle                        1\n",
      "Solar panel price range                   1\n",
      "Solar panel ruggedness protection         1\n",
      "Solar panel weight                        1\n",
      "User manual                               1\n",
      "Waterproof                                1\n",
      "Workmanship craftsmanship                 1\n",
      "Name: aspect_category, dtype: int64\n",
      "number of rows label is null 232\n",
      "v1 shape (281, 2), v1 sample                                       review_content  \\\n",
      "0  - We've used it several times in the past year...   \n",
      "1  12v output is very low (3v) with a 18w load. I...   \n",
      "2  3000 Pro is a nice product.  Purchased with 2 ...   \n",
      "3  8/26/23 Ok, so, this product won't power every...   \n",
      "4  ?East to carry, has a grounded plug, and can c...   \n",
      "\n",
      "                                               label  \n",
      "0  [(solar panels, Compatibility/adaptability, ea...  \n",
      "1  [(12v output, Output performance, very low, Ne...  \n",
      "2  [(3000 Pro, Product quality, nice product, Pos...  \n",
      "3  [(battery charge state, Battery capacity, depe...  \n",
      "4  [(carry, Portability, East to carry, Positive)...  \n",
      "v2 shape (89, 2) v2 sample                                       review_content  \\\n",
      "0  2 led lightbulbs barely 6 watts deleted batter...   \n",
      "1  300 Watts is not much. It is good enough for c...   \n",
      "2  After 3 years of very light use my Explorer 50...   \n",
      "3  After spending in the thousands for two solar ...   \n",
      "4  Although I love the jackery 500, and the solar...   \n",
      "\n",
      "                                               label  \n",
      "0  [(led lightbulbs, Battery capacity, deleted ba...  \n",
      "1  [(low wattage devices, Overall output performa...  \n",
      "2  [(Explorer 500, Product quality, failed, Negat...  \n",
      "3  [(cables, Charging accessories, overcharge, Ne...  \n",
      "4  [(solar panel, Solar panel proofings, non wate...  \n",
      "<< aspect category number:  aspect_category\n",
      "Accessory prices                      1\n",
      "App interactive control experience    1\n",
      "App interface design                  1\n",
      "Appearance design                     1\n",
      "Battery capacity                      1\n",
      "                                     ..\n",
      "Trade-in policy                       1\n",
      "User manual                           1\n",
      "Waterproof                            1\n",
      "Wireless charging                     1\n",
      "Workmanship craftsmanship             1\n",
      "Name: aspect_category, Length: 70, dtype: int64\n",
      "number of rows label is null 0\n",
      "training size:  (2275, 2)\n",
      "test size:  (37, 2)\n",
      "validate size:  (37, 2)\n",
      "<<<finish data preparing!\n"
     ]
    }
   ],
   "source": [
    "def get_key():\n",
    "    category_list = pd.read_excel('../../data/GPT预打标20231023.xlsx', sheet_name='标签释义1012',header=1)\n",
    "    key = list(category_list['三级指标 (En)'])\n",
    "    value = list(category_list['三级指标 GPT翻译'])\n",
    "    key = [x.capitalize() for x in key]\n",
    "    value = [x.capitalize() for x in value]\n",
    "    keydict = dict(zip(key, value))\n",
    "    return keydict, value, key\n",
    "\n",
    "#preprocess data\n",
    "def write_txt(df,path):\n",
    "    '''\n",
    "    write back to txt\n",
    "    '''\n",
    "    #output txt file\n",
    "    df = df.reset_index()\n",
    "    with open(path,'a')as f:\n",
    "        for i in range(len(df)):\n",
    "            f.write(\"{} #### {}\".format(df.loc[i,'review_content'].strip(),df.loc[i,'label']))\n",
    "            f.write('\\n')\n",
    "            \n",
    "            \n",
    "def mkdir_rm(folder):\n",
    "    '''\n",
    "    make directory if not exists\n",
    "    '''\n",
    "    if os.path.exists(folder):\n",
    "        shutil.rmtree(folder) \n",
    "    os.mkdir(folder)\n",
    "    print (\"<< path valid!\")\n",
    "    \n",
    "def get_label(row):\n",
    "    try:\n",
    "        if pd.isna(row['Remark']):\n",
    "            return (str(row['aspect_term']),str(row['aspect_category']),str(row['opinion_term']),str(row['sentiment_polarity']))\n",
    "        elif row['Remark']=='改':\n",
    "            return (str(row['x1']),str(row['x2']),str(row['x3']),str(row['x4']))  \n",
    "        elif row['Remark']=='修改':\n",
    "            return (str(row['x1']),str(row['x2']),str(row['x3']),str(row['x4']))\n",
    "    except:\n",
    "        return (str(row['aspect_term']),str(row['aspect_category']),str(row['opinion_term']),str(row['sentiment_polarity']))\n",
    "\n",
    "def convert_key(x, key_dict, values, keys):\n",
    "    if x in values:\n",
    "        return x\n",
    "    elif x in keys:\n",
    "        return key_dict[x]\n",
    "    else:\n",
    "        return 'wrong'\n",
    "    \n",
    "def get_data(sheet):\n",
    "    jsonObj = pd.read_excel('../../data/GPT预打标20231023.xlsx', sheet_name=sheet)\n",
    "    jsonObj['review_content'] = jsonObj['review_content'].fillna(method='ffill')\n",
    "    jsonObj = jsonObj[-jsonObj['review_content'].isnull()]\n",
    "    jsonObj['review_content'] = jsonObj['review_content'].apply(lambda x: x.replace('\\n',' '))\n",
    "    #print (jsonObj.head())\n",
    "     \n",
    "    #readjust key\n",
    "    key_dict, values, keys = get_key()\n",
    "    #capitalize\n",
    "    jsonObj['aspect_category'] = jsonObj['aspect_category'].map(lambda x: str(x).capitalize())\n",
    "    #map\n",
    "    jsonObj['aspect_category'] = jsonObj['aspect_category'].map(lambda x:convert_key(x, key_dict, values, keys))\n",
    "    jsonObj = jsonObj[jsonObj['aspect_category']!='wrong']\n",
    "    \n",
    "    #print (jsonObj.head())\n",
    "    print (\"<< aspect category number: \", jsonObj.groupby('aspect_category')['aspect_category'].nunique())\n",
    "    \n",
    "    #generate label \n",
    "    #jsonObj['label'] = jsonObj.apply(lambda row: (str(row['aspect_term']),str(row['aspect_category']),str(row['opinion_term']),str(row['sentiment_polarity'])), axis=1)\n",
    "    jsonObj['label'] = jsonObj.apply(lambda row: get_label(row), axis=1)\n",
    "    \n",
    "    jsonObj = jsonObj[['review_content','label']]\n",
    "    \n",
    "    #print (jsonObj.head())\n",
    "    print (\"number of rows label is null\", len(jsonObj[jsonObj['label'].isnull()]))\n",
    "    jsonObj = jsonObj[-jsonObj['label'].isnull()]\n",
    "    \n",
    "    #agg label\n",
    "    jsonObj_grouped = jsonObj.groupby('review_content')['label'].apply(list).reset_index()\n",
    "    return jsonObj_grouped\n",
    "\n",
    "def preprocess_data(output_path,over_sample=True):  \n",
    "    #remove & remake the output folder \n",
    "    mkdir_rm(output_path)\n",
    "    \n",
    "    #get data\n",
    "    dfv1 = get_data('US-10-13-（刘莎-展诚-Nick）')\n",
    "    dfv2 = get_data('3星及以下（145）-产品核验-标注-1007')\n",
    "    \n",
    "    print (\"v1 shape {}, v1 sample {}\".format(dfv1.shape,dfv1.head()))\n",
    "    print (\"v2 shape {} v2 sample {}\".format(dfv2.shape,dfv2.head()))\n",
    "    \n",
    "    result = pd.concat([dfv1,dfv2])\n",
    "    \n",
    "    #train/test/val split\n",
    "    train, validate, test = np.split(result.sample(frac=1), [int(.8*len(result)), int(.9*len(result))])\n",
    "    \n",
    "    #concat 2000\n",
    "    df = get_data_direct('../../data/GPT打标（带描述）-Jackie.xlsx')\n",
    "    train = pd.concat([df,train])\n",
    "   \n",
    "    print (\"training size: \",train.shape)\n",
    "    print (\"test size: \",test.shape)\n",
    "    print (\"validate size: \",validate.shape)\n",
    "    \n",
    "    # write train/test/dev\n",
    "    write_txt(train,os.path.join(output_path,'train.txt'))\n",
    "    write_txt(test,os.path.join(output_path,'test.txt'))\n",
    "    write_txt(validate,os.path.join(output_path,'dev.txt'))\n",
    "    print (\"<<<finish data preparing!\")\n",
    "    \n",
    "output_path = './data/tasd/huabao1030'\n",
    "preprocess_data(output_path,over_sample=False)"
   ]
  },
  {
   "cell_type": "markdown",
   "id": "45e8b88a",
   "metadata": {},
   "source": [
    "# train"
   ]
  },
  {
   "cell_type": "code",
   "execution_count": 60,
   "id": "cc98f1ef",
   "metadata": {
    "tags": []
   },
   "outputs": [
    {
     "name": "stderr",
     "output_type": "stream",
     "text": [
      "INFO:botocore.credentials:Found credentials from IAM Role: BaseNotebookInstanceEc2InstanceRole\n",
      "INFO:botocore.credentials:Found credentials from IAM Role: BaseNotebookInstanceEc2InstanceRole\n"
     ]
    }
   ],
   "source": [
    "sess = sage.Session()\n",
    "\n",
    "WORK_DIRECTORY = \"./data\"\n",
    "\n",
    "# S3 prefix\n",
    "prefix = \"huabao1030\"\n",
    "\n",
    "role = get_execution_role()\n",
    "\n",
    "data_location = sess.upload_data(WORK_DIRECTORY, key_prefix=prefix)"
   ]
  },
  {
   "cell_type": "code",
   "execution_count": 61,
   "id": "ad8217bf",
   "metadata": {
    "tags": []
   },
   "outputs": [],
   "source": [
    "hyperparameters = {\n",
    "    \"task\" : \"tasd\", \n",
    "    \"dataset\" : \"huabao1030\", \n",
    "    \"model_name_or_path\" : \"t5-large\", \n",
    "    \"paradigm\": \"extraction\",\n",
    "    \"eval_batch_size\" :\"16\",\n",
    "    \"train_batch_size\" :\"32\",\n",
    "    \"learning_rate\" :\"3e-4\",\n",
    "    \"num_train_epochs\":\"10\",\n",
    "    \"n_gpu\": \"0\",\n",
    "    \"do_direct_eval\":True\n",
    "}"
   ]
  },
  {
   "cell_type": "code",
   "execution_count": 62,
   "id": "e57c624c",
   "metadata": {
    "tags": []
   },
   "outputs": [
    {
     "name": "stderr",
     "output_type": "stream",
     "text": [
      "INFO:botocore.credentials:Found credentials from IAM Role: BaseNotebookInstanceEc2InstanceRole\n"
     ]
    }
   ],
   "source": [
    "entry_point = 'finetune.py'\n",
    "source_dir = './'\n",
    "git_config = None\n",
    "role = get_execution_role()\n",
    "framework_version = '1.7.1'\n",
    "py_version='py36'\n",
    "instance_type='ml.g5.4xlarge'\n",
    "#instance_type='local_gpu'\n",
    "instance_count=1"
   ]
  },
  {
   "cell_type": "code",
   "execution_count": 63,
   "id": "9da75950",
   "metadata": {
    "tags": []
   },
   "outputs": [
    {
     "name": "stderr",
     "output_type": "stream",
     "text": [
      "INFO:botocore.credentials:Found credentials from IAM Role: BaseNotebookInstanceEc2InstanceRole\n"
     ]
    }
   ],
   "source": [
    "estimator = PyTorch(\n",
    "    entry_point = entry_point,\n",
    "    source_dir = source_dir,\n",
    "    git_config = git_config,\n",
    "    role = role,\n",
    "    debugger_hook_config=False,\n",
    "    hyperparameters = hyperparameters,\n",
    "    framework_version = framework_version, \n",
    "    py_version = py_version,\n",
    "    instance_type = instance_type,\n",
    "    instance_count = instance_count\n",
    ")"
   ]
  },
  {
   "cell_type": "code",
   "execution_count": 52,
   "id": "bb878c25",
   "metadata": {
    "tags": []
   },
   "outputs": [],
   "source": [
    "inputs = {'tasd': data_location+'/tasd/'}"
   ]
  },
  {
   "cell_type": "code",
   "execution_count": 64,
   "id": "55db366a",
   "metadata": {
    "tags": []
   },
   "outputs": [
    {
     "name": "stdout",
     "output_type": "stream",
     "text": [
      "Using provided s3_resource\n"
     ]
    },
    {
     "name": "stderr",
     "output_type": "stream",
     "text": [
      "INFO:sagemaker.image_uris:image_uri is not presented, retrieving image_uri based on instance_type, framework etc.\n",
      "INFO:sagemaker:Creating training-job with name: level3-test-20-t5large-1030-add2000-v4\n"
     ]
    },
    {
     "name": "stdout",
     "output_type": "stream",
     "text": [
      "2023-10-30 13:35:54 Starting - Starting the training job...\n",
      "2023-10-30 13:36:10 Starting - Preparing the instances for training.........\n",
      "2023-10-30 13:37:47 Downloading - Downloading input data\n",
      "2023-10-30 13:37:47 Training - Downloading the training image..................\n",
      "2023-10-30 13:40:28 Training - Training image download completed. Training in progress....\u001b[34mbash: cannot set terminal process group (-1): Inappropriate ioctl for device\u001b[0m\n",
      "\u001b[34mbash: no job control in this shell\u001b[0m\n",
      "\u001b[34m2023-10-30 13:41:11,845 sagemaker-training-toolkit INFO     Imported framework sagemaker_pytorch_container.training\u001b[0m\n",
      "\u001b[34m2023-10-30 13:41:11,870 sagemaker_pytorch_container.training INFO     Block until all host DNS lookups succeed.\u001b[0m\n",
      "\u001b[34m2023-10-30 13:41:11,872 sagemaker_pytorch_container.training INFO     Invoking user training script.\u001b[0m\n",
      "\u001b[34m2023-10-30 13:41:12,420 sagemaker-training-toolkit INFO     Installing dependencies from requirements.txt:\u001b[0m\n",
      "\u001b[34m/opt/conda/bin/python3.6 -m pip install -r requirements.txt\u001b[0m\n",
      "\u001b[34mCollecting transformers==4.6.0\n",
      "  Downloading transformers-4.6.0-py3-none-any.whl (2.3 MB)\u001b[0m\n",
      "\u001b[34mCollecting datasets==1.11.0\n",
      "  Downloading datasets-1.11.0-py3-none-any.whl (264 kB)\u001b[0m\n",
      "\u001b[34mCollecting sentencepiece==0.1.91\n",
      "  Downloading sentencepiece-0.1.91-cp36-cp36m-manylinux1_x86_64.whl (1.1 MB)\u001b[0m\n",
      "\u001b[34mCollecting pytorch_lightning==0.8.1\n",
      "  Downloading pytorch_lightning-0.8.1-py3-none-any.whl (293 kB)\u001b[0m\n",
      "\u001b[34mCollecting jieba\n",
      "  Downloading jieba-0.42.1.tar.gz (19.2 MB)\u001b[0m\n",
      "\u001b[34mCollecting editdistance\n",
      "  Downloading editdistance-0.6.2-cp36-cp36m-manylinux_2_17_x86_64.manylinux2014_x86_64.whl (281 kB)\u001b[0m\n",
      "\u001b[34mRequirement already satisfied: importlib-metadata in /opt/conda/lib/python3.6/site-packages (from transformers==4.6.0->-r requirements.txt (line 1)) (4.0.1)\u001b[0m\n",
      "\u001b[34mCollecting filelock\n",
      "  Downloading filelock-3.4.1-py3-none-any.whl (9.9 kB)\u001b[0m\n",
      "\u001b[34mRequirement already satisfied: requests in /opt/conda/lib/python3.6/site-packages (from transformers==4.6.0->-r requirements.txt (line 1)) (2.25.1)\u001b[0m\n",
      "\u001b[34mRequirement already satisfied: dataclasses in /opt/conda/lib/python3.6/site-packages (from transformers==4.6.0->-r requirements.txt (line 1)) (0.8)\u001b[0m\n",
      "\u001b[34mCollecting sacremoses\n",
      "  Downloading sacremoses-0.0.53.tar.gz (880 kB)\u001b[0m\n",
      "\u001b[34mCollecting regex!=2019.12.17\n",
      "  Downloading regex-2023.8.8-cp36-cp36m-manylinux_2_17_x86_64.manylinux2014_x86_64.whl (759 kB)\u001b[0m\n",
      "\u001b[34mRequirement already satisfied: packaging in /opt/conda/lib/python3.6/site-packages (from transformers==4.6.0->-r requirements.txt (line 1)) (20.9)\u001b[0m\n",
      "\u001b[34mCollecting huggingface-hub==0.0.8\n",
      "  Downloading huggingface_hub-0.0.8-py3-none-any.whl (34 kB)\u001b[0m\n",
      "\u001b[34mCollecting tokenizers<0.11,>=0.10.1\n",
      "  Downloading tokenizers-0.10.3-cp36-cp36m-manylinux_2_5_x86_64.manylinux1_x86_64.manylinux_2_12_x86_64.manylinux2010_x86_64.whl (3.3 MB)\u001b[0m\n",
      "\u001b[34mRequirement already satisfied: numpy>=1.17 in /opt/conda/lib/python3.6/site-packages (from transformers==4.6.0->-r requirements.txt (line 1)) (1.19.1)\u001b[0m\n",
      "\u001b[34mRequirement already satisfied: tqdm>=4.27 in /opt/conda/lib/python3.6/site-packages (from transformers==4.6.0->-r requirements.txt (line 1)) (4.51.0)\u001b[0m\n",
      "\u001b[34mRequirement already satisfied: dill in /opt/conda/lib/python3.6/site-packages (from datasets==1.11.0->-r requirements.txt (line 2)) (0.3.3)\u001b[0m\n",
      "\u001b[34mCollecting xxhash\n",
      "  Downloading xxhash-3.2.0-cp36-cp36m-manylinux_2_17_x86_64.manylinux2014_x86_64.whl (211 kB)\u001b[0m\n",
      "\u001b[34mRequirement already satisfied: multiprocess in /opt/conda/lib/python3.6/site-packages (from datasets==1.11.0->-r requirements.txt (line 2)) (0.70.11.1)\u001b[0m\n",
      "\u001b[34mRequirement already satisfied: fsspec>=2021.05.0 in /opt/conda/lib/python3.6/site-packages (from datasets==1.11.0->-r requirements.txt (line 2)) (2021.5.0)\u001b[0m\n",
      "\u001b[34mRequirement already satisfied: pandas in /opt/conda/lib/python3.6/site-packages (from datasets==1.11.0->-r requirements.txt (line 2)) (1.1.5)\u001b[0m\n",
      "\u001b[34mCollecting pyarrow!=4.0.0,>=1.0.0\n",
      "  Downloading pyarrow-6.0.1-cp36-cp36m-manylinux_2_17_x86_64.manylinux2014_x86_64.whl (25.6 MB)\u001b[0m\n",
      "\u001b[34mCollecting tensorboard>=1.14\n",
      "  Downloading tensorboard-2.10.1-py3-none-any.whl (5.9 MB)\u001b[0m\n",
      "\u001b[34mRequirement already satisfied: future>=0.17.1 in /opt/conda/lib/python3.6/site-packages (from pytorch_lightning==0.8.1->-r requirements.txt (line 4)) (0.18.2)\u001b[0m\n",
      "\u001b[34mRequirement already satisfied: torch>=1.3 in /opt/conda/lib/python3.6/site-packages (from pytorch_lightning==0.8.1->-r requirements.txt (line 4)) (1.7.1)\u001b[0m\n",
      "\u001b[34mRequirement already satisfied: PyYAML>=5.1 in /opt/conda/lib/python3.6/site-packages (from pytorch_lightning==0.8.1->-r requirements.txt (line 4)) (5.4.1)\u001b[0m\n",
      "\u001b[34mRequirement already satisfied: certifi>=2017.4.17 in /opt/conda/lib/python3.6/site-packages (from requests->transformers==4.6.0->-r requirements.txt (line 1)) (2020.12.5)\u001b[0m\n",
      "\u001b[34mRequirement already satisfied: urllib3<1.27,>=1.21.1 in /opt/conda/lib/python3.6/site-packages (from requests->transformers==4.6.0->-r requirements.txt (line 1)) (1.25.11)\u001b[0m\n",
      "\u001b[34mRequirement already satisfied: chardet<5,>=3.0.2 in /opt/conda/lib/python3.6/site-packages (from requests->transformers==4.6.0->-r requirements.txt (line 1)) (3.0.4)\u001b[0m\n",
      "\u001b[34mRequirement already satisfied: idna<3,>=2.5 in /opt/conda/lib/python3.6/site-packages (from requests->transformers==4.6.0->-r requirements.txt (line 1)) (2.10)\u001b[0m\n",
      "\u001b[34mCollecting tensorboard-plugin-wit>=1.6.0\n",
      "  Downloading tensorboard_plugin_wit-1.8.1-py3-none-any.whl (781 kB)\u001b[0m\n",
      "\u001b[34mCollecting google-auth<3,>=1.6.3\n",
      "  Downloading google_auth-2.22.0-py2.py3-none-any.whl (181 kB)\u001b[0m\n",
      "\u001b[34mCollecting google-auth-oauthlib<0.5,>=0.4.1\n",
      "  Downloading google_auth_oauthlib-0.4.6-py2.py3-none-any.whl (18 kB)\u001b[0m\n",
      "\u001b[34mCollecting absl-py>=0.4\n",
      "  Downloading absl_py-1.4.0-py3-none-any.whl (126 kB)\u001b[0m\n",
      "\u001b[34mRequirement already satisfied: werkzeug>=1.0.1 in /opt/conda/lib/python3.6/site-packages (from tensorboard>=1.14->pytorch_lightning==0.8.1->-r requirements.txt (line 4)) (2.0.1)\u001b[0m\n",
      "\u001b[34mRequirement already satisfied: wheel>=0.26 in /opt/conda/lib/python3.6/site-packages (from tensorboard>=1.14->pytorch_lightning==0.8.1->-r requirements.txt (line 4)) (0.35.1)\u001b[0m\n",
      "\u001b[34mRequirement already satisfied: protobuf<3.20,>=3.9.2 in /opt/conda/lib/python3.6/site-packages (from tensorboard>=1.14->pytorch_lightning==0.8.1->-r requirements.txt (line 4)) (3.17.1)\u001b[0m\n",
      "\u001b[34mCollecting tensorboard-data-server<0.7.0,>=0.6.0\n",
      "  Downloading tensorboard_data_server-0.6.1-py3-none-manylinux2010_x86_64.whl (4.9 MB)\u001b[0m\n",
      "\u001b[34mRequirement already satisfied: setuptools>=41.0.0 in /opt/conda/lib/python3.6/site-packages (from tensorboard>=1.14->pytorch_lightning==0.8.1->-r requirements.txt (line 4)) (49.6.0.post20210108)\u001b[0m\n",
      "\u001b[34mCollecting markdown>=2.6.8\n",
      "  Downloading Markdown-3.3.7-py3-none-any.whl (97 kB)\u001b[0m\n",
      "\u001b[34mCollecting grpcio>=1.24.3\n",
      "  Downloading grpcio-1.48.2-cp36-cp36m-manylinux_2_17_x86_64.manylinux2014_x86_64.whl (4.6 MB)\u001b[0m\n",
      "\u001b[34mCollecting pyasn1-modules>=0.2.1\n",
      "  Downloading pyasn1_modules-0.3.0-py2.py3-none-any.whl (181 kB)\u001b[0m\n",
      "\u001b[34mRequirement already satisfied: six>=1.9.0 in /opt/conda/lib/python3.6/site-packages (from google-auth<3,>=1.6.3->tensorboard>=1.14->pytorch_lightning==0.8.1->-r requirements.txt (line 4)) (1.16.0)\u001b[0m\n",
      "\u001b[34mRequirement already satisfied: rsa<5,>=3.1.4 in /opt/conda/lib/python3.6/site-packages (from google-auth<3,>=1.6.3->tensorboard>=1.14->pytorch_lightning==0.8.1->-r requirements.txt (line 4)) (4.7.2)\u001b[0m\n",
      "\u001b[34mCollecting cachetools<6.0,>=2.0.0\n",
      "  Downloading cachetools-4.2.4-py3-none-any.whl (10 kB)\u001b[0m\n",
      "\u001b[34mCollecting requests-oauthlib>=0.7.0\n",
      "  Downloading requests_oauthlib-1.3.1-py2.py3-none-any.whl (23 kB)\u001b[0m\n",
      "\u001b[34mCollecting importlib-metadata\n",
      "  Downloading importlib_metadata-4.8.3-py3-none-any.whl (17 kB)\u001b[0m\n",
      "\u001b[34mRequirement already satisfied: zipp>=0.5 in /opt/conda/lib/python3.6/site-packages (from importlib-metadata->transformers==4.6.0->-r requirements.txt (line 1)) (3.4.1)\u001b[0m\n",
      "\u001b[34mRequirement already satisfied: typing-extensions>=3.6.4 in /opt/conda/lib/python3.6/site-packages (from importlib-metadata->transformers==4.6.0->-r requirements.txt (line 1)) (3.10.0.0)\u001b[0m\n",
      "\u001b[34mRequirement already satisfied: pyasn1<0.6.0,>=0.4.6 in /opt/conda/lib/python3.6/site-packages (from pyasn1-modules>=0.2.1->google-auth<3,>=1.6.3->tensorboard>=1.14->pytorch_lightning==0.8.1->-r requirements.txt (line 4)) (0.4.8)\u001b[0m\n",
      "\u001b[34mCollecting oauthlib>=3.0.0\n",
      "  Downloading oauthlib-3.2.2-py3-none-any.whl (151 kB)\u001b[0m\n",
      "\u001b[34mRequirement already satisfied: pyparsing>=2.0.2 in /opt/conda/lib/python3.6/site-packages (from packaging->transformers==4.6.0->-r requirements.txt (line 1)) (2.4.7)\u001b[0m\n",
      "\u001b[34mRequirement already satisfied: python-dateutil>=2.7.3 in /opt/conda/lib/python3.6/site-packages (from pandas->datasets==1.11.0->-r requirements.txt (line 2)) (2.8.1)\u001b[0m\n",
      "\u001b[34mRequirement already satisfied: pytz>=2017.2 in /opt/conda/lib/python3.6/site-packages (from pandas->datasets==1.11.0->-r requirements.txt (line 2)) (2021.1)\u001b[0m\n",
      "\u001b[34mRequirement already satisfied: click in /opt/conda/lib/python3.6/site-packages (from sacremoses->transformers==4.6.0->-r requirements.txt (line 1)) (7.1.2)\u001b[0m\n",
      "\u001b[34mRequirement already satisfied: joblib in /opt/conda/lib/python3.6/site-packages (from sacremoses->transformers==4.6.0->-r requirements.txt (line 1)) (1.0.1)\u001b[0m\n",
      "\u001b[34mBuilding wheels for collected packages: jieba, sacremoses\n",
      "  Building wheel for jieba (setup.py): started\u001b[0m\n",
      "\u001b[34m  Building wheel for jieba (setup.py): finished with status 'done'\n",
      "  Created wheel for jieba: filename=jieba-0.42.1-py3-none-any.whl size=19314478 sha256=c8ffc6d5bfd98ac8420efc0ab2b9d7e3cfb962f755d22cf1f339cd1fd32d8b51\n",
      "  Stored in directory: /root/.cache/pip/wheels/17/a7/8b/a7e03881534e78558920ac68aaeca05180c0e2c3d11c4fce3b\n",
      "  Building wheel for sacremoses (setup.py): started\n",
      "  Building wheel for sacremoses (setup.py): finished with status 'done'\n",
      "  Created wheel for sacremoses: filename=sacremoses-0.0.53-py3-none-any.whl size=895252 sha256=3533927f5beade6eedf729a9d96a252509803940325b7c78737917164c9f5c1c\n",
      "  Stored in directory: /root/.cache/pip/wheels/4c/64/31/e9900a234b23fb3e9dc565d6114a9d6ff84a72dbdd356502b4\u001b[0m\n",
      "\u001b[34mSuccessfully built jieba sacremoses\u001b[0m\n",
      "\u001b[34mInstalling collected packages: pyasn1-modules, oauthlib, cachetools, requests-oauthlib, importlib-metadata, google-auth, tensorboard-plugin-wit, tensorboard-data-server, regex, markdown, grpcio, google-auth-oauthlib, filelock, absl-py, xxhash, tokenizers, tensorboard, sacremoses, pyarrow, huggingface-hub, transformers, sentencepiece, pytorch-lightning, jieba, editdistance, datasets\u001b[0m\n",
      "\u001b[34m  Attempting uninstall: importlib-metadata\n",
      "    Found existing installation: importlib-metadata 4.0.1\n",
      "    Uninstalling importlib-metadata-4.0.1:\n",
      "      Successfully uninstalled importlib-metadata-4.0.1\u001b[0m\n",
      "\u001b[34m  Attempting uninstall: pyarrow\n",
      "    Found existing installation: pyarrow 4.0.0\n",
      "    Uninstalling pyarrow-4.0.0:\n",
      "      Successfully uninstalled pyarrow-4.0.0\u001b[0m\n",
      "\u001b[34mSuccessfully installed absl-py-1.4.0 cachetools-4.2.4 datasets-1.11.0 editdistance-0.6.2 filelock-3.4.1 google-auth-2.22.0 google-auth-oauthlib-0.4.6 grpcio-1.48.2 huggingface-hub-0.0.8 importlib-metadata-4.8.3 jieba-0.42.1 markdown-3.3.7 oauthlib-3.2.2 pyarrow-6.0.1 pyasn1-modules-0.3.0 pytorch-lightning-0.8.1 regex-2023.8.8 requests-oauthlib-1.3.1 sacremoses-0.0.53 sentencepiece-0.1.91 tensorboard-2.10.1 tensorboard-data-server-0.6.1 tensorboard-plugin-wit-1.8.1 tokenizers-0.10.3 transformers-4.6.0 xxhash-3.2.0\u001b[0m\n",
      "\u001b[34mWARNING: Running pip as root will break packages and permissions. You should install packages reliably by using venv: https://pip.pypa.io/warnings/venv\u001b[0m\n",
      "\u001b[34m2023-10-30 13:41:31,232 sagemaker-training-toolkit INFO     Invoking user script\u001b[0m\n",
      "\u001b[34mTraining Env:\u001b[0m\n",
      "\u001b[34m{\n",
      "    \"additional_framework_parameters\": {},\n",
      "    \"channel_input_dirs\": {\n",
      "        \"tasd\": \"/opt/ml/input/data/tasd\"\n",
      "    },\n",
      "    \"current_host\": \"algo-1\",\n",
      "    \"framework_module\": \"sagemaker_pytorch_container.training:main\",\n",
      "    \"hosts\": [\n",
      "        \"algo-1\"\n",
      "    ],\n",
      "    \"hyperparameters\": {\n",
      "        \"dataset\": \"huabao1030\",\n",
      "        \"do_direct_eval\": true,\n",
      "        \"eval_batch_size\": \"16\",\n",
      "        \"learning_rate\": \"3e-4\",\n",
      "        \"model_name_or_path\": \"t5-large\",\n",
      "        \"n_gpu\": \"0\",\n",
      "        \"num_train_epochs\": \"10\",\n",
      "        \"paradigm\": \"extraction\",\n",
      "        \"task\": \"tasd\",\n",
      "        \"train_batch_size\": \"32\"\n",
      "    },\n",
      "    \"input_config_dir\": \"/opt/ml/input/config\",\n",
      "    \"input_data_config\": {\n",
      "        \"tasd\": {\n",
      "            \"TrainingInputMode\": \"File\",\n",
      "            \"S3DistributionType\": \"FullyReplicated\",\n",
      "            \"RecordWrapperType\": \"None\"\n",
      "        }\n",
      "    },\n",
      "    \"input_dir\": \"/opt/ml/input\",\n",
      "    \"is_master\": true,\n",
      "    \"job_name\": \"level3-test-20-t5large-1030-add2000-v4\",\n",
      "    \"log_level\": 20,\n",
      "    \"master_hostname\": \"algo-1\",\n",
      "    \"model_dir\": \"/opt/ml/model\",\n",
      "    \"module_dir\": \"s3://sagemaker-us-west-2-726335585155/level3-test-20-t5large-1030-add2000-v4/source/sourcedir.tar.gz\",\n",
      "    \"module_name\": \"finetune\",\n",
      "    \"network_interface_name\": \"eth0\",\n",
      "    \"num_cpus\": 16,\n",
      "    \"num_gpus\": 1,\n",
      "    \"output_data_dir\": \"/opt/ml/output/data\",\n",
      "    \"output_dir\": \"/opt/ml/output\",\n",
      "    \"output_intermediate_dir\": \"/opt/ml/output/intermediate\",\n",
      "    \"resource_config\": {\n",
      "        \"current_host\": \"algo-1\",\n",
      "        \"current_instance_type\": \"ml.g5.4xlarge\",\n",
      "        \"current_group_name\": \"homogeneousCluster\",\n",
      "        \"hosts\": [\n",
      "            \"algo-1\"\n",
      "        ],\n",
      "        \"instance_groups\": [\n",
      "            {\n",
      "                \"instance_group_name\": \"homogeneousCluster\",\n",
      "                \"instance_type\": \"ml.g5.4xlarge\",\n",
      "                \"hosts\": [\n",
      "                    \"algo-1\"\n",
      "                ]\n",
      "            }\n",
      "        ],\n",
      "        \"network_interface_name\": \"eth0\"\n",
      "    },\n",
      "    \"user_entry_point\": \"finetune.py\"\u001b[0m\n",
      "\u001b[34m}\u001b[0m\n",
      "\u001b[34mEnvironment variables:\u001b[0m\n",
      "\u001b[34mSM_HOSTS=[\"algo-1\"]\u001b[0m\n",
      "\u001b[34mSM_NETWORK_INTERFACE_NAME=eth0\u001b[0m\n",
      "\u001b[34mSM_HPS={\"dataset\":\"huabao1030\",\"do_direct_eval\":true,\"eval_batch_size\":\"16\",\"learning_rate\":\"3e-4\",\"model_name_or_path\":\"t5-large\",\"n_gpu\":\"0\",\"num_train_epochs\":\"10\",\"paradigm\":\"extraction\",\"task\":\"tasd\",\"train_batch_size\":\"32\"}\u001b[0m\n",
      "\u001b[34mSM_USER_ENTRY_POINT=finetune.py\u001b[0m\n",
      "\u001b[34mSM_FRAMEWORK_PARAMS={}\u001b[0m\n",
      "\u001b[34mSM_RESOURCE_CONFIG={\"current_group_name\":\"homogeneousCluster\",\"current_host\":\"algo-1\",\"current_instance_type\":\"ml.g5.4xlarge\",\"hosts\":[\"algo-1\"],\"instance_groups\":[{\"hosts\":[\"algo-1\"],\"instance_group_name\":\"homogeneousCluster\",\"instance_type\":\"ml.g5.4xlarge\"}],\"network_interface_name\":\"eth0\"}\u001b[0m\n",
      "\u001b[34mSM_INPUT_DATA_CONFIG={\"tasd\":{\"RecordWrapperType\":\"None\",\"S3DistributionType\":\"FullyReplicated\",\"TrainingInputMode\":\"File\"}}\u001b[0m\n",
      "\u001b[34mSM_OUTPUT_DATA_DIR=/opt/ml/output/data\u001b[0m\n",
      "\u001b[34mSM_CHANNELS=[\"tasd\"]\u001b[0m\n",
      "\u001b[34mSM_CURRENT_HOST=algo-1\u001b[0m\n",
      "\u001b[34mSM_MODULE_NAME=finetune\u001b[0m\n",
      "\u001b[34mSM_LOG_LEVEL=20\u001b[0m\n",
      "\u001b[34mSM_FRAMEWORK_MODULE=sagemaker_pytorch_container.training:main\u001b[0m\n",
      "\u001b[34mSM_INPUT_DIR=/opt/ml/input\u001b[0m\n",
      "\u001b[34mSM_INPUT_CONFIG_DIR=/opt/ml/input/config\u001b[0m\n",
      "\u001b[34mSM_OUTPUT_DIR=/opt/ml/output\u001b[0m\n",
      "\u001b[34mSM_NUM_CPUS=16\u001b[0m\n",
      "\u001b[34mSM_NUM_GPUS=1\u001b[0m\n",
      "\u001b[34mSM_MODEL_DIR=/opt/ml/model\u001b[0m\n",
      "\u001b[34mSM_MODULE_DIR=s3://sagemaker-us-west-2-726335585155/level3-test-20-t5large-1030-add2000-v4/source/sourcedir.tar.gz\u001b[0m\n",
      "\u001b[34mSM_TRAINING_ENV={\"additional_framework_parameters\":{},\"channel_input_dirs\":{\"tasd\":\"/opt/ml/input/data/tasd\"},\"current_host\":\"algo-1\",\"framework_module\":\"sagemaker_pytorch_container.training:main\",\"hosts\":[\"algo-1\"],\"hyperparameters\":{\"dataset\":\"huabao1030\",\"do_direct_eval\":true,\"eval_batch_size\":\"16\",\"learning_rate\":\"3e-4\",\"model_name_or_path\":\"t5-large\",\"n_gpu\":\"0\",\"num_train_epochs\":\"10\",\"paradigm\":\"extraction\",\"task\":\"tasd\",\"train_batch_size\":\"32\"},\"input_config_dir\":\"/opt/ml/input/config\",\"input_data_config\":{\"tasd\":{\"RecordWrapperType\":\"None\",\"S3DistributionType\":\"FullyReplicated\",\"TrainingInputMode\":\"File\"}},\"input_dir\":\"/opt/ml/input\",\"is_master\":true,\"job_name\":\"level3-test-20-t5large-1030-add2000-v4\",\"log_level\":20,\"master_hostname\":\"algo-1\",\"model_dir\":\"/opt/ml/model\",\"module_dir\":\"s3://sagemaker-us-west-2-726335585155/level3-test-20-t5large-1030-add2000-v4/source/sourcedir.tar.gz\",\"module_name\":\"finetune\",\"network_interface_name\":\"eth0\",\"num_cpus\":16,\"num_gpus\":1,\"output_data_dir\":\"/opt/ml/output/data\",\"output_dir\":\"/opt/ml/output\",\"output_intermediate_dir\":\"/opt/ml/output/intermediate\",\"resource_config\":{\"current_group_name\":\"homogeneousCluster\",\"current_host\":\"algo-1\",\"current_instance_type\":\"ml.g5.4xlarge\",\"hosts\":[\"algo-1\"],\"instance_groups\":[{\"hosts\":[\"algo-1\"],\"instance_group_name\":\"homogeneousCluster\",\"instance_type\":\"ml.g5.4xlarge\"}],\"network_interface_name\":\"eth0\"},\"user_entry_point\":\"finetune.py\"}\u001b[0m\n",
      "\u001b[34mSM_USER_ARGS=[\"--dataset\",\"huabao1030\",\"--do_direct_eval\",\"True\",\"--eval_batch_size\",\"16\",\"--learning_rate\",\"3e-4\",\"--model_name_or_path\",\"t5-large\",\"--n_gpu\",\"0\",\"--num_train_epochs\",\"10\",\"--paradigm\",\"extraction\",\"--task\",\"tasd\",\"--train_batch_size\",\"32\"]\u001b[0m\n",
      "\u001b[34mSM_OUTPUT_INTERMEDIATE_DIR=/opt/ml/output/intermediate\u001b[0m\n",
      "\u001b[34mSM_CHANNEL_TASD=/opt/ml/input/data/tasd\u001b[0m\n",
      "\u001b[34mSM_HP_DATASET=huabao1030\u001b[0m\n",
      "\u001b[34mSM_HP_DO_DIRECT_EVAL=true\u001b[0m\n",
      "\u001b[34mSM_HP_EVAL_BATCH_SIZE=16\u001b[0m\n",
      "\u001b[34mSM_HP_LEARNING_RATE=3e-4\u001b[0m\n",
      "\u001b[34mSM_HP_MODEL_NAME_OR_PATH=t5-large\u001b[0m\n",
      "\u001b[34mSM_HP_N_GPU=0\u001b[0m\n",
      "\u001b[34mSM_HP_NUM_TRAIN_EPOCHS=10\u001b[0m\n",
      "\u001b[34mSM_HP_PARADIGM=extraction\u001b[0m\n",
      "\u001b[34mSM_HP_TASK=tasd\u001b[0m\n",
      "\u001b[34mSM_HP_TRAIN_BATCH_SIZE=32\u001b[0m\n",
      "\u001b[34mPYTHONPATH=/opt/ml/code:/opt/conda/bin:/opt/conda/lib/python36.zip:/opt/conda/lib/python3.6:/opt/conda/lib/python3.6/lib-dynload:/opt/conda/lib/python3.6/site-packages\u001b[0m\n",
      "\u001b[34mInvoking script with the following command:\u001b[0m\n",
      "\u001b[34m/opt/conda/bin/python3.6 finetune.py --dataset huabao1030 --do_direct_eval True --eval_batch_size 16 --learning_rate 3e-4 --model_name_or_path t5-large --n_gpu 0 --num_train_epochs 10 --paradigm extraction --task tasd --train_batch_size 32\u001b[0m\n",
      "\u001b[34m/opt/ml/code\u001b[0m\n",
      "\u001b[34mRequirement already satisfied: transformers==4.6.0 in /opt/conda/lib/python3.6/site-packages (from -r requirements.txt (line 1)) (4.6.0)\u001b[0m\n",
      "\u001b[34mRequirement already satisfied: datasets==1.11.0 in /opt/conda/lib/python3.6/site-packages (from -r requirements.txt (line 2)) (1.11.0)\u001b[0m\n",
      "\u001b[34mRequirement already satisfied: sentencepiece==0.1.91 in /opt/conda/lib/python3.6/site-packages (from -r requirements.txt (line 3)) (0.1.91)\u001b[0m\n",
      "\u001b[34mRequirement already satisfied: pytorch_lightning==0.8.1 in /opt/conda/lib/python3.6/site-packages (from -r requirements.txt (line 4)) (0.8.1)\u001b[0m\n",
      "\u001b[34mRequirement already satisfied: jieba in /opt/conda/lib/python3.6/site-packages (from -r requirements.txt (line 5)) (0.42.1)\u001b[0m\n",
      "\u001b[34mRequirement already satisfied: editdistance in /opt/conda/lib/python3.6/site-packages (from -r requirements.txt (line 6)) (0.6.2)\u001b[0m\n",
      "\u001b[34mRequirement already satisfied: filelock in /opt/conda/lib/python3.6/site-packages (from transformers==4.6.0->-r requirements.txt (line 1)) (3.4.1)\u001b[0m\n",
      "\u001b[34mRequirement already satisfied: dataclasses in /opt/conda/lib/python3.6/site-packages (from transformers==4.6.0->-r requirements.txt (line 1)) (0.8)\u001b[0m\n",
      "\u001b[34mRequirement already satisfied: huggingface-hub==0.0.8 in /opt/conda/lib/python3.6/site-packages (from transformers==4.6.0->-r requirements.txt (line 1)) (0.0.8)\u001b[0m\n",
      "\u001b[34mRequirement already satisfied: importlib-metadata in /opt/conda/lib/python3.6/site-packages (from transformers==4.6.0->-r requirements.txt (line 1)) (4.8.3)\u001b[0m\n",
      "\u001b[34mRequirement already satisfied: packaging in /opt/conda/lib/python3.6/site-packages (from transformers==4.6.0->-r requirements.txt (line 1)) (20.9)\u001b[0m\n",
      "\u001b[34mRequirement already satisfied: requests in /opt/conda/lib/python3.6/site-packages (from transformers==4.6.0->-r requirements.txt (line 1)) (2.25.1)\u001b[0m\n",
      "\u001b[34mRequirement already satisfied: tokenizers<0.11,>=0.10.1 in /opt/conda/lib/python3.6/site-packages (from transformers==4.6.0->-r requirements.txt (line 1)) (0.10.3)\u001b[0m\n",
      "\u001b[34mRequirement already satisfied: regex!=2019.12.17 in /opt/conda/lib/python3.6/site-packages (from transformers==4.6.0->-r requirements.txt (line 1)) (2023.8.8)\u001b[0m\n",
      "\u001b[34mRequirement already satisfied: tqdm>=4.27 in /opt/conda/lib/python3.6/site-packages (from transformers==4.6.0->-r requirements.txt (line 1)) (4.51.0)\u001b[0m\n",
      "\u001b[34mRequirement already satisfied: numpy>=1.17 in /opt/conda/lib/python3.6/site-packages (from transformers==4.6.0->-r requirements.txt (line 1)) (1.19.1)\u001b[0m\n",
      "\u001b[34mRequirement already satisfied: sacremoses in /opt/conda/lib/python3.6/site-packages (from transformers==4.6.0->-r requirements.txt (line 1)) (0.0.53)\u001b[0m\n",
      "\u001b[34mRequirement already satisfied: xxhash in /opt/conda/lib/python3.6/site-packages (from datasets==1.11.0->-r requirements.txt (line 2)) (3.2.0)\u001b[0m\n",
      "\u001b[34mRequirement already satisfied: dill in /opt/conda/lib/python3.6/site-packages (from datasets==1.11.0->-r requirements.txt (line 2)) (0.3.3)\u001b[0m\n",
      "\u001b[34mRequirement already satisfied: multiprocess in /opt/conda/lib/python3.6/site-packages (from datasets==1.11.0->-r requirements.txt (line 2)) (0.70.11.1)\u001b[0m\n",
      "\u001b[34mRequirement already satisfied: pandas in /opt/conda/lib/python3.6/site-packages (from datasets==1.11.0->-r requirements.txt (line 2)) (1.1.5)\u001b[0m\n",
      "\u001b[34mRequirement already satisfied: fsspec>=2021.05.0 in /opt/conda/lib/python3.6/site-packages (from datasets==1.11.0->-r requirements.txt (line 2)) (2021.5.0)\u001b[0m\n",
      "\u001b[34mRequirement already satisfied: pyarrow!=4.0.0,>=1.0.0 in /opt/conda/lib/python3.6/site-packages (from datasets==1.11.0->-r requirements.txt (line 2)) (6.0.1)\u001b[0m\n",
      "\u001b[34mRequirement already satisfied: tensorboard>=1.14 in /opt/conda/lib/python3.6/site-packages (from pytorch_lightning==0.8.1->-r requirements.txt (line 4)) (2.10.1)\u001b[0m\n",
      "\u001b[34mRequirement already satisfied: torch>=1.3 in /opt/conda/lib/python3.6/site-packages (from pytorch_lightning==0.8.1->-r requirements.txt (line 4)) (1.7.1)\u001b[0m\n",
      "\u001b[34mRequirement already satisfied: future>=0.17.1 in /opt/conda/lib/python3.6/site-packages (from pytorch_lightning==0.8.1->-r requirements.txt (line 4)) (0.18.2)\u001b[0m\n",
      "\u001b[34mRequirement already satisfied: PyYAML>=5.1 in /opt/conda/lib/python3.6/site-packages (from pytorch_lightning==0.8.1->-r requirements.txt (line 4)) (5.4.1)\u001b[0m\n",
      "\u001b[34mRequirement already satisfied: chardet<5,>=3.0.2 in /opt/conda/lib/python3.6/site-packages (from requests->transformers==4.6.0->-r requirements.txt (line 1)) (3.0.4)\u001b[0m\n",
      "\u001b[34mRequirement already satisfied: idna<3,>=2.5 in /opt/conda/lib/python3.6/site-packages (from requests->transformers==4.6.0->-r requirements.txt (line 1)) (2.10)\u001b[0m\n",
      "\u001b[34mRequirement already satisfied: urllib3<1.27,>=1.21.1 in /opt/conda/lib/python3.6/site-packages (from requests->transformers==4.6.0->-r requirements.txt (line 1)) (1.25.11)\u001b[0m\n",
      "\u001b[34mRequirement already satisfied: certifi>=2017.4.17 in /opt/conda/lib/python3.6/site-packages (from requests->transformers==4.6.0->-r requirements.txt (line 1)) (2020.12.5)\u001b[0m\n",
      "\u001b[34mRequirement already satisfied: markdown>=2.6.8 in /opt/conda/lib/python3.6/site-packages (from tensorboard>=1.14->pytorch_lightning==0.8.1->-r requirements.txt (line 4)) (3.3.7)\u001b[0m\n",
      "\u001b[34mRequirement already satisfied: tensorboard-data-server<0.7.0,>=0.6.0 in /opt/conda/lib/python3.6/site-packages (from tensorboard>=1.14->pytorch_lightning==0.8.1->-r requirements.txt (line 4)) (0.6.1)\u001b[0m\n",
      "\u001b[34mRequirement already satisfied: werkzeug>=1.0.1 in /opt/conda/lib/python3.6/site-packages (from tensorboard>=1.14->pytorch_lightning==0.8.1->-r requirements.txt (line 4)) (2.0.1)\u001b[0m\n",
      "\u001b[34mRequirement already satisfied: absl-py>=0.4 in /opt/conda/lib/python3.6/site-packages (from tensorboard>=1.14->pytorch_lightning==0.8.1->-r requirements.txt (line 4)) (1.4.0)\u001b[0m\n",
      "\u001b[34mRequirement already satisfied: grpcio>=1.24.3 in /opt/conda/lib/python3.6/site-packages (from tensorboard>=1.14->pytorch_lightning==0.8.1->-r requirements.txt (line 4)) (1.48.2)\u001b[0m\n",
      "\u001b[34mRequirement already satisfied: google-auth<3,>=1.6.3 in /opt/conda/lib/python3.6/site-packages (from tensorboard>=1.14->pytorch_lightning==0.8.1->-r requirements.txt (line 4)) (2.22.0)\u001b[0m\n",
      "\u001b[34mRequirement already satisfied: setuptools>=41.0.0 in /opt/conda/lib/python3.6/site-packages (from tensorboard>=1.14->pytorch_lightning==0.8.1->-r requirements.txt (line 4)) (49.6.0.post20210108)\u001b[0m\n",
      "\u001b[34mRequirement already satisfied: wheel>=0.26 in /opt/conda/lib/python3.6/site-packages (from tensorboard>=1.14->pytorch_lightning==0.8.1->-r requirements.txt (line 4)) (0.35.1)\u001b[0m\n",
      "\u001b[34mRequirement already satisfied: protobuf<3.20,>=3.9.2 in /opt/conda/lib/python3.6/site-packages (from tensorboard>=1.14->pytorch_lightning==0.8.1->-r requirements.txt (line 4)) (3.17.1)\u001b[0m\n",
      "\u001b[34mRequirement already satisfied: tensorboard-plugin-wit>=1.6.0 in /opt/conda/lib/python3.6/site-packages (from tensorboard>=1.14->pytorch_lightning==0.8.1->-r requirements.txt (line 4)) (1.8.1)\u001b[0m\n",
      "\u001b[34mRequirement already satisfied: google-auth-oauthlib<0.5,>=0.4.1 in /opt/conda/lib/python3.6/site-packages (from tensorboard>=1.14->pytorch_lightning==0.8.1->-r requirements.txt (line 4)) (0.4.6)\u001b[0m\n",
      "\u001b[34mRequirement already satisfied: six>=1.9.0 in /opt/conda/lib/python3.6/site-packages (from google-auth<3,>=1.6.3->tensorboard>=1.14->pytorch_lightning==0.8.1->-r requirements.txt (line 4)) (1.16.0)\u001b[0m\n",
      "\u001b[34mRequirement already satisfied: cachetools<6.0,>=2.0.0 in /opt/conda/lib/python3.6/site-packages (from google-auth<3,>=1.6.3->tensorboard>=1.14->pytorch_lightning==0.8.1->-r requirements.txt (line 4)) (4.2.4)\u001b[0m\n",
      "\u001b[34mRequirement already satisfied: pyasn1-modules>=0.2.1 in /opt/conda/lib/python3.6/site-packages (from google-auth<3,>=1.6.3->tensorboard>=1.14->pytorch_lightning==0.8.1->-r requirements.txt (line 4)) (0.3.0)\u001b[0m\n",
      "\u001b[34mRequirement already satisfied: rsa<5,>=3.1.4 in /opt/conda/lib/python3.6/site-packages (from google-auth<3,>=1.6.3->tensorboard>=1.14->pytorch_lightning==0.8.1->-r requirements.txt (line 4)) (4.7.2)\u001b[0m\n",
      "\u001b[34mRequirement already satisfied: requests-oauthlib>=0.7.0 in /opt/conda/lib/python3.6/site-packages (from google-auth-oauthlib<0.5,>=0.4.1->tensorboard>=1.14->pytorch_lightning==0.8.1->-r requirements.txt (line 4)) (1.3.1)\u001b[0m\n",
      "\u001b[34mRequirement already satisfied: typing-extensions>=3.6.4 in /opt/conda/lib/python3.6/site-packages (from importlib-metadata->transformers==4.6.0->-r requirements.txt (line 1)) (3.10.0.0)\u001b[0m\n",
      "\u001b[34mRequirement already satisfied: zipp>=0.5 in /opt/conda/lib/python3.6/site-packages (from importlib-metadata->transformers==4.6.0->-r requirements.txt (line 1)) (3.4.1)\u001b[0m\n",
      "\u001b[34mRequirement already satisfied: pyasn1<0.6.0,>=0.4.6 in /opt/conda/lib/python3.6/site-packages (from pyasn1-modules>=0.2.1->google-auth<3,>=1.6.3->tensorboard>=1.14->pytorch_lightning==0.8.1->-r requirements.txt (line 4)) (0.4.8)\u001b[0m\n",
      "\u001b[34mRequirement already satisfied: oauthlib>=3.0.0 in /opt/conda/lib/python3.6/site-packages (from requests-oauthlib>=0.7.0->google-auth-oauthlib<0.5,>=0.4.1->tensorboard>=1.14->pytorch_lightning==0.8.1->-r requirements.txt (line 4)) (3.2.2)\u001b[0m\n",
      "\u001b[34mRequirement already satisfied: pyparsing>=2.0.2 in /opt/conda/lib/python3.6/site-packages (from packaging->transformers==4.6.0->-r requirements.txt (line 1)) (2.4.7)\u001b[0m\n",
      "\u001b[34mRequirement already satisfied: python-dateutil>=2.7.3 in /opt/conda/lib/python3.6/site-packages (from pandas->datasets==1.11.0->-r requirements.txt (line 2)) (2.8.1)\u001b[0m\n",
      "\u001b[34mRequirement already satisfied: pytz>=2017.2 in /opt/conda/lib/python3.6/site-packages (from pandas->datasets==1.11.0->-r requirements.txt (line 2)) (2021.1)\u001b[0m\n",
      "\u001b[34mRequirement already satisfied: click in /opt/conda/lib/python3.6/site-packages (from sacremoses->transformers==4.6.0->-r requirements.txt (line 1)) (7.1.2)\u001b[0m\n",
      "\u001b[34mRequirement already satisfied: joblib in /opt/conda/lib/python3.6/site-packages (from sacremoses->transformers==4.6.0->-r requirements.txt (line 1)) (1.0.1)\u001b[0m\n",
      "\u001b[34m<<<run train!!\u001b[0m\n",
      "\u001b[34margs task:  tasd\n",
      " ============================== NEW EXP: TASD on huabao1030 ============================== \u001b[0m\n",
      "\u001b[34mHere is an example (from dev set) under `extraction` paradigm:\u001b[0m\n",
      "\u001b[34mTotal examples = 37 for data/tasd/huabao1030/dev.txt\u001b[0m\n",
      "\u001b[34mInput : This panel has been working great with my Jackery 300 watt battery pack. I like the built-in kick stands, as they make it really quick to set-up and put away. Even in cloudy days it charges between 23-35 watts. I've never seen it put out more than 85 watts however, even on the clearest day at noon with the panel aimed perfectly, so I don't know why it's rated at 100. That's a minor disappointment however, compared to my overall satisfaction.\u001b[0m\n",
      "\u001b[34mOutput: (panel, Solar panel overall quality, working great, Positive); (kick stands, Solar panel design, built-in kick stands, Positive)\u001b[0m\n",
      "\u001b[34m****** Conduct Training ******\u001b[0m\n",
      "\u001b[34mNamespace(adam_epsilon=1e-08, ckpoint_path='/opt/ml/model/cktepoch=1.ckpt', customer_jj=False, dataset='huabao1030', do_batch_predict=False, do_direct_eval=True, do_direct_predict=False, do_eval=False, do_train=True, eval_batch_size=16, gradient_accumulation_steps=1, learning_rate=0.0003, max_seq_length=128, model_name_or_path='t5-large', n_gpu=0, num_train_epochs=10, output_dir='/opt/ml/model', paradigm='extraction', seed=42, task='tasd', text='早餐一般般，勉勉强强填饱肚子，样式可选性不多，可能是疫情的影响吧。不过酒店的服务不错，五个小孩早餐都送了，点👍。由于酒店历史有点长，所以设施感觉一般般，整体还可以，三钻吧', train_batch_size=32, warmup_steps=0.0, weight_decay=0.0)\u001b[0m\n",
      "\u001b[34m{'default_root_dir': '/opt/ml/model', 'accumulate_grad_batches': 1, 'gpus': 0, 'gradient_clip_val': 1.0, 'max_epochs': 10, 'checkpoint_callback': <pytorch_lightning.callbacks.model_checkpoint.ModelCheckpoint object at 0x7f23e2f237f0>, 'callbacks': [<__main__.LoggingCallback object at 0x7f23e2f23860>]}\u001b[0m\n",
      "\u001b[34mTotal examples = 37 for data/tasd/huabao1030/dev.txt\u001b[0m\n",
      "\u001b[34m#015Validation sanity check: 0it [00:00, ?it/s][2023-10-30 13:42:22.117 algo-1:46 INFO utils.py:27] RULE_JOB_STOP_SIGNAL_FILENAME: None\u001b[0m\n",
      "\u001b[34m[2023-10-30 13:42:22.138 algo-1:46 INFO profiler_config_parser.py:102] User has disabled profiler.\u001b[0m\n",
      "\u001b[34m#015Validation sanity check:  50%|█████     | 1/2 [00:17<00:17, 17.82s/it]#015Validation sanity check: 100%|██████████| 2/2 [00:35<00:00, 17.64s/it]#015                                                                      #015Total examples = 2275 for data/tasd/huabao1030/train.txt\u001b[0m\n",
      "\u001b[34mtrain Input : **** January 2023 Update: I need to revise my review down to 2 stars due to product unreliability. Jackery works great when it works. However, unit turned into a brick for no reason while being stored in closet (properly maintained/never saw heavy use). This was shortly after the warranty ended, Jackery would not take unit back, even if I paid to have them fix it. They showed no inerest in wanting to look at it just to see what happened or to environmentally dispose of it. While out of warranty, it had only seen light use. The experience\u001b[0m\n",
      "\u001b[34mtrain Output: (Jackery Box label, Correct delivery content and quantity, small, Negative); (bags, Carrying case bag, sturdy, Positive); (bags, Accessory prices, bit pricey, Negative); (Jackery, Product durability, unreliability, Negative); (unit, Product durability, properly maintained, Negative); (warranty, Repair service, warranty ended, Negative); (Jackery, Repair service, fix it, Negative); (Jackery 1500, Battery capacity, big enough, Positive); (LiFe battery units\u001b[0m\n",
      "\u001b[34mself.hparams.n_gpu:  0\u001b[0m\n",
      "\u001b[34mt_total:  22750.0\u001b[0m\n",
      "\u001b[34mTotal examples = 37 for data/tasd/huabao1030/dev.txt\u001b[0m\n",
      "\n",
      "2023-10-30 13:46:41 Uploading - Uploading generated training model\u001b[34m#015Training: 0it [00:00, ?it/s]#015Training:   0%|          | 0/74 [00:00<?, ?it/s]#015Epoch 1:   0%|          | 0/74 [00:00<?, ?it/s] #015Epoch 1:   1%|▏         | 1/74 [02:30<3:02:55, 150.35s/it]#015Epoch 1:   1%|▏         | 1/74 [02:30<3:02:56, 150.36s/it, loss=5.234, v_num=0]WARNING: Running pip as root will break packages and permissions. You should install packages reliably by using venv: https://pip.pypa.io/warnings/venv\u001b[0m\n",
      "\u001b[34m#015Downloading:   0%|          | 0.00/792k [00:00<?, ?B/s]#015Downloading: 100%|██████████| 792k/792k [00:00<00:00, 10.4MB/s]\u001b[0m\n",
      "\u001b[34m#015Downloading:   0%|          | 0.00/1.39M [00:00<?, ?B/s]#015Downloading: 100%|██████████| 1.39M/1.39M [00:00<00:00, 34.7MB/s]\u001b[0m\n",
      "\u001b[34m/opt/conda/lib/python3.6/site-packages/transformers/tokenization_utils_base.py:2110: FutureWarning: The `pad_to_max_length` argument is deprecated and will be removed in a future version, use `padding=True` or `padding='longest'` to pad to the longest sequence in the batch, or use `padding='max_length'` to pad to a max length. In this case, you can give a specific length with `max_length` (e.g. `max_length=45`) or leave max_length to None to pad to the maximal input size of the model (e.g. 512 for Bert).\n",
      "  FutureWarning,\u001b[0m\n",
      "\u001b[34m#015Downloading:   0%|          | 0.00/1.21k [00:00<?, ?B/s]#015Downloading: 100%|██████████| 1.21k/1.21k [00:00<00:00, 2.58MB/s]\u001b[0m\n",
      "\u001b[34m#015Downloading:   0%|          | 0.00/2.95G [00:00<?, ?B/s]#015Downloading:   0%|          | 6.28M/2.95G [00:00<00:46, 62.8MB/s]#015Downloading:   0%|          | 13.8M/2.95G [00:00<00:44, 66.0MB/s]#015Downloading:   1%|          | 21.2M/2.95G [00:00<00:42, 68.2MB/s]#015Downloading:   1%|          | 28.7M/2.95G [00:00<00:41, 70.3MB/s]#015Downloading:   1%|          | 36.5M/2.95G [00:00<00:40, 72.3MB/s]#015Downloading:   1%|▏         | 44.2M/2.95G [00:00<00:39, 73.7MB/s]#015Downloading:   2%|▏         | 51.9M/2.95G [00:00<00:38, 74.7MB/s]#015Downloading:   2%|▏         | 59.8M/2.95G [00:00<00:38, 75.7MB/s]#015Downloading:   2%|▏         | 67.5M/2.95G [00:00<00:37, 76.3MB/s]#015Downloading:   3%|▎         | 75.3M/2.95G [00:01<00:37, 76.8MB/s]#015Downloading:   3%|▎         | 83.1M/2.95G [00:01<00:37, 77.1MB/s]#015Downloading:   3%|▎         | 90.9M/2.95G [00:01<00:37, 77.2MB/s]#015Downloading:   3%|▎         | 98.7M/2.95G [00:01<00:36, 77.5MB/s]#015Downloading:   4%|▎         | 106M/2.95G [00:01<00:36, 77.6MB/s] #015Downloading:   4%|▍         | 114M/2.95G [00:01<00:36, 77.6MB/s]#015Downloading:   4%|▍         | 122M/2.95G [00:01<00:36, 77.6MB/s]#015Downloading:   4%|▍         | 130M/2.95G [00:01<00:36, 77.7MB/s]#015Downloading:   5%|▍         | 138M/2.95G [00:01<00:36, 77.8MB/s]#015Downloading:   5%|▍         | 145M/2.95G [00:01<00:35, 78.0MB/s]#015Downloading:   5%|▌         | 153M/2.95G [00:02<00:35, 77.9MB/s]#015Downloading:   5%|▌         | 161M/2.95G [00:02<00:35, 77.8MB/s]#015Downloading:   6%|▌         | 169M/2.95G [00:02<00:35, 77.6MB/s]#015Downloading:   6%|▌         | 177M/2.95G [00:02<00:35, 77.5MB/s]#015Downloading:   6%|▌         | 184M/2.95G [00:02<00:35, 77.7MB/s]#015Downloading:   7%|▋         | 192M/2.95G [00:02<00:35, 78.0MB/s]#015Downloading:   7%|▋         | 200M/2.95G [00:02<00:35, 78.4MB/s]#015Downloading:   7%|▋         | 208M/2.95G [00:02<00:34, 78.6MB/s]#015Downloading:   7%|▋         | 216M/2.95G [00:02<00:34, 78.8MB/s]#015Downloading:   8%|▊         | 224M/2.95G [00:02<00:34, 78.9MB/s]#015Downloading:   8%|▊         | 232M/2.95G [00:03<00:34, 79.0MB/s]#015Downloading:   8%|▊         | 240M/2.95G [00:03<00:34, 78.7MB/s]#015Downloading:   8%|▊         | 248M/2.95G [00:03<00:34, 78.1MB/s]#015Downloading:   9%|▊         | 255M/2.95G [00:03<00:34, 78.5MB/s]#015Downloading:   9%|▉         | 263M/2.95G [00:03<00:34, 78.3MB/s]#015Downloading:   9%|▉         | 271M/2.95G [00:03<00:34, 78.5MB/s]#015Downloading:   9%|▉         | 279M/2.95G [00:03<00:33, 78.8MB/s]#015Downloading:  10%|▉         | 287M/2.95G [00:03<00:33, 78.9MB/s]#015Downloading:  10%|▉         | 295M/2.95G [00:03<00:33, 79.0MB/s]#015Downloading:  10%|█         | 303M/2.95G [00:03<00:33, 78.7MB/s]#015Downloading:  11%|█         | 311M/2.95G [00:04<00:33, 78.3MB/s]#015Downloading:  11%|█         | 319M/2.95G [00:04<00:33, 77.7MB/s]#015Downloading:  11%|█         | 326M/2.95G [00:04<00:33, 77.7MB/s]#015Downloading:  11%|█▏        | 334M/2.95G [00:04<00:33, 77.4MB/s]#015Downloading:  12%|█▏        | 342M/2.95G [00:04<00:33, 77.4MB/s]#015Downloading:  12%|█▏        | 350M/2.95G [00:04<00:33, 77.2MB/s]#015Downloading:  12%|█▏        | 357M/2.95G [00:04<00:33, 77.4MB/s]#015Downloading:  12%|█▏        | 365M/2.95G [00:04<00:33, 77.5MB/s]#015Downloading:  13%|█▎        | 373M/2.95G [00:04<00:33, 77.4MB/s]#015Downloading:  13%|█▎        | 381M/2.95G [00:04<00:33, 77.2MB/s]#015Downloading:  13%|█▎        | 388M/2.95G [00:05<00:33, 77.3MB/s]#015Downloading:  13%|█▎        | 396M/2.95G [00:05<00:33, 77.3MB/s]#015Downloading:  14%|█▎        | 404M/2.95G [00:05<00:32, 77.5MB/s]#015Downloading:  14%|█▍        | 412M/2.95G [00:05<00:32, 77.6MB/s]#015Downloading:  14%|█▍        | 420M/2.95G [00:05<00:32, 77.6MB/s]#015Downloading:  14%|█▍        | 427M/2.95G [00:05<00:32, 77.7MB/s]#015Downloading:  15%|█▍        | 435M/2.95G [00:05<00:32, 77.7MB/s]#015Downloading:  15%|█▌        | 443M/2.95G [00:05<00:32, 77.6MB/s]#015Downloading:  15%|█▌        | 451M/2.95G [00:05<00:32, 77.7MB/s]#015Downloading:  16%|█▌        | 459M/2.95G [00:05<00:31, 78.2MB/s]#015Downloading:  16%|█▌        | 467M/2.95G [00:06<00:31, 79.1MB/s]#015Downloading:  16%|█▌        | 475M/2.95G [00:06<00:31, 78.6MB/s]#015Downloading:  16%|█▋        | 483M/2.95G [00:06<00:31, 78.0MB/s]#015Downloading:  17%|█▋        | 490M/2.95G [00:06<00:31, 77.8MB/s]#015Downloading:  17%|█▋        | 498M/2.95G [00:06<00:31, 77.6MB/s]#015Downloading:  17%|█▋        | 506M/2.95G [00:06<00:31, 77.5MB/s]#015Downloading:  17%|█▋        | 514M/2.95G [00:06<00:31, 77.4MB/s]#015Downloading:  18%|█▊        | 522M/2.95G [00:06<00:31, 78.1MB/s]#015Downloading:  18%|█▊        | 530M/2.95G [00:06<00:30, 78.6MB/s]#015Downloading:  18%|█▊        | 538M/2.95G [00:06<00:30, 78.9MB/s]#015Downloading:  18%|█▊        | 546M/2.95G [00:07<00:30, 79.2MB/s]#015Downloading:  19%|█▉        | 554M/2.95G [00:07<00:30, 78.9MB/s]#015Downloading:  19%|█▉        | 561M/2.95G [00:07<00:30, 79.0MB/s]#015Downloading:  19%|█▉        | 569M/2.95G [00:07<00:30, 79.2MB/s]#015Downloading:  20%|█▉        | 577M/2.95G [00:07<00:30, 79.1MB/s]#015Downloading:  20%|█▉        | 585M/2.95G [00:07<00:30, 78.5MB/s]#015Downloading:  20%|██        | 593M/2.95G [00:07<00:30, 78.0MB/s]#015Downloading:  20%|██        | 601M/2.95G [00:07<00:29, 78.4MB/s]#015Downloading:  21%|██        | 609M/2.95G [00:07<00:29, 78.7MB/s]#015Downloading:  21%|██        | 617M/2.95G [00:07<00:29, 78.8MB/s]#015Downloading:  21%|██        | 625M/2.95G [00:08<00:29, 79.0MB/s]#015Downloading:  21%|██▏       | 633M/2.95G [00:08<00:29, 79.1MB/s]#015Downloading:  22%|██▏       | 641M/2.95G [00:08<00:29, 78.5MB/s]#015Downloading:  22%|██▏       | 648M/2.95G [00:08<00:29, 77.9MB/s]#015Downloading:  22%|██▏       | 656M/2.95G [00:08<00:29, 77.7MB/s]#015Downloading:  23%|██▎       | 664M/2.95G [00:08<00:29, 77.7MB/s]#015Downloading:  23%|██▎       | 672M/2.95G [00:08<00:29, 77.5MB/s]#015Downloading:  23%|██▎       | 680M/2.95G [00:08<00:29, 77.9MB/s]#015Downloading:  23%|██▎       | 688M/2.95G [00:08<00:28, 78.4MB/s]#015Downloading:  24%|██▎       | 696M/2.95G [00:08<00:28, 78.6MB/s]#015Downloading:  24%|██▍       | 703M/2.95G [00:09<00:28, 78.8MB/s]#015Downloading:  24%|██▍       | 711M/2.95G [00:09<00:28, 78.2MB/s]#015Downloading:  24%|██▍       | 719M/2.95G [00:09<00:28, 77.9MB/s]#015Downloading:  25%|██▍       | 727M/2.95G [00:09<00:28, 77.7MB/s]#015Downloading:  25%|██▍       | 735M/2.95G [00:09<00:28, 77.5MB/s]#015Downloading:  25%|██▌       | 742M/2.95G [00:09<00:28, 77.6MB/s]#015Downloading:  25%|██▌       | 750M/2.95G [00:09<00:28, 77.4MB/s]#015Downloading:  26%|██▌       | 758M/2.95G [00:09<00:28, 77.8MB/s]#015Downloading:  26%|██▌       | 766M/2.95G [00:09<00:27, 78.2MB/s]#015Downloading:  26%|██▌       | 774M/2.95G [00:09<00:27, 78.5MB/s]#015Downloading:  26%|██▋       | 782M/2.95G [00:10<00:27, 78.8MB/s]#015Downloading:  27%|██▋       | 790M/2.95G [00:10<00:27, 78.6MB/s]#015Downloading:  27%|██▋       | 798M/2.95G [00:10<00:27, 78.1MB/s]#015Downloading:  27%|██▋       | 805M/2.95G [00:10<00:27, 78.0MB/s]#015Downloading:  28%|██▊       | 813M/2.95G [00:10<00:27, 77.6MB/s]#015Downloading:  28%|██▊       | 821M/2.95G [00:10<00:27, 76.6MB/s]#015Downloading:  28%|██▊       | 829M/2.95G [00:10<00:27, 76.0MB/s]#015Downloading:  28%|██▊       | 836M/2.95G [00:10<00:27, 76.6MB/s]#015Downloading:  29%|██▊       | 844M/2.95G [00:10<00:27, 76.8MB/s]#015Downloading:  29%|██▉       | 852M/2.95G [00:10<00:27, 77.2MB/s]#015Downloading:  29%|██▉       | 860M/2.95G [00:11<00:27, 77.1MB/s]#015Downloading:  29%|██▉       | 868M/2.95G [00:11<00:26, 77.7MB/s]#015Downloading:  30%|██▉       | 875M/2.95G [00:11<00:26, 77.5MB/s]#015Downloading:  30%|██▉       | 883M/2.95G [00:11<00:26, 77.3MB/s]#015Downloading:  30%|███       | 891M/2.95G [00:11<00:26, 77.1MB/s]#015Downloading:  30%|███       | 899M/2.95G [00:11<00:26, 77.0MB/s]#015Downloading:  31%|███       | 906M/2.95G [00:11<00:26, 77.1MB/s]#015Downloading:  31%|███       | 914M/2.95G [00:11<00:26, 77.2MB/s]#015Downloading:  31%|███       | 922M/2.95G [00:11<00:26, 77.3MB/s]#015Downloading:  32%|███▏      | 930M/2.95G [00:11<00:25, 78.0MB/s]#015Downloading:  32%|███▏      | 938M/2.95G [00:12<00:25, 78.4MB/s]#015Downloading:  32%|███▏      | 946M/2.95G [00:12<00:25, 78.7MB/s]#015Downloading:  32%|███▏      | 954M/2.95G [00:12<00:25, 78.9MB/s]#015Downloading:  33%|███▎      | 962M/2.95G [00:12<00:25, 79.1MB/s]#015Downloading:  33%|███▎      | 970M/2.95G [00:12<00:25, 79.2MB/s]#015Downloading:  33%|███▎      | 978M/2.95G [00:12<00:24, 79.2MB/s]#015Downloading:  33%|███▎      | 985M/2.95G [00:12<00:24, 79.3MB/s]#015Downloading:  34%|███▎      | 993M/2.95G [00:12<00:24, 79.3MB/s]#015Downloading:  34%|███▍      | 1.00G/2.95G [00:12<00:24, 79.4MB/s]#015Downloading:  34%|███▍      | 1.01G/2.95G [00:12<00:24, 79.3MB/s]#015Downloading:  34%|███▍      | 1.02G/2.95G [00:13<00:24, 79.5MB/s]#015Downloading:  35%|███▍      | 1.03G/2.95G [00:13<00:24, 79.6MB/s]#015Downloading:  35%|███▌      | 1.03G/2.95G [00:13<00:24, 79.6MB/s]#015Downloading:  35%|███▌      | 1.04G/2.95G [00:13<00:24, 79.4MB/s]#015Downloading:  36%|███▌      | 1.05G/2.95G [00:13<00:23, 79.4MB/s]#015Downloading:  36%|███▌      | 1.06G/2.95G [00:13<00:23, 79.6MB/s]#015Downloading:  36%|███▌      | 1.07G/2.95G [00:13<00:36, 51.9MB/s]#015Downloading:  36%|███▋      | 1.07G/2.95G [00:13<00:32, 57.8MB/s]#015Downloading:  37%|███▋      | 1.08G/2.95G [00:14<00:29, 62.9MB/s]#015Downloading:  37%|███▋      | 1.09G/2.95G [00:14<00:27, 67.1MB/s]#015Downloading:  37%|███▋      | 1.10G/2.95G [00:14<00:26, 70.5MB/s]#015Downloading:  37%|███▋      | 1.10G/2.95G [00:14<00:25, 73.1MB/s]#015Downloading:  38%|███▊      | 1.11G/2.95G [00:14<00:24, 74.8MB/s]#015Downloading:  38%|███▊      | 1.12G/2.95G [00:14<00:24, 76.1MB/s]#015Downloading:  38%|███▊      | 1.13G/2.95G [00:14<00:23, 77.2MB/s]#015Downloading:  39%|███▊      | 1.14G/2.95G [00:14<00:23, 78.0MB/s]#015Downloading:  39%|███▉      | 1.14G/2.95G [00:14<00:23, 78.4MB/s]#015Downloading:  39%|███▉      | 1.15G/2.95G [00:14<00:22, 78.8MB/s]#015Downloading:  39%|███▉      | 1.16G/2.95G [00:15<00:22, 78.7MB/s]#015Downloading:  40%|███▉      | 1.17G/2.95G [00:15<00:22, 79.0MB/s]#015Downloading:  40%|███▉      | 1.18G/2.95G [00:15<00:22, 79.2MB/s]#015Downloading:  40%|████      | 1.18G/2.95G [00:15<00:22, 78.9MB/s]#015Downloading:  40%|████      | 1.19G/2.95G [00:15<00:22, 79.1MB/s]#015Downloading:  41%|████      | 1.20G/2.95G [00:15<00:22, 79.4MB/s]#015Downloading:  41%|████      | 1.21G/2.95G [00:15<00:21, 79.5MB/s]#015Downloading:  41%|████      | 1.22G/2.95G [00:15<00:21, 79.4MB/s]#015Downloading:  41%|████▏     | 1.22G/2.95G [00:15<00:21, 79.6MB/s]#015Downloading:  42%|████▏     | 1.23G/2.95G [00:15<00:21, 79.7MB/s]#015Downloading:  42%|████▏     | 1.24G/2.95G [00:16<00:21, 79.8MB/s]#015Downloading:  42%|████▏     | 1.25G/2.95G [00:16<00:21, 79.8MB/s]#015Downloading:  43%|████▎     | 1.26G/2.95G [00:16<00:21, 79.7MB/s]#015Downloading:  43%|████▎     | 1.26G/2.95G [00:16<00:21, 79.7MB/s]#015Downloading:  43%|████▎     | 1.27G/2.95G [00:16<00:21, 79.8MB/s]#015Downloading:  43%|████▎     | 1.28G/2.95G [00:16<00:20, 79.8MB/s]#015Downloading:  44%|████▎     | 1.29G/2.95G [00:16<00:20, 79.8MB/s]#015Downloading:  44%|████▍     | 1.30G/2.95G [00:16<00:20, 79.8MB/s]#015Downloading:  44%|████▍     | 1.30G/2.95G [00:16<00:20, 79.6MB/s]#015Downloading:  44%|████▍     | 1.31G/2.95G [00:16<00:20, 79.7MB/s]#015Downloading:  45%|████▍     | 1.32G/2.95G [00:17<00:20, 79.8MB/s]#015Downloading:  45%|████▌     | 1.33G/2.95G [00:17<00:20, 79.8MB/s]#015Downloading:  45%|████▌     | 1.34G/2.95G [00:17<00:20, 79.8MB/s]#015Downloading:  46%|████▌     | 1.34G/2.95G [00:17<00:20, 79.6MB/s]#015Downloading:  46%|████▌     | 1.35G/2.95G [00:17<00:20, 79.7MB/s]#015Downloading:  46%|████▌     | 1.36G/2.95G [00:17<00:19, 79.7MB/s]#015Downloading:  46%|████▋     | 1.37G/2.95G [00:17<00:19, 79.6MB/s]#015Downloading:  47%|████▋     | 1.38G/2.95G [00:17<00:19, 79.7MB/s]#015Downloading:  47%|████▋     | 1.38G/2.95G [00:17<00:19, 79.8MB/s]#015Downloading:  47%|████▋     | 1.39G/2.95G [00:17<00:19, 79.8MB/s]#015Downloading:  47%|████▋     | 1.40G/2.95G [00:18<00:19, 79.7MB/s]#015Downloading:  48%|████▊     | 1.41G/2.95G [00:18<00:19, 79.5MB/s]#015Downloading:  48%|████▊     | 1.42G/2.95G [00:18<00:19, 79.2MB/s]#015Downloading:  48%|████▊     | 1.42G/2.95G [00:18<00:19, 79.1MB/s]#015Downloading:  49%|████▊     | 1.43G/2.95G [00:18<00:19, 78.8MB/s]#015Downloading:  49%|████▉     | 1.44G/2.95G [00:18<00:19, 78.5MB/s]#015Downloading:  49%|████▉     | 1.45G/2.95G [00:18<00:19, 78.4MB/s]#015Downloading:  49%|████▉     | 1.46G/2.95G [00:18<00:18, 79.0MB/s]#015Downloading:  50%|████▉     | 1.46G/2.95G [00:18<00:18, 79.3MB/s]#015Downloading:  50%|████▉     | 1.47G/2.95G [00:18<00:18, 79.5MB/s]#015Downloading:  50%|█████     | 1.48G/2.95G [00:19<00:18, 79.7MB/s]#015Downloading:  50%|█████     | 1.49G/2.95G [00:19<00:18, 79.6MB/s]#015Downloading:  51%|█████     | 1.50G/2.95G [00:19<00:18, 79.8MB/s]#015Downloading:  51%|█████     | 1.50G/2.95G [00:19<00:18, 79.7MB/s]#015Downloading:  51%|█████     | 1.51G/2.95G [00:19<00:18, 79.5MB/s]#015Downloading:  51%|█████▏    | 1.52G/2.95G [00:19<00:18, 79.4MB/s]#015Downloading:  52%|█████▏    | 1.53G/2.95G [00:19<00:17, 79.4MB/s]#015Downloading:  52%|█████▏    | 1.54G/2.95G [00:19<00:17, 79.5MB/s]#015Downloading:  52%|█████▏    | 1.54G/2.95G [00:19<00:17, 79.7MB/s]#015Downloading:  53%|█████▎    | 1.55G/2.95G [00:19<00:17, 79.6MB/s]#015Downloading:  53%|█████▎    | 1.56G/2.95G [00:20<00:17, 79.7MB/s]#015Downloading:  53%|█████▎    | 1.57G/2.95G [00:20<00:17, 79.6MB/s]#015Downloading:  53%|█████▎    | 1.58G/2.95G [00:20<00:17, 79.9MB/s]#015Downloading:  54%|█████▎    | 1.58G/2.95G [00:20<00:17, 79.8MB/s]#015Downloading:  54%|█████▍    | 1.59G/2.95G [00:20<00:17, 80.0MB/s]#015Downloading:  54%|█████▍    | 1.60G/2.95G [00:20<00:16, 79.9MB/s]#015Downloading:  54%|█████▍    | 1.61G/2.95G [00:20<00:16, 79.8MB/s]#015Downloading:  55%|█████▍    | 1.62G/2.95G [00:20<00:16, 79.8MB/s]#015Downloading:  55%|█████▌    | 1.62G/2.95G [00:20<00:16, 80.0MB/s]#015Downloading:  55%|█████▌    | 1.63G/2.95G [00:20<00:16, 80.1MB/s]#015Downloading:  56%|█████▌    | 1.64G/2.95G [00:21<00:16, 80.0MB/s]#015Downloading:  56%|█████▌    | 1.65G/2.95G [00:21<00:16, 79.6MB/s]#015Downloading:  56%|█████▌    | 1.66G/2.95G [00:21<00:16, 79.5MB/s]#015Downloading:  56%|█████▋    | 1.66G/2.95G [00:21<00:16, 79.4MB/s]#015Downloading:  57%|█████▋    | 1.67G/2.95G [00:21<00:16, 79.5MB/s]#015Downloading:  57%|█████▋    | 1.68G/2.95G [00:21<00:16, 79.3MB/s]#015Downloading:  57%|█████▋    | 1.69G/2.95G [00:21<00:15, 79.7MB/s]#015Downloading:  57%|█████▋    | 1.70G/2.95G [00:21<00:15, 79.4MB/s]#015Downloading:  58%|█████▊    | 1.70G/2.95G [00:21<00:15, 79.6MB/s]#015Downloading:  58%|█████▊    | 1.71G/2.95G [00:21<00:15, 79.8MB/s]#015Downloading:  58%|█████▊    | 1.72G/2.95G [00:22<00:15, 79.9MB/s]#015Downloading:  59%|█████▊    | 1.73G/2.95G [00:22<00:15, 79.8MB/s]#015Downloading:  59%|█████▉    | 1.74G/2.95G [00:22<00:15, 79.9MB/s]#015Downloading:  59%|█████▉    | 1.74G/2.95G [00:22<00:15, 80.0MB/s]#015Downloading:  59%|█████▉    | 1.75G/2.95G [00:22<00:14, 80.0MB/s]#015Downloading:  60%|█████▉    | 1.76G/2.95G [00:22<00:14, 80.0MB/s]#015Downloading:  60%|█████▉    | 1.77G/2.95G [00:22<00:14, 80.1MB/s]#015Downloading:  60%|██████    | 1.78G/2.95G [00:22<00:14, 80.2MB/s]#015Downloading:  60%|██████    | 1.78G/2.95G [00:22<00:14, 80.3M\u001b[0m\n",
      "\u001b[34mB/s]#015Downloading:  61%|██████    | 1.79G/2.95G [00:22<00:14, 80.3MB/s]#015Downloading:  61%|██████    | 1.80G/2.95G [00:23<00:14, 79.7MB/s]#015Downloading:  61%|██████▏   | 1.81G/2.95G [00:23<00:14, 79.6MB/s]#015Downloading:  62%|██████▏   | 1.82G/2.95G [00:23<00:14, 79.7MB/s]#015Downloading:  62%|██████▏   | 1.82G/2.95G [00:23<00:14, 79.4MB/s]#015Downloading:  62%|██████▏   | 1.83G/2.95G [00:23<00:14, 79.1MB/s]#015Downloading:  62%|██████▏   | 1.84G/2.95G [00:23<00:13, 79.4MB/s]#015Downloading:  63%|██████▎   | 1.85G/2.95G [00:23<00:13, 79.4MB/s]#015Downloading:  63%|██████▎   | 1.86G/2.95G [00:23<00:13, 79.2MB/s]#015Downloading:  63%|██████▎   | 1.86G/2.95G [00:23<00:13, 79.1MB/s]#015Downloading:  63%|██████▎   | 1.87G/2.95G [00:23<00:13, 79.1MB/s]#015Downloading:  64%|██████▎   | 1.88G/2.95G [00:24<00:13, 79.0MB/s]#015Downloading:  64%|██████▍   | 1.89G/2.95G [00:24<00:13, 79.4MB/s]#015Downloading:  64%|██████▍   | 1.90G/2.95G [00:24<00:20, 50.9MB/s]#015Downloading:  64%|██████▍   | 1.90G/2.95G [00:24<00:18, 56.4MB/s]#015Downloading:  65%|██████▍   | 1.91G/2.95G [00:24<00:17, 61.1MB/s]#015Downloading:  65%|██████▍   | 1.92G/2.95G [00:24<00:15, 64.7MB/s]#015Downloading:  65%|██████▌   | 1.93G/2.95G [00:24<00:15, 67.6MB/s]#015Downloading:  66%|██████▌   | 1.93G/2.95G [00:24<00:14, 69.7MB/s]#015Downloading:  66%|██████▌   | 1.94G/2.95G [00:25<00:14, 71.3MB/s]#015Downloading:  66%|██████▌   | 1.95G/2.95G [00:25<00:13, 72.5MB/s]#015Downloading:  66%|██████▋   | 1.96G/2.95G [00:25<00:13, 73.3MB/s]#015Downloading:  67%|██████▋   | 1.96G/2.95G [00:25<00:13, 74.2MB/s]#015Downloading:  67%|██████▋   | 1.97G/2.95G [00:25<00:13, 74.9MB/s]#015Downloading:  67%|██████▋   | 1.98G/2.95G [00:25<00:12, 75.4MB/s]#015Downloading:  67%|██████▋   | 1.99G/2.95G [00:25<00:12, 75.9MB/s]#015Downloading:  68%|██████▊   | 1.99G/2.95G [00:25<00:12, 75.9MB/s]#015Downloading:  68%|██████▊   | 2.00G/2.95G [00:25<00:12, 76.2MB/s]#015Downloading:  68%|██████▊   | 2.01G/2.95G [00:25<00:12, 76.2MB/s]#015Downloading:  68%|██████▊   | 2.02G/2.95G [00:26<00:12, 76.0MB/s]#015Downloading:  69%|██████▊   | 2.02G/2.95G [00:26<00:12, 75.4MB/s]#015Downloading:  69%|██████▉   | 2.03G/2.95G [00:26<00:12, 75.0MB/s]#015Downloading:  69%|██████▉   | 2.04G/2.95G [00:26<00:12, 74.9MB/s]#015Downloading:  69%|██████▉   | 2.05G/2.95G [00:26<00:12, 74.6MB/s]#015Downloading:  70%|██████▉   | 2.05G/2.95G [00:26<00:12, 74.3MB/s]#015Downloading:  70%|██████▉   | 2.06G/2.95G [00:26<00:11, 74.5MB/s]#015Downloading:  70%|███████   | 2.07G/2.95G [00:26<00:11, 74.7MB/s]#015Downloading:  70%|███████   | 2.08G/2.95G [00:26<00:11, 75.1MB/s]#015Downloading:  71%|███████   | 2.08G/2.95G [00:26<00:11, 75.1MB/s]#015Downloading:  71%|███████   | 2.09G/2.95G [00:27<00:11, 75.2MB/s]#015Downloading:  71%|███████   | 2.10G/2.95G [00:27<00:11, 75.3MB/s]#015Downloading:  71%|███████▏  | 2.11G/2.95G [00:27<00:11, 74.7MB/s]#015Downloading:  72%|███████▏  | 2.11G/2.95G [00:27<00:11, 74.9MB/s]#015Downloading:  72%|███████▏  | 2.12G/2.95G [00:27<00:11, 75.1MB/s]#015Downloading:  72%|███████▏  | 2.13G/2.95G [00:27<00:10, 75.4MB/s]#015Downloading:  72%|███████▏  | 2.14G/2.95G [00:27<00:10, 75.5MB/s]#015Downloading:  73%|███████▎  | 2.15G/2.95G [00:27<00:10, 75.9MB/s]#015Downloading:  73%|███████▎  | 2.15G/2.95G [00:27<00:10, 76.0MB/s]#015Downloading:  73%|███████▎  | 2.16G/2.95G [00:27<00:10, 76.2MB/s]#015Downloading:  73%|███████▎  | 2.17G/2.95G [00:28<00:10, 76.3MB/s]#015Downloading:  74%|███████▎  | 2.18G/2.95G [00:28<00:10, 76.3MB/s]#015Downloading:  74%|███████▍  | 2.18G/2.95G [00:28<00:10, 76.2MB/s]#015Downloading:  74%|███████▍  | 2.19G/2.95G [00:28<00:09, 76.1MB/s]#015Downloading:  75%|███████▍  | 2.20G/2.95G [00:28<00:09, 76.1MB/s]#015Downloading:  75%|███████▍  | 2.21G/2.95G [00:28<00:09, 76.3MB/s]#015Downloading:  75%|███████▌  | 2.21G/2.95G [00:28<00:09, 76.1MB/s]#015Downloading:  75%|███████▌  | 2.22G/2.95G [00:28<00:09, 76.3MB/s]#015Downloading:  76%|███████▌  | 2.23G/2.95G [00:28<00:09, 76.1MB/s]#015Downloading:  76%|███████▌  | 2.24G/2.95G [00:28<00:09, 76.2MB/s]#015Downloading:  76%|███████▌  | 2.24G/2.95G [00:29<00:09, 76.2MB/s]#015Downloading:  76%|███████▋  | 2.25G/2.95G [00:29<00:09, 76.4MB/s]#015Downloading:  77%|███████▋  | 2.26G/2.95G [00:29<00:09, 76.3MB/s]#015Downloading:  77%|███████▋  | 2.27G/2.95G [00:29<00:08, 76.4MB/s]#015Downloading:  77%|███████▋  | 2.28G/2.95G [00:29<00:08, 76.5MB/s]#015Downloading:  77%|███████▋  | 2.28G/2.95G [00:29<00:08, 76.4MB/s]#015Downloading:  78%|███████▊  | 2.29G/2.95G [00:29<00:08, 76.2MB/s]#015Downloading:  78%|███████▊  | 2.30G/2.95G [00:29<00:08, 76.3MB/s]#015Downloading:  78%|███████▊  | 2.31G/2.95G [00:29<00:08, 76.3MB/s]#015Downloading:  78%|███████▊  | 2.31G/2.95G [00:29<00:08, 76.3MB/s]#015Downloading:  79%|███████▊  | 2.32G/2.95G [00:30<00:08, 76.3MB/s]#015Downloading:  79%|███████▉  | 2.33G/2.95G [00:30<00:08, 76.3MB/s]#015Downloading:  79%|███████▉  | 2.34G/2.95G [00:30<00:08, 76.3MB/s]#015Downloading:  79%|███████▉  | 2.34G/2.95G [00:30<00:07, 76.3MB/s]#015Downloading:  80%|███████▉  | 2.35G/2.95G [00:30<00:07, 76.2MB/s]#015Downloading:  80%|███████▉  | 2.36G/2.95G [00:30<00:07, 76.2MB/s]#015Downloading:  80%|████████  | 2.37G/2.95G [00:30<00:07, 76.1MB/s]#015Downloading:  80%|████████  | 2.37G/2.95G [00:30<00:07, 76.1MB/s]#015Downloading:  81%|████████  | 2.38G/2.95G [00:30<00:07, 76.0MB/s]#015Downloading:  81%|████████  | 2.39G/2.95G [00:30<00:07, 76.1MB/s]#015Downloading:  81%|████████  | 2.40G/2.95G [00:31<00:07, 76.0MB/s]#015Downloading:  81%|████████▏ | 2.40G/2.95G [00:31<00:07, 76.1MB/s]#015Downloading:  82%|████████▏ | 2.41G/2.95G [00:31<00:07, 76.2MB/s]#015Downloading:  82%|████████▏ | 2.42G/2.95G [00:31<00:06, 75.9MB/s]#015Downloading:  82%|████████▏ | 2.43G/2.95G [00:31<00:06, 75.7MB/s]#015Downloading:  83%|████████▎ | 2.44G/2.95G [00:31<00:06, 75.7MB/s]#015Downloading:  83%|████████▎ | 2.44G/2.95G [00:31<00:06, 75.9MB/s]#015Downloading:  83%|████████▎ | 2.45G/2.95G [00:31<00:06, 76.0MB/s]#015Downloading:  83%|████████▎ | 2.46G/2.95G [00:31<00:06, 76.0MB/s]#015Downloading:  84%|████████▎ | 2.47G/2.95G [00:31<00:06, 75.9MB/s]#015Downloading:  84%|████████▍ | 2.47G/2.95G [00:32<00:06, 75.8MB/s]#015Downloading:  84%|████████▍ | 2.48G/2.95G [00:32<00:06, 75.9MB/s]#015Downloading:  84%|████████▍ | 2.49G/2.95G [00:32<00:06, 75.8MB/s]#015Downloading:  85%|████████▍ | 2.50G/2.95G [00:32<00:06, 75.8MB/s]#015Downloading:  85%|████████▍ | 2.50G/2.95G [00:32<00:05, 75.9MB/s]#015Downloading:  85%|████████▌ | 2.51G/2.95G [00:32<00:05, 75.9MB/s]#015Downloading:  85%|████████▌ | 2.52G/2.95G [00:32<00:05, 75.9MB/s]#015Downloading:  86%|████████▌ | 2.53G/2.95G [00:32<00:05, 76.0MB/s]#015Downloading:  86%|████████▌ | 2.53G/2.95G [00:32<00:05, 75.9MB/s]#015Downloading:  86%|████████▌ | 2.54G/2.95G [00:32<00:05, 76.0MB/s]#015Downloading:  86%|████████▋ | 2.55G/2.95G [00:33<00:05, 75.9MB/s]#015Downloading:  87%|████████▋ | 2.56G/2.95G [00:33<00:05, 76.1MB/s]#015Downloading:  87%|████████▋ | 2.56G/2.95G [00:33<00:05, 76.0MB/s]#015Downloading:  87%|████████▋ | 2.57G/2.95G [00:33<00:04, 76.0MB/s]#015Downloading:  87%|████████▋ | 2.58G/2.95G [00:33<00:04, 76.0MB/s]#015Downloading:  88%|████████▊ | 2.59G/2.95G [00:33<00:04, 76.0MB/s]#015Downloading:  88%|████████▊ | 2.59G/2.95G [00:33<00:04, 76.2MB/s]#015Downloading:  88%|████████▊ | 2.60G/2.95G [00:33<00:04, 76.1MB/s]#015Downloading:  88%|████████▊ | 2.61G/2.95G [00:33<00:04, 76.0MB/s]#015Downloading:  89%|████████▊ | 2.62G/2.95G [00:33<00:04, 76.2MB/s]#015Downloading:  89%|████████▉ | 2.63G/2.95G [00:34<00:04, 76.1MB/s]#015Downloading:  89%|████████▉ | 2.63G/2.95G [00:34<00:04, 76.2MB/s]#015Downloading:  89%|████████▉ | 2.64G/2.95G [00:34<00:04, 76.1MB/s]#015Downloading:  90%|████████▉ | 2.65G/2.95G [00:34<00:03, 76.3MB/s]#015Downloading:  90%|█████████ | 2.66G/2.95G [00:34<00:06, 48.8MB/s]#015Downloading:  90%|█████████ | 2.66G/2.95G [00:34<00:05, 54.6MB/s]#015Downloading:  91%|█████████ | 2.67G/2.95G [00:34<00:04, 59.6MB/s]#015Downloading:  91%|█████████ | 2.68G/2.95G [00:34<00:04, 63.6MB/s]#015Downloading:  91%|█████████ | 2.69G/2.95G [00:35<00:03, 66.8MB/s]#015Downloading:  91%|█████████▏| 2.69G/2.95G [00:35<00:03, 69.3MB/s]#015Downloading:  92%|█████████▏| 2.70G/2.95G [00:35<00:03, 71.2MB/s]#015Downloading:  92%|█████████▏| 2.71G/2.95G [00:35<00:03, 72.6MB/s]#015Downloading:  92%|█████████▏| 2.72G/2.95G [00:35<00:03, 73.6MB/s]#015Downloading:  92%|█████████▏| 2.72G/2.95G [00:35<00:03, 74.3MB/s]#015Downloading:  93%|█████████▎| 2.73G/2.95G [00:35<00:02, 74.8MB/s]#015Downloading:  93%|█████████▎| 2.74G/2.95G [00:35<00:02, 75.1MB/s]#015Downloading:  93%|█████████▎| 2.75G/2.95G [00:35<00:02, 75.4MB/s]#015Downloading:  93%|█████████▎| 2.75G/2.95G [00:35<00:02, 75.6MB/s]#015Downloading:  94%|█████████▎| 2.76G/2.95G [00:36<00:02, 75.7MB/s]#015Downloading:  94%|█████████▍| 2.77G/2.95G [00:36<00:02, 75.5MB/s]#015Downloading:  94%|█████████▍| 2.78G/2.95G [00:36<00:02, 75.7MB/s]#015Downloading:  94%|█████████▍| 2.79G/2.95G [00:36<00:02, 75.9MB/s]#015Downloading:  95%|█████████▍| 2.79G/2.95G [00:36<00:02, 75.8MB/s]#015Downloading:  95%|█████████▍| 2.80G/2.95G [00:36<00:01, 75.8MB/s]#015Downloading:  95%|█████████▌| 2.81G/2.95G [00:36<00:01, 75.8MB/s]#015Downloading:  95%|█████████▌| 2.82G/2.95G [00:36<00:01, 75.9MB/s]#015Downloading:  96%|█████████▌| 2.82G/2.95G [00:36<00:01, 75.8MB/s]#015Downloading:  96%|█████████▌| 2.83G/2.95G [00:36<00:01, 75.9MB/s]#015Downloading:  96%|█████████▌| 2.84G/2.95G [00:37<00:01, 76.0MB/s]#015Downloading:  96%|█████████▋| 2.85G/2.95G [00:37<00:01, 76.1MB/s]#015Downloading:  97%|█████████▋| 2.85G/2.95G [00:37<00:01, 75.9MB/s]#015Downloading:  97%|█████████▋| 2.86G/2.95G [00:37<00:01, 75.9MB/s]#015Downloading:  97%|█████████▋| 2.87G/2.95G [00:37<00:01, 75.8MB/s]#015Downloading:  97%|█████████▋| 2.88G/2.95G [00:37<00:00, 75.8MB/s]#015Downloading:  98%|█████████▊| 2.88G/2.95G [00:37<00:00, 75.7MB/s]#015Downloading:  98%|█████████▊| 2.89G/2.95G [00:37<00:00, 75.8MB/s]#015Downloading:  98%|█████████▊| 2.90G/2.95G [00:37<00:00, 75.9MB/s]#015Downloading:  99%|█████████▊| 2.91G/2.95G [00:37<00:00, 76.0MB/s]#015Downloading:  99%|█████████▉| 2.91G/2.95G [00:38<00:00, 75.9MB/s]#015Downloading:  99%|█████████▉| 2.92G/2.95G [00:38<00:00, 76.1MB/s]#015Downloading:  99%|█████████▉| 2.93G/2.95G [00:38<00:00, 75.9MB/s]#015Downloading: 100%|█████████▉| 2.94G/2.95G [00:38<00:00, 76.1MB/s]#015Downloading: 100%|█████████▉| 2.94G/2.95G [00:38<00:00, 76.0MB/s]#015Downloading: 100%|██████████| 2.95G/2.95G [00:38<00:00, 76.5MB/s]\u001b[0m\n",
      "\u001b[34mGPU available: True, used: False\u001b[0m\n",
      "\u001b[34mTPU available: False, using: 0 TPU cores\n",
      "  | Name  | Type                       | Params\u001b[0m\n",
      "\u001b[34m-----------------------------------------------------\u001b[0m\n",
      "\u001b[34m0 | model | T5ForConditionalGeneration | 737 M \u001b[0m\n",
      "\u001b[34mTraceback (most recent call last):\n",
      "  File \"/opt/conda/lib/python3.6/multiprocessing/queues.py\", line 230, in _feed\n",
      "    close()\n",
      "  File \"/opt/conda/lib/python3.6/multiprocessing/connection.py\", line 177, in close\n",
      "    self._close()\n",
      "  File \"/opt/conda/lib/python3.6/multiprocessing/connection.py\", line 361, in _close\n",
      "    _close(self._handle)\u001b[0m\n",
      "\u001b[34mOSError: [Errno 9] Bad file descriptor\u001b[0m\n",
      "\u001b[34m/opt/conda/lib/python3.6/site-packages/transformers/tokenization_utils_base.py:2110: FutureWarning: The `pad_to_max_length` argument is deprecated and will be removed in a future version, use `padding=True` or `padding='longest'` to pad to the longest sequence in the batch, or use `padding='max_length'` to pad to a max length. In this case, you can give a specific length with `max_length` (e.g. `max_length=45`) or leave max_length to None to pad to the maximal input size of the model (e.g. 512 for Bert).\n",
      "  FutureWarning,\u001b[0m\n",
      "\u001b[34m2023-10-30 13:46:30,849 sagemaker-training-toolkit ERROR    ExecuteUserScriptError:\u001b[0m\n",
      "\u001b[34mCommand \"/opt/conda/bin/python3.6 finetune.py --dataset huabao1030 --do_direct_eval True --eval_batch_size 16 --learning_rate 3e-4 --model_name_or_path t5-large --n_gpu 0 --num_train_epochs 10 --paradigm extraction --task tasd --train_batch_size 32\"\u001b[0m\n",
      "\u001b[34mWARNING: Running pip as root will break packages and permissions. You should install packages reliably by using venv: https://pip.pypa.io/warnings/venv\u001b[0m\n",
      "\u001b[34m#015Downloading:   0%|          | 0.00/792k [00:00<?, ?B/s]#015Downloading: 100%|ââââââââââ| 792k/792k [00:00<00:00, 10.4MB/s]\u001b[0m\n",
      "\u001b[34m#015Downloading:   0%|          | 0.00/1.39M [00:00<?, ?B/s]#015Downloading: 100%|ââââââââââ| 1.39M/1.39M [00:00<00:00, 34.7MB/s]\u001b[0m\n",
      "\u001b[34m/opt/conda/lib/python3.6/site-packages/transformers/tokenization_utils_base.py:2110: FutureWarning: The `pad_to_max_length` argument is deprecated and will be removed in a future version, use `padding=True` or `padding='longest'` to pad to the longest sequence in the batch, or use `padding='max_length'` to pad to a max length. In this case, you can give a specific length with `max_length` (e.g. `max_length=45`) or leave max_length to None to pad to the maximal input size of the model (e.g. 512 for Bert).\n",
      "  FutureWarning,\u001b[0m\n",
      "\u001b[34m#015Downloading:   0%|          | 0.00/1.21k [00:00<?, ?B/s]#015Downloading: 100%|ââââââââââ| 1.21k/1.21k [00:00<00:00, 2.58MB/s]\u001b[0m\n",
      "\u001b[34m#015Downloading:   0%|          | 0.00/2.95G [00:00<?, ?B/s]#015Downloading:   0%|          | 6.28M/2.95G [00:00<00:46, 62.8MB/s]#015Downloading:   0%|          | 13.8M/2.95G [00:00<00:44, 66.0MB/s]#015Downloading:   1%|          | 21.2M/2.95G [00:00<00:42, 68.2MB/s]#015Downloading:   1%|          | 28.7M/2.95G [00:00<00:41, 70.3MB/s]#015Downloading:   1%|          | 36.5M/2.95G [00:00<00:40, 72.3MB/s]#015Downloading:   1%|â         | 44.2M/2.95G [00:00<00:39, 73.7MB/s]#015Downloading:   2%|â         | 51.9M/2.95G [00:00<00:38, 74.7MB/s]#015Downloading:   2%|â         | 59.8M/2.95G [00:00<00:38, 75.7MB/s]#015Downloading:   2%|â         | 67.5M/2.95G [00:00<00:37, 76.3MB/s]#015Downloading:   3%|â         | 75.3M/2.95G [00:01<00:37, 76.8MB/s]#015Downloading:   3%|â         | 83.1M/2.95G [00:01<00:37, 77.1MB/s]#015Downloading:   3%|â         | 90.9M/2.95G [00:01<00:37, 77.2MB/s]#015Downloading:   3%|â         | 98.7M/2.95G [00:01<00:36, 77.5MB/s]#015Downloading:   4%|â         | 106M/2.95G [00:01<00:36, 77.6MB/s] #015Downloading:   4%|â         | 114M/2.95G [00:01<00:36, 77.6MB/s]#015Downloading:   4%|â         | 122M/2.95G [00:01<00:36, 77.6MB/s]#015Downloading:   4%|â         | 130M/2.95G [00:01<00:36, 77.7MB/s]#015Downloading:   5%|â         | 138M/2.95G [00:01<00:36, 77.8MB/s]#015Downloading:   5%|â         | 145M/2.95G [00:01<00:35, 78.0MB/s]#015Downloading:   5%|â         | 153M/2.95G [00:02<00:35, 77.9MB/s]#015Downloading:   5%|â         | 161M/2.95G [00:02<00:35, 77.8MB/s]#015Downloading:   6%|â         | 169M/2.95G [00:02<00:35, 77.6MB/s]#015Downloading:   6%|â         | 177M/2.95G [00:02<00:35, 77.5MB/s]#015Downloading:   6%|â         | 184M/2.95G [00:02<00:35, 77.7MB/s]#015Downloading:   7%|â         | 192M/2.95G [00:02<00:35, 78.0MB/s]#015Downloading:   7%|â         | 200M/2.95G [00:02<00:35, 78.4MB/s]#015Downloading:   7%|â         | 208M/2.95G [00:02<00:34, 78.6MB/s]#015Downloading:   7%|â         | 216M/2.95G [00:02<00:34, 78.8MB/s]#015Downloading:   8%|â         | 224M/2.95G [00:02<00:34, 78.9MB/s]#015Downloading:   8%|â         | 232M/2.95G [00:03<00:34, 79.0MB/s]#015Downloading:   8%|â         | 240M/2.95G [00:03<00:34, 78.7MB/s]#015Downloading:   8%|â         | 248M/2.95G [00:03<00:34, 78.1MB/s]#015Downloading:   9%|â         | 255M/2.95G [00:03<00:34, 78.5MB/s]#015Downloading:   9%|â         | 263M/2.95G [00:03<00:34, 78.3MB/s]#015Downloading:   9%|â         | 271M/2.95G [00:03<00:34, 78.5MB/s]#015Downloading:   9%|â         | 279M/2.95G [00:03<00:33, 78.8MB/s]#015Downloading:  10%|â         | 287M/2.95G [00:03<00:33, 78.9MB/s]#015Downloading:  10%|â         | 295M/2.95G [00:03<00:33, 79.0MB/s]#015Downloading:  10%|â         | 303M/2.95G [00:03<00:33, 78.7MB/s]#015Downloading:  11%|â         | 311M/2.95G [00:04<00:33, 78.3MB/s]#015Downloading:  11%|â         | 319M/2.95G [00:04<00:33, 77.7MB/s]#015Downloading:  11%|â         | 326M/2.95G [00:04<00:33, 77.7MB/s]#015Downloading:  11%|ââ        | 334M/2.95G [00:04<00:33, 77.4MB/s]#015Downloading:  12%|ââ        | 342M/2.95G [00:04<00:33, 77.4MB/s]#015Downloading:  12%|ââ        | 350M/2.95G [00:04<00:33, 77.2MB/s]#015Downloading:  12%|ââ        | 357M/2.95G [00:04<00:33, 77.4MB/s]#015Downloading:  12%|ââ        | 365M/2.95G [00:04<00:33, 77.5MB/s]#015Downloading:  13%|ââ        | 373M/2.95G [00:04<00:33, 77.4MB/s]#015Downloading:  13%|ââ        | 381M/2.95G [00:04<00:33, 77.2MB/s]#015Downloading:  13%|ââ        | 388M/2.95G [00:05<00:33, 77.3MB/s]#015Downloading:  13%|ââ        | 396M/2.95G [00:05<00:33, 77.3MB/s]#015Downloading:  14%|ââ        | 404M/2.95G [00:05<00:32, 77.5MB/s]#015Downloading:  14%|ââ        | 412M/2.95G [00:05<00:32, 77.6MB/s]#015Downloading:  14%|ââ        | 420M/2.95G [00:05<00:32, 77.6MB/s]#015Downloading:  14%|ââ        | 427M/2.95G [00:05<00:32, 77.7MB/s]#015Downloading:  15%|ââ        | 435M/2.95G [00:05<00:32, 77.7MB/s]#015Downloading:  15%|ââ        | 443M/2.95G [00:05<00:32, 77.6MB/s]#015Downloading:  15%|ââ        | 451M/2.95G [00:05<00:32, 77.7MB/s]#015Downloading:  16%|ââ        | 459M/2.95G [00:05<00:31, 78.2MB/s]#015Downloading:  16%|ââ        | 467M/2.95G [00:06<00:31, 79.1MB/s]#015Downloading:  16%|ââ        | 475M/2.95G [00:06<00:31, 78.6MB/s]#015Downloading:  16%|ââ        | 483M/2.95G [00:06<00:31, 78.0MB/s]#015Downloading:  17%|ââ        | 490M/2.95G [00:06<00:31, 77.8MB/s]#015Downloading:  17%|ââ        | 498M/2.95G [00:06<00:31, 77.6MB/s]#015Downloading:  17%|ââ        | 506M/2.95G [00:06<00:31, 77.5MB/s]#015Downloading:  17%|ââ        | 514M/2.95G [00:06<00:31, 77.4MB/s]#015Downloading:  18%|ââ        | 522M/2.95G [00:06<00:31, 78.1MB/s]#015Downloading:  18%|ââ        | 530M/2.95G [00:06<00:30, 78.6MB/s]#015Downloading:  18%|ââ        | 538M/2.95G [00:06<00:30, 78.9MB/s]#015Downloading:  18%|ââ        | 546M/2.95G [00:07<00:30, 79.2MB/s]#015Downloading:  19%|ââ        | 554M/2.95G [00:07<00:30, 78.9MB/s]#015Downloading:  19%|ââ        | 561M/2.95G [00:07<00:30, 79.0MB/s]#015Downloading:  19%|ââ        | 569M/2.95G [00:07<00:30, 79.2MB/s]#015Downloading:  20%|ââ        | 577M/2.95G [00:07<00:30, 79.1MB/s]#015Downloading:  20%|ââ        | 585M/2.95G [00:07<00:30, 78.5MB/s]#015Downloading:  20%|ââ        | 593M/2.95G [00:07<00:30, 78.0MB/s]#015Downloading:  20%|ââ        | 601M/2.95G [00:07<00:29, 78.4MB/s]#015Downloading:  21%|ââ        | 609M/2.95G [00:07<00:29, 78.7MB/s]#015Downloading:  21%|ââ        | 617M/2.95G [00:07<00:29, 78.8MB/s]#015Downloading:  21%|ââ        | 625M/2.95G [00:08<00:29, 79.0MB/s]#015Downloading:  21%|âââ       | 633M/2.95G [00:08<00:29, 79.1MB/s]#015Downloading:  22%|âââ       | 641M/2.95G [00:08<00:29, 78.5MB/s]#015Downloading:  22%|âââ       | 648M/2.95G [00:08<00:29, 77.9MB/s]#015Downloading:  22%|âââ       | 656M/2.95G [00:08<00:29, 77.7MB/s]#015Downloading:  23%|âââ       | 664M/2.95G [00:08<00:29, 77.7MB/s]#015Downloading:  23%|âââ       | 672M/2.95G [00:08<00:29, 77.5MB/s]#015Downloading:  23%|âââ       | 680M/2.95G [00:08<00:29, 77.9MB/s]#015Downloading:  23%|âââ       | 688M/2.95G [00:08<00:28, 78.4MB/s]#015Downloading:  24%|âââ       | 696M/2.95G [00:08<00:28, 78.6MB/s]#015Downloading:  24%|âââ       | 703M/2.95G [00:09<00:28, 78.8MB/s]#015Downloading:  24%|âââ       | 711M/2.95G [00:09<00:28, 78.2MB/s]#015Downloading:  24%|âââ       | 719M/2.95G [00:09<00:28, 77.9MB/s]#015Downloading:  25%|âââ       | 727M/2.95G [00:09<00:28, 77.7MB/s]#015Downloading:  25%|âââ       | 735M/2.95G [00:09<00:28, 77.5MB/s]#015Downloading:  25%|âââ       | 742M/2.95G [00:09<00:28, 77.6MB/s]#015Downloading:  25%|âââ       | 750M/2.95G [00:09<00:28, 77.4MB/s]#015Downloading:  26%|âââ       | 758M/2.95G [00:09<00:28, 77.8MB/s]#015Downloading:  26%|âââ       | 766M/2.95G [00:09<00:27, 78.2MB/s]#015Downloading:  26%|âââ       | 774M/2.95G [00:09<00:27, 78.5MB/s]#015Downloading:  26%|âââ       | 782M/2.95G [00:10<00:27, 78.8MB/s]#015Downloading:  27%|âââ       | 790M/2.95G [00:10<00:27, 78.6MB/s]#015Downloading:  27%|âââ       | 798M/2.95G [00:10<00:27, 78.1MB/s]#015Downloading:  27%|âââ       | 805M/2.95G [00:10<00:27, 78.0MB/s]#015Downloading:  28%|âââ       | 813M/2.95G [00:10<00:27, 77.6MB/s]#015Downloading:  28%|âââ       | 821M/2.95G [00:10<00:27, 76.6MB/s]#015Downloading:  28%|âââ       | 829M/2.95G [00:10<00:27, 76.0MB/s]#015Downloading:  28%|âââ       | 836M/2.95G [00:10<00:27, 76.6MB/s]#015Downloading:  29%|âââ       | 844M/2.95G [00:10<00:27, 76.8MB/s]#015Downloading:  29%|âââ       | 852M/2.95G [00:10<00:27, 77.2MB/s]#015Downloading:  29%|âââ       | 860M/2.95G [00:11<00:27, 77.1MB/s]#015Downloading:  29%|âââ       | 868M/2.95G [00:11<00:26, 77.7MB/s]#015Downloading:  30%|âââ       | 875M/2.95G [00:11<00:26, 77.5MB/s]#015Downloading:  30%|âââ       | 883M/2.95G [00:11<00:26, 77.3MB/s]#015Downloading:  30%|âââ       | 891M/2.95G [00:11<00:26, 77.1MB/s]#015Downloading:  30%|âââ       | 899M/2.95G [00:11<00:26, 77.0MB/s]#015Downloading:  31%|âââ       | 906M/2.95G [00:11<00:26, 77.1MB/s]#015Downloading:  31%|âââ       | 914M/2.95G [00:11<00:26, 77.2MB/s]#015Downloading:  31%|âââ       | 922M/2.95G [00:11<00:26, 77.3MB/s]#015Downloading:  32%|ââââ      | 930M/2.95G [00:11<00:25, 78.0MB/s]#015Downloading:  32%|ââââ      | 938M/2.95G [00:12<00:25, 78.4MB/s]#015Downloading:  32%|ââââ      | 946M/2.95G [00:12<00:25, 78.7MB/s]#015Downloading:  32%|ââââ      | 954M/2.95G [00:12<00:25, 78.9MB/s]#015Downloading:  33%|ââââ      | 962M/2.95G [00:12<00:25, 79.1MB/s]#015Downloading:  33%|ââââ      | 970M/2.95G [00:12<00:25, 79.2MB/s]#015Downloading:  33%|ââââ      | 978M/2.95G [00:12<00:24, 79.2MB/s]#015Downloading:  33%|ââââ      | 985M/2.95G [00:12<00:24, 79.3MB/s]#015Downloading:  34%|ââââ      | 993M/2.95G [00:12<00:24, 79.3MB/s]#015Downloading:  34%|ââââ      | 1.00G/2.95G [00:12<00:24, 79.4MB/s]#015Downloading:  34%|ââââ      | 1.01G/2.95G [00:12<00:24, 79.3MB/s]#015Downloading:  34%|ââââ      | 1.02G/2.95G [00:13<00:24, 79.5MB/s]#015Downloading:  35%|ââââ      | 1.03G/2.95G [00:13<00:24, 79.6MB/s]#015Downloading:  35%|ââââ      | 1.03G/2.95G [00:13<00:24, 79.6MB/s]#015Downloading:  35%|ââââ      | 1.04G/2.95G [00:13<00:24, 79.4MB/s]#015Downloading:  36%|ââââ      | 1.05G/2.95G [00:13<00:23, 79.4MB/s]#015Downloading:  36%|ââââ      | 1.06G/2.95G [00:13<00:23, 79.6MB/s]#015Downloading:  36%|ââââ      | 1.07G/2.95G [00:13<00:36, 51.9MB/s]#015Downloading:  36%|ââââ      | 1.07G/2.95G [00:13<00:32, 57.8MB/s]#015Downloading:  37%|ââââ      | 1.08G/2.95G [00:14<00:29, 62.9MB/s]#015Downloading:  37%|ââââ      | 1.09G/2.95G [00:14<00:27, 67.1MB/s]#015Downloading:  37%|ââââ      | 1.10G/2.95G [00:14<00:26, 70.5MB/s]#015Downloading:  37%|ââââ      | 1.10G/2.95G [00:14<00:25, 73.1MB/s]#015Downloading:  38%|ââââ      | 1.11G/2.95G [00:14<00:24, 74.8MB/s]#015Downloading:  38%|ââââ      | 1.12G/2.95G [00:14<00:24, 76.1MB/s]#015Downloading:  38%|ââââ      | 1.13G/2.95G [00:14<00:23, 77.2MB/s]#015Downloading:  39%|ââââ      | 1.14G/2.95G [00:14<00:23, 78.0MB/s]#015Downloading:  39%|ââââ      | 1.14G/2.95G [00:14<00:23, 78.4MB/s]#015Downloading:  39%|ââââ      | 1.15G/2.95G [00:14<00:22, 78.8MB/s]#015Downloading:  39%|ââââ      | 1.16G/2.95G [00:15<00:22, 78.7MB/s]#015Downloading:  40%|ââââ      | 1.17G/2.95G [00:15<00:22, 79.0MB/s]#015Downloading:  40%|ââââ      | 1.18G/2.95G [00:15<00:22, 79.2MB/s]#015Downloading:  40%|ââââ      | 1.18G/2.95G [00:15<00:22, 78.9MB/s]#015Downloading:  40%|ââââ      | 1.19G/2.95G [00:15<00:22, 79.1MB/s]#015Downloading:  41%|ââââ      | 1.20G/2.95G [00:15<00:22, 79.4MB/s]#015Downloading:  41%|ââââ      | 1.21G/2.95G [00:15<00:21, 79.5MB/s]#015Downloading:  41%|ââââ      | 1.22G/2.95G [00:15<00:21, 79.4MB/s]#015Downloading:  41%|âââââ     | 1.22G/2.95G [00:15<00:21, 79.6MB/s]#015Downloading:  42%|âââââ     | 1.23G/2.95G [00:15<00:21, 79.7MB/s]#015Downloading:  42%|âââââ     | 1.24G/2.95G [00:16<00:21, 79.8MB/s]#015Downloading:  42%|âââââ     | 1.25G/2.95G [00:16<00:21, 79.8MB/s]#015Downloading:  43%|âââââ     | 1.26G/2.95G [00:16<00:21, 79.7MB/s]#015Downloading:  43%|âââââ     | 1.26G/2.95G [00:16<00:21, 79.7MB/s]#015Downloading:  43%|âââââ     | 1.27G/2.95G [00:16<00:21, 79.8MB/s]#015Downloading:  43%|âââââ     | 1.28G/2.95G [00:16<00:20, 79.8MB/s]#015Downloading:  44%|âââââ     | 1.29G/2.95G [00:16<00:20, 79.8MB/s]#015Downloading:  44%|âââââ     | 1.30G/2.95G [00:16<00:20, 79.8MB/s]#015Downloading:  44%|âââââ     | 1.30G/2.95G [00:16<00:20, 79.6MB/s]#015Downloading:  44%|âââââ     | 1.31G/2.95G [00:16<00:20, 79.7MB/s]#015Downloading:  45%|âââââ     | 1.32G/2.95G [00:17<00:20, 79.8MB/s]#015Downloading:  45%|âââââ     | 1.33G/2.95G [00:17<00:20, 79.8MB/s]#015Downloading:  45%|âââââ     | 1.34G/2.95G [00:17<00:20, 79.8MB/s]#015Downloading:  46%|âââââ     | 1.34G/2.95G [00:17<00:20, 79.6MB/s]#015Downloading:  46%|âââââ     | 1.35G/2.95G [00:17<00:20, 79.7MB/s]#015Downloading:  46%|âââââ     | 1.36G/2.95G [00:17<00:19, 79.7MB/s]#015Downloading:  46%|âââââ     | 1.37G/2.95G [00:17<00:19, 79.6MB/s]#015Downloading:  47%|âââââ     | 1.38G/2.95G [00:17<00:19, 79.7MB/s]#015Downloading:  47%|âââââ     | 1.38G/2.95G [00:17<00:19, 79.8MB/s]#015Downloading:  47%|âââââ     | 1.39G/2.95G [00:17<00:19, 79.8MB/s]#015Downloading:  47%|âââââ     | 1.40G/2.95G [00:18<00:19, 79.7MB/s]#015Downloading:  48%|âââââ     | 1.41G/2.95G [00:18<00:19, 79.5MB/s]#015Downloading:  48%|âââââ     | 1.42G/2.95G [00:18<00:19, 79.2MB/s]#015Downloading:  48%|âââââ     | 1.42G/2.95G [00:18<00:19, 79.1MB/s]#015Downloading:  49%|âââââ     | 1.43G/2.95G [00:18<00:19, 78.8MB/s]#015Downloading:  49%|âââââ     | 1.44G/2.95G [00:18<00:19, 78.5MB/s]#015Downloading:  49%|âââââ     | 1.45G/2.95G [00:18<00:19, 78.4MB/s]#015Downloading:  49%|âââââ     | 1.46G/2.95G [00:18<00:18, 79.0MB/s]#015Downloading:  50%|âââââ     | 1.46G/2.95G [00:18<00:18, 79.3MB/s]#015Downloading:  50%|âââââ     | 1.47G/2.95G [00:18<00:18, 79.5MB/s]#015Downloading:  50%|âââââ     | 1.48G/2.95G [00:19<00:18, 79.7MB/s]#015Downloading:  50%|âââââ     | 1.49G/2.95G [00:19<00:18, 79.6MB/s]#015Downloading:  51%|âââââ     | 1.50G/2.95G [00:19<00:18, 79.8MB/s]#015Downloading:  51%|âââââ     | 1.50G/2.95G [00:19<00:18, 79.7MB/s]#015Downloading:  51%|âââââ     | 1.51G/2.95G [00:19<00:18, 79.5MB/s]#015Downloading:  51%|ââââââ    | 1.52G/2.95G [00:19<00:18, 79.4MB/s]#015Downloading:  52%|ââââââ    | 1.53G/2.95G [00:19<00:17, 79.4MB/s]#015Downloading:  52%|ââââââ    | 1.54G/2.95G [00:19<00:17, 79.5MB/s]#015Downloading:  52%|ââââââ    | 1.54G/2.95G [00:19<00:17, 79.7MB/s]#015Downloading:  53%|ââââââ    | 1.55G/2.95G [00:19<00:17, 79.6MB/s]#015Downloading:  53%|ââââââ    | 1.56G/2.95G [00:20<00:17, 79.7MB/s]#015Downloading:  53%|ââââââ    | 1.57G/2.95G [00:20<00:17, 79.6MB/s]#015Downloading:  53%|ââââââ    | 1.58G/2.95G [00:20<00:17, 79.9MB/s]#015Downloading:  54%|ââââââ    | 1.58G/2.95G [00:20<00:17, 79.8MB/s]#015Downloading:  54%|ââââââ    | 1.59G/2.95G [00:20<00:17, 80.0MB/s]#015Downloa\u001b[0m\n",
      "\u001b[34mding:  54%|ââââââ    | 1.60G/2.95G [00:20<00:16, 79.9MB/s]#015Downloading:  54%|ââââââ    | 1.61G/2.95G [00:20<00:16, 79.8MB/s]#015Downloading:  55%|ââââââ    | 1.62G/2.95G [00:20<00:16, 79.8MB/s]#015Downloading:  55%|ââââââ    | 1.62G/2.95G [00:20<00:16, 80.0MB/s]#015Downloading:  55%|ââââââ    | 1.63G/2.95G [00:20<00:16, 80.1MB/s]#015Downloading:  56%|ââââââ    | 1.64G/2.95G [00:21<00:16, 80.0MB/s]#015Downloading:  56%|ââââââ    | 1.65G/2.95G [00:21<00:16, 79.6MB/s]#015Downloading:  56%|ââââââ    | 1.66G/2.95G [00:21<00:16, 79.5MB/s]#015Downloading:  56%|ââââââ    | 1.66G/2.95G [00:21<00:16, 79.4MB/s]#015Downloading:  57%|ââââââ    | 1.67G/2.95G [00:21<00:16, 79.5MB/s]#015Downloading:  57%|ââââââ    | 1.68G/2.95G [00:21<00:16, 79.3MB/s]#015Downloading:  57%|ââââââ    | 1.69G/2.95G [00:21<00:15, 79.7MB/s]#015Downloading:  57%|ââââââ    | 1.70G/2.95G [00:21<00:15, 79.4MB/s]#015Downloading:  58%|ââââââ    | 1.70G/2.95G [00:21<00:15, 79.6MB/s]#015Downloading:  58%|ââââââ    | 1.71G/2.95G [00:21<00:15, 79.8MB/s]#015Downloading:  58%|ââââââ    | 1.72G/2.95G [00:22<00:15, 79.9MB/s]#015Downloading:  59%|ââââââ    | 1.73G/2.95G [00:22<00:15, 79.8MB/s]#015Downloading:  59%|ââââââ    | 1.74G/2.95G [00:22<00:15, 79.9MB/s]#015Downloading:  59%|ââââââ    | 1.74G/2.95G [00:22<00:15, 80.0MB/s]#015Downloading:  59%|ââââââ    | 1.75G/2.95G [00:22<00:14, 80.0MB/s]#015Downloading:  60%|ââââââ    | 1.76G/2.95G [00:22<00:14, 80.0MB/s]#015Downloading:  60%|ââââââ    | 1.77G/2.95G [00:22<00:14, 80.1MB/s]#015Downloading:  60%|ââââââ    | 1.78G/2.95G [00:22<00:14, 80.2MB/s]#015Downloading:  60%|ââââââ    | 1.78G/2.95G [00:22<00:14, 80.3MB/s]#015Downloading:  61%|ââââââ    | 1.79G/2.95G [00:22<00:14, 80.3MB/s]#015Downloading:  61%|ââââââ    | 1.80G/2.95G [00:23<00:14, 79.7MB/s]#015Downloading:  61%|âââââââ   | 1.81G/2.95G [00:23<00:14, 79.6MB/s]#015Downloading:  62%|âââââââ   | 1.82G/2.95G [00:23<00:14, 79.7MB/s]#015Downloading:  62%|âââââââ   | 1.82G/2.95G [00:23<00:14, 79.4MB/s]#015Downloading:  62%|âââââââ   | 1.83G/2.95G [00:23<00:14, 79.1MB/s]#015Downloading:  62%|âââââââ   | 1.84G/2.95G [00:23<00:13, 79.4MB/s]#015Downloading:  63%|âââââââ   | 1.85G/2.95G [00:23<00:13, 79.4MB/s]#015Downloading:  63%|âââââââ   | 1.86G/2.95G [00:23<00:13, 79.2MB/s]#015Downloading:  63%|âââââââ   | 1.86G/2.95G [00:23<00:13, 79.1MB/s]#015Downloading:  63%|âââââââ   | 1.87G/2.95G [00:23<00:13, 79.1MB/s]#015Downloading:  64%|âââââââ   | 1.88G/2.95G [00:24<00:13, 79.0MB/s]#015Downloading:  64%|âââââââ   | 1.89G/2.95G [00:24<00:13, 79.4MB/s]#015Downloading:  64%|âââââââ   | 1.90G/2.95G [00:24<00:20, 50.9MB/s]#015Downloading:  64%|âââââââ   | 1.90G/2.95G [00:24<00:18, 56.4MB/s]#015Downloading:  65%|âââââââ   | 1.91G/2.95G [00:24<00:17, 61.1MB/s]#015Downloading:  65%|âââââââ   | 1.92G/2.95G [00:24<00:15, 64.7MB/s]#015Downloading:  65%|âââââââ   | 1.93G/2.95G [00:24<00:15, 67.6MB/s]#015Downloading:  66%|âââââââ   | 1.93G/2.95G [00:24<00:14, 69.7MB/s]#015Downloading:  66%|âââââââ   | 1.94G/2.95G [00:25<00:14, 71.3MB/s]#015Downloading:  66%|âââââââ   | 1.95G/2.95G [00:25<00:13, 72.5MB/s]#015Downloading:  66%|âââââââ   | 1.96G/2.95G [00:25<00:13, 73.3MB/s]#015Downloading:  67%|âââââââ   | 1.96G/2.95G [00:25<00:13, 74.2MB/s]#015Downloading:  67%|âââââââ   | 1.97G/2.95G [00:25<00:13, 74.9MB/s]#015Downloading:  67%|âââââââ   | 1.98G/2.95G [00:25<00:12, 75.4MB/s]#015Downloading:  67%|âââââââ   | 1.99G/2.95G [00:25<00:12, 75.9MB/s]#015Downloading:  68%|âââââââ   | 1.99G/2.95G [00:25<00:12, 75.9MB/s]#015Downloading:  68%|âââââââ   | 2.00G/2.95G [00:25<00:12, 76.2MB/s]#015Downloading:  68%|âââââââ   | 2.01G/2.95G [00:25<00:12, 76.2MB/s]#015Downloading:  68%|âââââââ   | 2.02G/2.95G [00:26<00:12, 76.0MB/s]#015Downloading:  69%|âââââââ   | 2.02G/2.95G [00:26<00:12, 75.4MB/s]#015Downloading:  69%|âââââââ   | 2.03G/2.95G [00:26<00:12, 75.0MB/s]#015Downloading:  69%|âââââââ   | 2.04G/2.95G [00:26<00:12, 74.9MB/s]#015Downloading:  69%|âââââââ   | 2.05G/2.95G [00:26<00:12, 74.6MB/s]#015Downloading:  70%|âââââââ   | 2.05G/2.95G [00:26<00:12, 74.3MB/s]#015Downloading:  70%|âââââââ   | 2.06G/2.95G [00:26<00:11, 74.5MB/s]#015Downloading:  70%|âââââââ   | 2.07G/2.95G [00:26<00:11, 74.7MB/s]#015Downloading:  70%|âââââââ   | 2.08G/2.95G [00:26<00:11, 75.1MB/s]#015Downloading:  71%|âââââââ   | 2.08G/2.95G [00:26<00:11, 75.1MB/s]#015Downloading:  71%|âââââââ   | 2.09G/2.95G [00:27<00:11, 75.2MB/s]#015Downloading:  71%|âââââââ   | 2.10G/2.95G [00:27<00:11, 75.3MB/s]#015Downloading:  71%|ââââââââ  | 2.11G/2.95G [00:27<00:11, 74.7MB/s]#015Downloading:  72%|ââââââââ  | 2.11G/2.95G [00:27<00:11, 74.9MB/s]#015Downloading:  72%|ââââââââ  | 2.12G/2.95G [00:27<00:11, 75.1MB/s]#015Downloading:  72%|ââââââââ  | 2.13G/2.95G [00:27<00:10, 75.4MB/s]#015Downloading:  72%|ââââââââ  | 2.14G/2.95G [00:27<00:10, 75.5MB/s]#015Downloading:  73%|ââââââââ  | 2.15G/2.95G [00:27<00:10, 75.9MB/s]#015Downloading:  73%|ââââââââ  | 2.15G/2.95G [00:27<00:10, 76.0MB/s]#015Downloading:  73%|ââââââââ  | 2.16G/2.95G [00:27<00:10, 76.2MB/s]#015Downloading:  73%|ââââââââ  | 2.17G/2.95G [00:28<00:10, 76.3MB/s]#015Downloading:  74%|ââââââââ  | 2.18G/2.95G [00:28<00:10, 76.3MB/s]#015Downloading:  74%|ââââââââ  | 2.18G/2.95G [00:28<00:10, 76.2MB/s]#015Downloading:  74%|ââââââââ  | 2.19G/2.95G [00:28<00:09, 76.1MB/s]#015Downloading:  75%|ââââââââ  | 2.20G/2.95G [00:28<00:09, 76.1MB/s]#015Downloading:  75%|ââââââââ  | 2.21G/2.95G [00:28<00:09, 76.3MB/s]#015Downloading:  75%|ââââââââ  | 2.21G/2.95G [00:28<00:09, 76.1MB/s]#015Downloading:  75%|ââââââââ  | 2.22G/2.95G [00:28<00:09, 76.3MB/s]#015Downloading:  76%|ââââââââ  | 2.23G/2.95G [00:28<00:09, 76.1MB/s]#015Downloading:  76%|ââââââââ  | 2.24G/2.95G [00:28<00:09, 76.2MB/s]#015Downloading:  76%|ââââââââ  | 2.24G/2.95G [00:29<00:09, 76.2MB/s]#015Downloading:  76%|ââââââââ  | 2.25G/2.95G [00:29<00:09, 76.4MB/s]#015Downloading:  77%|ââââââââ  | 2.26G/2.95G [00:29<00:09, 76.3MB/s]#015Downloading:  77%|ââââââââ  | 2.27G/2.95G [00:29<00:08, 76.4MB/s]#015Downloading:  77%|ââââââââ  | 2.28G/2.95G [00:29<00:08, 76.5MB/s]#015Downloading:  77%|ââââââââ  | 2.28G/2.95G [00:29<00:08, 76.4MB/s]#015Downloading:  78%|ââââââââ  | 2.29G/2.95G [00:29<00:08, 76.2MB/s]#015Downloading:  78%|ââââââââ  | 2.30G/2.95G [00:29<00:08, 76.3MB/s]#015Downloading:  78%|ââââââââ  | 2.31G/2.95G [00:29<00:08, 76.3MB/s]#015Downloading:  78%|ââââââââ  | 2.31G/2.95G [00:29<00:08, 76.3MB/s]#015Downloading:  79%|ââââââââ  | 2.32G/2.95G [00:30<00:08, 76.3MB/s]#015Downloading:  79%|ââââââââ  | 2.33G/2.95G [00:30<00:08, 76.3MB/s]#015Downloading:  79%|ââââââââ  | 2.34G/2.95G [00:30<00:08, 76.3MB/s]#015Downloading:  79%|ââââââââ  | 2.34G/2.95G [00:30<00:07, 76.3MB/s]#015Downloading:  80%|ââââââââ  | 2.35G/2.95G [00:30<00:07, 76.2MB/s]#015Downloading:  80%|ââââââââ  | 2.36G/2.95G [00:30<00:07, 76.2MB/s]#015Downloading:  80%|ââââââââ  | 2.37G/2.95G [00:30<00:07, 76.1MB/s]#015Downloading:  80%|ââââââââ  | 2.37G/2.95G [00:30<00:07, 76.1MB/s]#015Downloading:  81%|ââââââââ  | 2.38G/2.95G [00:30<00:07, 76.0MB/s]#015Downloading:  81%|ââââââââ  | 2.39G/2.95G [00:30<00:07, 76.1MB/s]#015Downloading:  81%|ââââââââ  | 2.40G/2.95G [00:31<00:07, 76.0MB/s]#015Downloading:  81%|âââââââââ | 2.40G/2.95G [00:31<00:07, 76.1MB/s]#015Downloading:  82%|âââââââââ | 2.41G/2.95G [00:31<00:07, 76.2MB/s]#015Downloading:  82%|âââââââââ | 2.42G/2.95G [00:31<00:06, 75.9MB/s]#015Downloading:  82%|âââââââââ | 2.43G/2.95G [00:31<00:06, 75.7MB/s]#015Downloading:  83%|âââââââââ | 2.44G/2.95G [00:31<00:06, 75.7MB/s]#015Downloading:  83%|âââââââââ | 2.44G/2.95G [00:31<00:06, 75.9MB/s]#015Downloading:  83%|âââââââââ | 2.45G/2.95G [00:31<00:06, 76.0MB/s]#015Downloading:  83%|âââââââââ | 2.46G/2.95G [00:31<00:06, 76.0MB/s]#015Downloading:  84%|âââââââââ | 2.47G/2.95G [00:31<00:06, 75.9MB/s]#015Downloading:  84%|âââââââââ | 2.47G/2.95G [00:32<00:06, 75.8MB/s]#015Downloading:  84%|âââââââââ | 2.48G/2.95G [00:32<00:06, 75.9MB/s]#015Downloading:  84%|âââââââââ | 2.49G/2.95G [00:32<00:06, 75.8MB/s]#015Downloading:  85%|âââââââââ | 2.50G/2.95G [00:32<00:06, 75.8MB/s]#015Downloading:  85%|âââââââââ | 2.50G/2.95G [00:32<00:05, 75.9MB/s]#015Downloading:  85%|âââââââââ | 2.51G/2.95G [00:32<00:05, 75.9MB/s]#015Downloading:  85%|âââââââââ | 2.52G/2.95G [00:32<00:05, 75.9MB/s]#015Downloading:  86%|âââââââââ | 2.53G/2.95G [00:32<00:05, 76.0MB/s]#015Downloading:  86%|âââââââââ | 2.53G/2.95G [00:32<00:05, 75.9MB/s]#015Downloading:  86%|âââââââââ | 2.54G/2.95G [00:32<00:05, 76.0MB/s]#015Downloading:  86%|âââââââââ | 2.55G/2.95G [00:33<00:05, 75.9MB/s]#015Downloading:  87%|âââââââââ | 2.56G/2.95G [00:33<00:05, 76.1MB/s]#015Downloading:  87%|âââââââââ | 2.56G/2.95G [00:33<00:05, 76.0MB/s]#015Downloading:  87%|âââââââââ | 2.57G/2.95G [00:33<00:04, 76.0MB/s]#015Downloading:  87%|âââââââââ | 2.58G/2.95G [00:33<00:04, 76.0MB/s]#015Downloading:  88%|âââââââââ | 2.59G/2.95G [00:33<00:04, 76.0MB/s]#015Downloading:  88%|âââââââââ | 2.59G/2.95G [00:33<00:04, 76.2MB/s]#015Downloading:  88%|âââââââââ | 2.60G/2.95G [00:33<00:04, 76.1MB/s]#015Downloading:  88%|âââââââââ | 2.61G/2.95G [00:33<00:04, 76.0MB/s]#015Downloading:  89%|âââââââââ | 2.62G/2.95G [00:33<00:04, 76.2MB/s]#015Downloading:  89%|âââââââââ | 2.63G/2.95G [00:34<00:04, 76.1MB/s]#015Downloading:  89%|âââââââââ | 2.63G/2.95G [00:34<00:04, 76.2MB/s]#015Downloading:  89%|âââââââââ | 2.64G/2.95G [00:34<00:04, 76.1MB/s]#015Downloading:  90%|âââââââââ | 2.65G/2.95G [00:34<00:03, 76.3MB/s]#015Downloading:  90%|âââââââââ | 2.66G/2.95G [00:34<00:06, 48.8MB/s]#015Downloading:  90%|âââââââââ | 2.66G/2.95G [00:34<00:05, 54.6MB/s]#015Downloading:  91%|âââââââââ | 2.67G/2.95G [00:34<00:04, 59.6MB/s]#015Downloading:  91%|âââââââââ | 2.68G/2.95G [00:34<00:04, 63.6MB/s]#015Downloading:  91%|âââââââââ | 2.69G/2.95G [00:35<00:03, 66.8MB/s]#015Downloading:  91%|ââââââââââ| 2.69G/2.95G [00:35<00:03, 69.3MB/s]#015Downloading:  92%|ââââââââââ| 2.70G/2.95G [00:35<00:03, 71.2MB/s]#015Downloading:  92%|ââââââââââ| 2.71G/2.95G [00:35<00:03, 72.6MB/s]#015Downloading:  92%|ââââââââââ| 2.72G/2.95G [00:35<00:03, 73.6MB/s]#015Downloading:  92%|ââââââââââ| 2.72G/2.95G [00:35<00:03, 74.3MB/s]#015Downloading:  93%|ââââââââââ| 2.73G/2.95G [00:35<00:02, 74.8MB/s]#015Downloading:  93%|ââââââââââ| 2.74G/2.95G [00:35<00:02, 75.1MB/s]#015Downloading:  93%|ââââââââââ| 2.75G/2.95G [00:35<00:02, 75.4MB/s]#015Downloading:  93%|ââââââââââ| 2.75G/2.95G [00:35<00:02, 75.6MB/s]#015Downloading:  94%|ââââââââââ| 2.76G/2.95G [00:36<00:02, 75.7MB/s]#015Downloading:  94%|ââââââââââ| 2.77G/2.95G [00:36<00:02, 75.5MB/s]#015Downloading:  94%|ââââââââââ| 2.78G/2.95G [00:36<00:02, 75.7MB/s]#015Downloading:  94%|ââââââââââ| 2.79G/2.95G [00:36<00:02, 75.9MB/s]#015Downloading:  95%|ââââââââââ| 2.79G/2.95G [00:\u001b[0m\n",
      "\u001b[34m36<00:02, 75.8MB/s]#015Downloading:  95%|ââââââââââ| 2.80G/2.95G [00:36<00:01, 75.8MB/s]#015Downloading:  95%|ââââââââââ| 2.81G/2.95G [00:36<00:01, 75.8MB/s]#015Downloading:  95%|ââââââââââ| 2.82G/2.95G [00:36<00:01, 75.9MB/s]#015Downloading:  96%|ââââââââââ| 2.82G/2.95G [00:36<00:01, 75.8MB/s]#015Downloading:  96%|ââââââââââ| 2.83G/2.95G [00:36<00:01, 75.9MB/s]#015Downloading:  96%|ââââââââââ| 2.84G/2.95G [00:37<00:01, 76.0MB/s]#015Downloading:  96%|ââââââââââ| 2.85G/2.95G [00:37<00:01, 76.1MB/s]#015Downloading:  97%|ââââââââââ| 2.85G/2.95G [00:37<00:01, 75.9MB/s]#015Downloading:  97%|ââââââââââ| 2.86G/2.95G [00:37<00:01, 75.9MB/s]#015Downloading:  97%|ââââââââââ| 2.87G/2.95G [00:37<00:01, 75.8MB/s]#015Downloading:  97%|ââââââââââ| 2.88G/2.95G [00:37<00:00, 75.8MB/s]#015Downloading:  98%|ââââââââââ| 2.88G/2.95G [00:37<00:00, 75.7MB/s]#015Downloading:  98%|ââââââââââ| 2.89G/2.95G [00:37<00:00, 75.8MB/s]#015Downloading:  98%|ââââââââââ| 2.90G/2.95G [00:37<00:00, 75.9MB/s]#015Downloading:  99%|ââââââââââ| 2.91G/2.95G [00:37<00:00, 76.0MB/s]#015Downloading:  99%|ââââââââââ| 2.91G/2.95G [00:38<00:00, 75.9MB/s]#015Downloading:  99%|ââââââââââ| 2.92G/2.95G [00:38<00:00, 76.1MB/s]#015Downloading:  99%|ââââââââââ| 2.93G/2.95G [00:38<00:00, 75.9MB/s]#015Downloading: 100%|ââââââââââ| 2.94G/2.95G [00:38<00:00, 76.1MB/s]#015Downloading: 100%|ââââââââââ| 2.94G/2.95G [00:38<00:00, 76.0MB/s]#015Downloading: 100%|ââââââââââ| 2.95G/2.95G [00:38<00:00, 76.5MB/s]\u001b[0m\n",
      "\u001b[34mGPU available: True, used: False\u001b[0m\n",
      "\u001b[34mTPU available: False, using: 0 TPU cores\n",
      "  | Name  | Type                       | Params\u001b[0m\n",
      "\u001b[34m-----------------------------------------------------\u001b[0m\n",
      "\u001b[34m0 | model | T5ForConditionalGeneration | 737 M \u001b[0m\n",
      "\u001b[34mTraceback (most recent call last):\n",
      "  File \"/opt/conda/lib/python3.6/multiprocessing/queues.py\", line 230, in _feed\n",
      "    close()\n",
      "  File \"/opt/conda/lib/python3.6/multiprocessing/connection.py\", line 177, in close\n",
      "    self._close()\n",
      "  File \"/opt/conda/lib/python3.6/multiprocessing/connection.py\", line 361, in _close\n",
      "    _close(self._handle)\u001b[0m\n",
      "\u001b[34mOSError: [Errno 9] Bad file descriptor\u001b[0m\n",
      "\u001b[34m/opt/conda/lib/python3.6/site-packages/transformers/tokenization_utils_base.py:2110: FutureWarning: The `pad_to_max_length` argument is deprecated and will be removed in a future version, use `padding=True` or `padding='longest'` to pad to the longest sequence in the batch, or use `padding='max_length'` to pad to a max length. In this case, you can give a specific length with `max_length` (e.g. `max_length=45`) or leave max_length to None to pad to the maximal input size of the model (e.g. 512 for Bert).\n",
      "  FutureWarning,\u001b[0m\n",
      "\n",
      "2023-10-30 13:46:52 Failed - Training job failed\n"
     ]
    },
    {
     "ename": "UnexpectedStatusException",
     "evalue": "Error for Training job level3-test-20-t5large-1030-add2000-v4: Failed. Reason: ClientError: Please use an instance type with more memory, or reduce the size of job data processed on an instance.",
     "output_type": "error",
     "traceback": [
      "\u001b[0;31m---------------------------------------------------------------------------\u001b[0m",
      "\u001b[0;31mUnexpectedStatusException\u001b[0m                 Traceback (most recent call last)",
      "Cell \u001b[0;32mIn[64], line 1\u001b[0m\n\u001b[0;32m----> 1\u001b[0m response \u001b[38;5;241m=\u001b[39m \u001b[43mestimator\u001b[49m\u001b[38;5;241;43m.\u001b[39;49m\u001b[43mfit\u001b[49m\u001b[43m(\u001b[49m\u001b[43minputs\u001b[49m\u001b[43m,\u001b[49m\u001b[43mjob_name\u001b[49m\u001b[38;5;241;43m=\u001b[39;49m\u001b[38;5;124;43m\"\u001b[39;49m\u001b[38;5;124;43mlevel3-test-20-t5large-1030-add2000-v4\u001b[39;49m\u001b[38;5;124;43m\"\u001b[39;49m\u001b[43m)\u001b[49m\n",
      "File \u001b[0;32m~/anaconda3/envs/python3/lib/python3.10/site-packages/sagemaker/workflow/pipeline_context.py:311\u001b[0m, in \u001b[0;36mrunnable_by_pipeline.<locals>.wrapper\u001b[0;34m(*args, **kwargs)\u001b[0m\n\u001b[1;32m    307\u001b[0m         \u001b[38;5;28;01mreturn\u001b[39;00m context\n\u001b[1;32m    309\u001b[0m     \u001b[38;5;28;01mreturn\u001b[39;00m _StepArguments(retrieve_caller_name(self_instance), run_func, \u001b[38;5;241m*\u001b[39margs, \u001b[38;5;241m*\u001b[39m\u001b[38;5;241m*\u001b[39mkwargs)\n\u001b[0;32m--> 311\u001b[0m \u001b[38;5;28;01mreturn\u001b[39;00m \u001b[43mrun_func\u001b[49m\u001b[43m(\u001b[49m\u001b[38;5;241;43m*\u001b[39;49m\u001b[43margs\u001b[49m\u001b[43m,\u001b[49m\u001b[43m \u001b[49m\u001b[38;5;241;43m*\u001b[39;49m\u001b[38;5;241;43m*\u001b[39;49m\u001b[43mkwargs\u001b[49m\u001b[43m)\u001b[49m\n",
      "File \u001b[0;32m~/anaconda3/envs/python3/lib/python3.10/site-packages/sagemaker/estimator.py:1296\u001b[0m, in \u001b[0;36mEstimatorBase.fit\u001b[0;34m(self, inputs, wait, logs, job_name, experiment_config)\u001b[0m\n\u001b[1;32m   1294\u001b[0m \u001b[38;5;28mself\u001b[39m\u001b[38;5;241m.\u001b[39mjobs\u001b[38;5;241m.\u001b[39mappend(\u001b[38;5;28mself\u001b[39m\u001b[38;5;241m.\u001b[39mlatest_training_job)\n\u001b[1;32m   1295\u001b[0m \u001b[38;5;28;01mif\u001b[39;00m wait:\n\u001b[0;32m-> 1296\u001b[0m     \u001b[38;5;28;43mself\u001b[39;49m\u001b[38;5;241;43m.\u001b[39;49m\u001b[43mlatest_training_job\u001b[49m\u001b[38;5;241;43m.\u001b[39;49m\u001b[43mwait\u001b[49m\u001b[43m(\u001b[49m\u001b[43mlogs\u001b[49m\u001b[38;5;241;43m=\u001b[39;49m\u001b[43mlogs\u001b[49m\u001b[43m)\u001b[49m\n",
      "File \u001b[0;32m~/anaconda3/envs/python3/lib/python3.10/site-packages/sagemaker/estimator.py:2499\u001b[0m, in \u001b[0;36m_TrainingJob.wait\u001b[0;34m(self, logs)\u001b[0m\n\u001b[1;32m   2497\u001b[0m \u001b[38;5;66;03m# If logs are requested, call logs_for_jobs.\u001b[39;00m\n\u001b[1;32m   2498\u001b[0m \u001b[38;5;28;01mif\u001b[39;00m logs \u001b[38;5;241m!=\u001b[39m \u001b[38;5;124m\"\u001b[39m\u001b[38;5;124mNone\u001b[39m\u001b[38;5;124m\"\u001b[39m:\n\u001b[0;32m-> 2499\u001b[0m     \u001b[38;5;28;43mself\u001b[39;49m\u001b[38;5;241;43m.\u001b[39;49m\u001b[43msagemaker_session\u001b[49m\u001b[38;5;241;43m.\u001b[39;49m\u001b[43mlogs_for_job\u001b[49m\u001b[43m(\u001b[49m\u001b[38;5;28;43mself\u001b[39;49m\u001b[38;5;241;43m.\u001b[39;49m\u001b[43mjob_name\u001b[49m\u001b[43m,\u001b[49m\u001b[43m \u001b[49m\u001b[43mwait\u001b[49m\u001b[38;5;241;43m=\u001b[39;49m\u001b[38;5;28;43;01mTrue\u001b[39;49;00m\u001b[43m,\u001b[49m\u001b[43m \u001b[49m\u001b[43mlog_type\u001b[49m\u001b[38;5;241;43m=\u001b[39;49m\u001b[43mlogs\u001b[49m\u001b[43m)\u001b[49m\n\u001b[1;32m   2500\u001b[0m \u001b[38;5;28;01melse\u001b[39;00m:\n\u001b[1;32m   2501\u001b[0m     \u001b[38;5;28mself\u001b[39m\u001b[38;5;241m.\u001b[39msagemaker_session\u001b[38;5;241m.\u001b[39mwait_for_job(\u001b[38;5;28mself\u001b[39m\u001b[38;5;241m.\u001b[39mjob_name)\n",
      "File \u001b[0;32m~/anaconda3/envs/python3/lib/python3.10/site-packages/sagemaker/session.py:4849\u001b[0m, in \u001b[0;36mSession.logs_for_job\u001b[0;34m(self, job_name, wait, poll, log_type, timeout)\u001b[0m\n\u001b[1;32m   4828\u001b[0m \u001b[38;5;28;01mdef\u001b[39;00m \u001b[38;5;21mlogs_for_job\u001b[39m(\u001b[38;5;28mself\u001b[39m, job_name, wait\u001b[38;5;241m=\u001b[39m\u001b[38;5;28;01mFalse\u001b[39;00m, poll\u001b[38;5;241m=\u001b[39m\u001b[38;5;241m10\u001b[39m, log_type\u001b[38;5;241m=\u001b[39m\u001b[38;5;124m\"\u001b[39m\u001b[38;5;124mAll\u001b[39m\u001b[38;5;124m\"\u001b[39m, timeout\u001b[38;5;241m=\u001b[39m\u001b[38;5;28;01mNone\u001b[39;00m):\n\u001b[1;32m   4829\u001b[0m \u001b[38;5;250m    \u001b[39m\u001b[38;5;124;03m\"\"\"Display logs for a given training job, optionally tailing them until job is complete.\u001b[39;00m\n\u001b[1;32m   4830\u001b[0m \n\u001b[1;32m   4831\u001b[0m \u001b[38;5;124;03m    If the output is a tty or a Jupyter cell, it will be color-coded\u001b[39;00m\n\u001b[0;32m   (...)\u001b[0m\n\u001b[1;32m   4847\u001b[0m \u001b[38;5;124;03m        exceptions.UnexpectedStatusException: If waiting and the training job fails.\u001b[39;00m\n\u001b[1;32m   4848\u001b[0m \u001b[38;5;124;03m    \"\"\"\u001b[39;00m\n\u001b[0;32m-> 4849\u001b[0m     \u001b[43m_logs_for_job\u001b[49m\u001b[43m(\u001b[49m\u001b[38;5;28;43mself\u001b[39;49m\u001b[38;5;241;43m.\u001b[39;49m\u001b[43mboto_session\u001b[49m\u001b[43m,\u001b[49m\u001b[43m \u001b[49m\u001b[43mjob_name\u001b[49m\u001b[43m,\u001b[49m\u001b[43m \u001b[49m\u001b[43mwait\u001b[49m\u001b[43m,\u001b[49m\u001b[43m \u001b[49m\u001b[43mpoll\u001b[49m\u001b[43m,\u001b[49m\u001b[43m \u001b[49m\u001b[43mlog_type\u001b[49m\u001b[43m,\u001b[49m\u001b[43m \u001b[49m\u001b[43mtimeout\u001b[49m\u001b[43m)\u001b[49m\n",
      "File \u001b[0;32m~/anaconda3/envs/python3/lib/python3.10/site-packages/sagemaker/session.py:6760\u001b[0m, in \u001b[0;36m_logs_for_job\u001b[0;34m(boto_session, job_name, wait, poll, log_type, timeout)\u001b[0m\n\u001b[1;32m   6757\u001b[0m             last_profiler_rule_statuses \u001b[38;5;241m=\u001b[39m profiler_rule_statuses\n\u001b[1;32m   6759\u001b[0m \u001b[38;5;28;01mif\u001b[39;00m wait:\n\u001b[0;32m-> 6760\u001b[0m     \u001b[43m_check_job_status\u001b[49m\u001b[43m(\u001b[49m\u001b[43mjob_name\u001b[49m\u001b[43m,\u001b[49m\u001b[43m \u001b[49m\u001b[43mdescription\u001b[49m\u001b[43m,\u001b[49m\u001b[43m \u001b[49m\u001b[38;5;124;43m\"\u001b[39;49m\u001b[38;5;124;43mTrainingJobStatus\u001b[39;49m\u001b[38;5;124;43m\"\u001b[39;49m\u001b[43m)\u001b[49m\n\u001b[1;32m   6761\u001b[0m     \u001b[38;5;28;01mif\u001b[39;00m dot:\n\u001b[1;32m   6762\u001b[0m         \u001b[38;5;28mprint\u001b[39m()\n",
      "File \u001b[0;32m~/anaconda3/envs/python3/lib/python3.10/site-packages/sagemaker/session.py:6813\u001b[0m, in \u001b[0;36m_check_job_status\u001b[0;34m(job, desc, status_key_name)\u001b[0m\n\u001b[1;32m   6807\u001b[0m \u001b[38;5;28;01mif\u001b[39;00m \u001b[38;5;124m\"\u001b[39m\u001b[38;5;124mCapacityError\u001b[39m\u001b[38;5;124m\"\u001b[39m \u001b[38;5;129;01min\u001b[39;00m \u001b[38;5;28mstr\u001b[39m(reason):\n\u001b[1;32m   6808\u001b[0m     \u001b[38;5;28;01mraise\u001b[39;00m exceptions\u001b[38;5;241m.\u001b[39mCapacityError(\n\u001b[1;32m   6809\u001b[0m         message\u001b[38;5;241m=\u001b[39mmessage,\n\u001b[1;32m   6810\u001b[0m         allowed_statuses\u001b[38;5;241m=\u001b[39m[\u001b[38;5;124m\"\u001b[39m\u001b[38;5;124mCompleted\u001b[39m\u001b[38;5;124m\"\u001b[39m, \u001b[38;5;124m\"\u001b[39m\u001b[38;5;124mStopped\u001b[39m\u001b[38;5;124m\"\u001b[39m],\n\u001b[1;32m   6811\u001b[0m         actual_status\u001b[38;5;241m=\u001b[39mstatus,\n\u001b[1;32m   6812\u001b[0m     )\n\u001b[0;32m-> 6813\u001b[0m \u001b[38;5;28;01mraise\u001b[39;00m exceptions\u001b[38;5;241m.\u001b[39mUnexpectedStatusException(\n\u001b[1;32m   6814\u001b[0m     message\u001b[38;5;241m=\u001b[39mmessage,\n\u001b[1;32m   6815\u001b[0m     allowed_statuses\u001b[38;5;241m=\u001b[39m[\u001b[38;5;124m\"\u001b[39m\u001b[38;5;124mCompleted\u001b[39m\u001b[38;5;124m\"\u001b[39m, \u001b[38;5;124m\"\u001b[39m\u001b[38;5;124mStopped\u001b[39m\u001b[38;5;124m\"\u001b[39m],\n\u001b[1;32m   6816\u001b[0m     actual_status\u001b[38;5;241m=\u001b[39mstatus,\n\u001b[1;32m   6817\u001b[0m )\n",
      "\u001b[0;31mUnexpectedStatusException\u001b[0m: Error for Training job level3-test-20-t5large-1030-add2000-v4: Failed. Reason: ClientError: Please use an instance type with more memory, or reduce the size of job data processed on an instance."
     ]
    }
   ],
   "source": [
    "response = estimator.fit(inputs,job_name=\"level3-test-20-t5large-1030-add2000-v4\")"
   ]
  },
  {
   "cell_type": "markdown",
   "id": "20cd6269",
   "metadata": {},
   "source": [
    "# deploy "
   ]
  },
  {
   "cell_type": "code",
   "execution_count": 3,
   "id": "462a5330-db75-4ec7-8d95-ef025e4c7ce8",
   "metadata": {
    "tags": []
   },
   "outputs": [
    {
     "name": "stdout",
     "output_type": "stream",
     "text": [
      "GPT打标（带描述）-Jackie.xlsx  GPT预打标20230926.xlsx  GPT预打标20231023.xlsx\n"
     ]
    }
   ],
   "source": [
    "!ls ../../data"
   ]
  },
  {
   "cell_type": "code",
   "execution_count": 9,
   "id": "7ba51ed3",
   "metadata": {},
   "outputs": [
    {
     "name": "stderr",
     "output_type": "stream",
     "text": [
      "INFO:botocore.credentials:Found credentials from IAM Role: BaseNotebookInstanceEc2InstanceRole\n"
     ]
    }
   ],
   "source": [
    "import sagemaker\n",
    "\n",
    "instance_type = 'ml.m5.4xlarge'\n",
    "role = sagemaker.get_execution_role()"
   ]
  },
  {
   "cell_type": "code",
   "execution_count": 32,
   "id": "9bb697e0",
   "metadata": {},
   "outputs": [],
   "source": [
    "s3_model = estimator.model_data \n",
    "#s3_model = \"s3://sagemaker-us-east-1-726335585155/pytorch-training-2022-06-16-07-12-35-530/output/model.tar.gz\""
   ]
  },
  {
   "cell_type": "code",
   "execution_count": 33,
   "id": "6f2d331f-2aa5-4abd-b81d-4f9a2bbc7689",
   "metadata": {
    "tags": []
   },
   "outputs": [
    {
     "data": {
      "text/plain": [
       "'s3://sagemaker-us-west-2-726335585155/pytorch-training-2023-10-23-10-54-36-037/output/model.tar.gz'"
      ]
     },
     "execution_count": 33,
     "metadata": {},
     "output_type": "execute_result"
    }
   ],
   "source": [
    "s3_model"
   ]
  },
  {
   "cell_type": "code",
   "execution_count": 11,
   "id": "2a020fce",
   "metadata": {},
   "outputs": [
    {
     "name": "stdout",
     "output_type": "stream",
     "text": [
      "2022-06-16 07:55:55 3452559113 model.tar.gz\n"
     ]
    }
   ],
   "source": [
    "!aws s3 ls s3://sagemaker-us-east-1-726335585155/pytorch-training-2022-06-16-07-12-35-530/output/model.tar.gz"
   ]
  },
  {
   "cell_type": "code",
   "execution_count": 12,
   "id": "953522ae",
   "metadata": {},
   "outputs": [
    {
     "name": "stderr",
     "output_type": "stream",
     "text": [
      "INFO:botocore.credentials:Found credentials from IAM Role: BaseNotebookInstanceEc2InstanceRole\n",
      "INFO:sagemaker:Repacking model artifact (s3://sagemaker-us-west-2-726335585155/pytorch-training-2023-10-23-09-15-12-985/output/model.tar.gz), script artifact (./), and dependencies ([]) into single tar.gz file located at s3://sagemaker-us-west-2-726335585155/pytorch-inference-2023-10-23-09-34-54-059/model.tar.gz. This may take some time depending on model size...\n",
      "INFO:sagemaker:Creating model with name: pytorch-inference-2023-10-23-09-36-09-194\n",
      "INFO:sagemaker:Creating endpoint-config with name pytorch-inference-2023-10-23-09-36-09-841\n",
      "INFO:sagemaker:Creating endpoint with name pytorch-inference-2023-10-23-09-36-09-841\n"
     ]
    },
    {
     "name": "stdout",
     "output_type": "stream",
     "text": [
      "--------!"
     ]
    }
   ],
   "source": [
    "from sagemaker.pytorch.model import PyTorchModel\n",
    "\n",
    "pytorch_model = PyTorchModel(model_data=s3_model, \n",
    "                             role=role,\n",
    "                             entry_point='inference.py', \n",
    "                             source_dir='./', \n",
    "                             framework_version='1.7.1', \n",
    "                             py_version='py36'\n",
    "                ) # TODO set model_server_workers=1 to avoid torchhub bug\n",
    "\n",
    "predictor = pytorch_model.deploy(instance_type=instance_type, initial_instance_count=1)"
   ]
  },
  {
   "cell_type": "code",
   "execution_count": null,
   "id": "5646bb72",
   "metadata": {},
   "outputs": [],
   "source": [
    "from boto3.session import Session\n",
    "import json\n",
    "\n",
    "body = {\"inputs\": \"Jacery 240, Small, heavy, portable, has carrying handle, cute design and built. 2 year warranty. Sadly battery is not replacaceable so when it's done it's done. Pricey at $219, however, i'm pleased with purchace. Would recommend. Wished it had some some sort of solar panel on front, back or side that recharged it as well.\"}\n",
    "\n",
    "session = Session()\n",
    "runtime = session.client(\"runtime.sagemaker\")\n",
    "response = runtime.invoke_endpoint(\n",
    "    EndpointName=predictor.endpoint_name,\n",
    "    ContentType=\"application/json\",\n",
    "    Body=json.dumps(body),\n",
    ")\n",
    "result = json.loads(response[\"Body\"].read())\n",
    "print (result)\n"
   ]
  },
  {
   "cell_type": "code",
   "execution_count": 20,
   "id": "50b5b354",
   "metadata": {
    "collapsed": false,
    "jupyter": {
     "outputs_hidden": false
    },
    "pycharm": {
     "name": "#%%\n"
    }
   },
   "outputs": [
    {
     "ename": "KeyboardInterrupt",
     "evalue": "",
     "output_type": "error",
     "traceback": [
      "\u001b[0;31m---------------------------------------------------------------------------\u001b[0m",
      "\u001b[0;31mKeyboardInterrupt\u001b[0m                         Traceback (most recent call last)",
      "File \u001b[0;32m<timed exec>:6\u001b[0m\n",
      "File \u001b[0;32m~/anaconda3/envs/python3/lib/python3.10/site-packages/sagemaker/base_predictor.py:185\u001b[0m, in \u001b[0;36mPredictor.predict\u001b[0;34m(self, data, initial_args, target_model, target_variant, inference_id, custom_attributes)\u001b[0m\n\u001b[1;32m    138\u001b[0m \u001b[38;5;250m\u001b[39m\u001b[38;5;124;03m\"\"\"Return the inference from the specified endpoint.\u001b[39;00m\n\u001b[1;32m    139\u001b[0m \n\u001b[1;32m    140\u001b[0m \u001b[38;5;124;03mArgs:\u001b[39;00m\n\u001b[0;32m   (...)\u001b[0m\n\u001b[1;32m    174\u001b[0m \u001b[38;5;124;03m        as is.\u001b[39;00m\n\u001b[1;32m    175\u001b[0m \u001b[38;5;124;03m\"\"\"\u001b[39;00m\n\u001b[1;32m    177\u001b[0m request_args \u001b[38;5;241m=\u001b[39m \u001b[38;5;28mself\u001b[39m\u001b[38;5;241m.\u001b[39m_create_request_args(\n\u001b[1;32m    178\u001b[0m     data,\n\u001b[1;32m    179\u001b[0m     initial_args,\n\u001b[0;32m   (...)\u001b[0m\n\u001b[1;32m    183\u001b[0m     custom_attributes,\n\u001b[1;32m    184\u001b[0m )\n\u001b[0;32m--> 185\u001b[0m response \u001b[38;5;241m=\u001b[39m \u001b[38;5;28;43mself\u001b[39;49m\u001b[38;5;241;43m.\u001b[39;49m\u001b[43msagemaker_session\u001b[49m\u001b[38;5;241;43m.\u001b[39;49m\u001b[43msagemaker_runtime_client\u001b[49m\u001b[38;5;241;43m.\u001b[39;49m\u001b[43minvoke_endpoint\u001b[49m\u001b[43m(\u001b[49m\u001b[38;5;241;43m*\u001b[39;49m\u001b[38;5;241;43m*\u001b[39;49m\u001b[43mrequest_args\u001b[49m\u001b[43m)\u001b[49m\n\u001b[1;32m    186\u001b[0m \u001b[38;5;28;01mreturn\u001b[39;00m \u001b[38;5;28mself\u001b[39m\u001b[38;5;241m.\u001b[39m_handle_response(response)\n",
      "File \u001b[0;32m~/anaconda3/envs/python3/lib/python3.10/site-packages/botocore/client.py:535\u001b[0m, in \u001b[0;36mClientCreator._create_api_method.<locals>._api_call\u001b[0;34m(self, *args, **kwargs)\u001b[0m\n\u001b[1;32m    531\u001b[0m     \u001b[38;5;28;01mraise\u001b[39;00m \u001b[38;5;167;01mTypeError\u001b[39;00m(\n\u001b[1;32m    532\u001b[0m         \u001b[38;5;124mf\u001b[39m\u001b[38;5;124m\"\u001b[39m\u001b[38;5;132;01m{\u001b[39;00mpy_operation_name\u001b[38;5;132;01m}\u001b[39;00m\u001b[38;5;124m() only accepts keyword arguments.\u001b[39m\u001b[38;5;124m\"\u001b[39m\n\u001b[1;32m    533\u001b[0m     )\n\u001b[1;32m    534\u001b[0m \u001b[38;5;66;03m# The \"self\" in this scope is referring to the BaseClient.\u001b[39;00m\n\u001b[0;32m--> 535\u001b[0m \u001b[38;5;28;01mreturn\u001b[39;00m \u001b[38;5;28;43mself\u001b[39;49m\u001b[38;5;241;43m.\u001b[39;49m\u001b[43m_make_api_call\u001b[49m\u001b[43m(\u001b[49m\u001b[43moperation_name\u001b[49m\u001b[43m,\u001b[49m\u001b[43m \u001b[49m\u001b[43mkwargs\u001b[49m\u001b[43m)\u001b[49m\n",
      "File \u001b[0;32m~/anaconda3/envs/python3/lib/python3.10/site-packages/botocore/client.py:963\u001b[0m, in \u001b[0;36mBaseClient._make_api_call\u001b[0;34m(self, operation_name, api_params)\u001b[0m\n\u001b[1;32m    959\u001b[0m     maybe_compress_request(\n\u001b[1;32m    960\u001b[0m         \u001b[38;5;28mself\u001b[39m\u001b[38;5;241m.\u001b[39mmeta\u001b[38;5;241m.\u001b[39mconfig, request_dict, operation_model\n\u001b[1;32m    961\u001b[0m     )\n\u001b[1;32m    962\u001b[0m     apply_request_checksum(request_dict)\n\u001b[0;32m--> 963\u001b[0m     http, parsed_response \u001b[38;5;241m=\u001b[39m \u001b[38;5;28;43mself\u001b[39;49m\u001b[38;5;241;43m.\u001b[39;49m\u001b[43m_make_request\u001b[49m\u001b[43m(\u001b[49m\n\u001b[1;32m    964\u001b[0m \u001b[43m        \u001b[49m\u001b[43moperation_model\u001b[49m\u001b[43m,\u001b[49m\u001b[43m \u001b[49m\u001b[43mrequest_dict\u001b[49m\u001b[43m,\u001b[49m\u001b[43m \u001b[49m\u001b[43mrequest_context\u001b[49m\n\u001b[1;32m    965\u001b[0m \u001b[43m    \u001b[49m\u001b[43m)\u001b[49m\n\u001b[1;32m    967\u001b[0m \u001b[38;5;28mself\u001b[39m\u001b[38;5;241m.\u001b[39mmeta\u001b[38;5;241m.\u001b[39mevents\u001b[38;5;241m.\u001b[39memit(\n\u001b[1;32m    968\u001b[0m     \u001b[38;5;124m'\u001b[39m\u001b[38;5;124mafter-call.\u001b[39m\u001b[38;5;132;01m{service_id}\u001b[39;00m\u001b[38;5;124m.\u001b[39m\u001b[38;5;132;01m{operation_name}\u001b[39;00m\u001b[38;5;124m'\u001b[39m\u001b[38;5;241m.\u001b[39mformat(\n\u001b[1;32m    969\u001b[0m         service_id\u001b[38;5;241m=\u001b[39mservice_id, operation_name\u001b[38;5;241m=\u001b[39moperation_name\n\u001b[0;32m   (...)\u001b[0m\n\u001b[1;32m    974\u001b[0m     context\u001b[38;5;241m=\u001b[39mrequest_context,\n\u001b[1;32m    975\u001b[0m )\n\u001b[1;32m    977\u001b[0m \u001b[38;5;28;01mif\u001b[39;00m http\u001b[38;5;241m.\u001b[39mstatus_code \u001b[38;5;241m>\u001b[39m\u001b[38;5;241m=\u001b[39m \u001b[38;5;241m300\u001b[39m:\n",
      "File \u001b[0;32m~/anaconda3/envs/python3/lib/python3.10/site-packages/botocore/client.py:986\u001b[0m, in \u001b[0;36mBaseClient._make_request\u001b[0;34m(self, operation_model, request_dict, request_context)\u001b[0m\n\u001b[1;32m    984\u001b[0m \u001b[38;5;28;01mdef\u001b[39;00m \u001b[38;5;21m_make_request\u001b[39m(\u001b[38;5;28mself\u001b[39m, operation_model, request_dict, request_context):\n\u001b[1;32m    985\u001b[0m     \u001b[38;5;28;01mtry\u001b[39;00m:\n\u001b[0;32m--> 986\u001b[0m         \u001b[38;5;28;01mreturn\u001b[39;00m \u001b[38;5;28;43mself\u001b[39;49m\u001b[38;5;241;43m.\u001b[39;49m\u001b[43m_endpoint\u001b[49m\u001b[38;5;241;43m.\u001b[39;49m\u001b[43mmake_request\u001b[49m\u001b[43m(\u001b[49m\u001b[43moperation_model\u001b[49m\u001b[43m,\u001b[49m\u001b[43m \u001b[49m\u001b[43mrequest_dict\u001b[49m\u001b[43m)\u001b[49m\n\u001b[1;32m    987\u001b[0m     \u001b[38;5;28;01mexcept\u001b[39;00m \u001b[38;5;167;01mException\u001b[39;00m \u001b[38;5;28;01mas\u001b[39;00m e:\n\u001b[1;32m    988\u001b[0m         \u001b[38;5;28mself\u001b[39m\u001b[38;5;241m.\u001b[39mmeta\u001b[38;5;241m.\u001b[39mevents\u001b[38;5;241m.\u001b[39memit(\n\u001b[1;32m    989\u001b[0m             \u001b[38;5;124m'\u001b[39m\u001b[38;5;124mafter-call-error.\u001b[39m\u001b[38;5;132;01m{service_id}\u001b[39;00m\u001b[38;5;124m.\u001b[39m\u001b[38;5;132;01m{operation_name}\u001b[39;00m\u001b[38;5;124m'\u001b[39m\u001b[38;5;241m.\u001b[39mformat(\n\u001b[1;32m    990\u001b[0m                 service_id\u001b[38;5;241m=\u001b[39m\u001b[38;5;28mself\u001b[39m\u001b[38;5;241m.\u001b[39m_service_model\u001b[38;5;241m.\u001b[39mservice_id\u001b[38;5;241m.\u001b[39mhyphenize(),\n\u001b[0;32m   (...)\u001b[0m\n\u001b[1;32m    994\u001b[0m             context\u001b[38;5;241m=\u001b[39mrequest_context,\n\u001b[1;32m    995\u001b[0m         )\n",
      "File \u001b[0;32m~/anaconda3/envs/python3/lib/python3.10/site-packages/botocore/endpoint.py:119\u001b[0m, in \u001b[0;36mEndpoint.make_request\u001b[0;34m(self, operation_model, request_dict)\u001b[0m\n\u001b[1;32m    113\u001b[0m \u001b[38;5;28;01mdef\u001b[39;00m \u001b[38;5;21mmake_request\u001b[39m(\u001b[38;5;28mself\u001b[39m, operation_model, request_dict):\n\u001b[1;32m    114\u001b[0m     logger\u001b[38;5;241m.\u001b[39mdebug(\n\u001b[1;32m    115\u001b[0m         \u001b[38;5;124m\"\u001b[39m\u001b[38;5;124mMaking request for \u001b[39m\u001b[38;5;132;01m%s\u001b[39;00m\u001b[38;5;124m with params: \u001b[39m\u001b[38;5;132;01m%s\u001b[39;00m\u001b[38;5;124m\"\u001b[39m,\n\u001b[1;32m    116\u001b[0m         operation_model,\n\u001b[1;32m    117\u001b[0m         request_dict,\n\u001b[1;32m    118\u001b[0m     )\n\u001b[0;32m--> 119\u001b[0m     \u001b[38;5;28;01mreturn\u001b[39;00m \u001b[38;5;28;43mself\u001b[39;49m\u001b[38;5;241;43m.\u001b[39;49m\u001b[43m_send_request\u001b[49m\u001b[43m(\u001b[49m\u001b[43mrequest_dict\u001b[49m\u001b[43m,\u001b[49m\u001b[43m \u001b[49m\u001b[43moperation_model\u001b[49m\u001b[43m)\u001b[49m\n",
      "File \u001b[0;32m~/anaconda3/envs/python3/lib/python3.10/site-packages/botocore/endpoint.py:199\u001b[0m, in \u001b[0;36mEndpoint._send_request\u001b[0;34m(self, request_dict, operation_model)\u001b[0m\n\u001b[1;32m    197\u001b[0m \u001b[38;5;28mself\u001b[39m\u001b[38;5;241m.\u001b[39m_update_retries_context(context, attempts)\n\u001b[1;32m    198\u001b[0m request \u001b[38;5;241m=\u001b[39m \u001b[38;5;28mself\u001b[39m\u001b[38;5;241m.\u001b[39mcreate_request(request_dict, operation_model)\n\u001b[0;32m--> 199\u001b[0m success_response, exception \u001b[38;5;241m=\u001b[39m \u001b[38;5;28;43mself\u001b[39;49m\u001b[38;5;241;43m.\u001b[39;49m\u001b[43m_get_response\u001b[49m\u001b[43m(\u001b[49m\n\u001b[1;32m    200\u001b[0m \u001b[43m    \u001b[49m\u001b[43mrequest\u001b[49m\u001b[43m,\u001b[49m\u001b[43m \u001b[49m\u001b[43moperation_model\u001b[49m\u001b[43m,\u001b[49m\u001b[43m \u001b[49m\u001b[43mcontext\u001b[49m\n\u001b[1;32m    201\u001b[0m \u001b[43m\u001b[49m\u001b[43m)\u001b[49m\n\u001b[1;32m    202\u001b[0m \u001b[38;5;28;01mwhile\u001b[39;00m \u001b[38;5;28mself\u001b[39m\u001b[38;5;241m.\u001b[39m_needs_retry(\n\u001b[1;32m    203\u001b[0m     attempts,\n\u001b[1;32m    204\u001b[0m     operation_model,\n\u001b[0;32m   (...)\u001b[0m\n\u001b[1;32m    207\u001b[0m     exception,\n\u001b[1;32m    208\u001b[0m ):\n\u001b[1;32m    209\u001b[0m     attempts \u001b[38;5;241m+\u001b[39m\u001b[38;5;241m=\u001b[39m \u001b[38;5;241m1\u001b[39m\n",
      "File \u001b[0;32m~/anaconda3/envs/python3/lib/python3.10/site-packages/botocore/endpoint.py:241\u001b[0m, in \u001b[0;36mEndpoint._get_response\u001b[0;34m(self, request, operation_model, context)\u001b[0m\n\u001b[1;32m    235\u001b[0m \u001b[38;5;28;01mdef\u001b[39;00m \u001b[38;5;21m_get_response\u001b[39m(\u001b[38;5;28mself\u001b[39m, request, operation_model, context):\n\u001b[1;32m    236\u001b[0m     \u001b[38;5;66;03m# This will return a tuple of (success_response, exception)\u001b[39;00m\n\u001b[1;32m    237\u001b[0m     \u001b[38;5;66;03m# and success_response is itself a tuple of\u001b[39;00m\n\u001b[1;32m    238\u001b[0m     \u001b[38;5;66;03m# (http_response, parsed_dict).\u001b[39;00m\n\u001b[1;32m    239\u001b[0m     \u001b[38;5;66;03m# If an exception occurs then the success_response is None.\u001b[39;00m\n\u001b[1;32m    240\u001b[0m     \u001b[38;5;66;03m# If no exception occurs then exception is None.\u001b[39;00m\n\u001b[0;32m--> 241\u001b[0m     success_response, exception \u001b[38;5;241m=\u001b[39m \u001b[38;5;28;43mself\u001b[39;49m\u001b[38;5;241;43m.\u001b[39;49m\u001b[43m_do_get_response\u001b[49m\u001b[43m(\u001b[49m\n\u001b[1;32m    242\u001b[0m \u001b[43m        \u001b[49m\u001b[43mrequest\u001b[49m\u001b[43m,\u001b[49m\u001b[43m \u001b[49m\u001b[43moperation_model\u001b[49m\u001b[43m,\u001b[49m\u001b[43m \u001b[49m\u001b[43mcontext\u001b[49m\n\u001b[1;32m    243\u001b[0m \u001b[43m    \u001b[49m\u001b[43m)\u001b[49m\n\u001b[1;32m    244\u001b[0m     kwargs_to_emit \u001b[38;5;241m=\u001b[39m {\n\u001b[1;32m    245\u001b[0m         \u001b[38;5;124m'\u001b[39m\u001b[38;5;124mresponse_dict\u001b[39m\u001b[38;5;124m'\u001b[39m: \u001b[38;5;28;01mNone\u001b[39;00m,\n\u001b[1;32m    246\u001b[0m         \u001b[38;5;124m'\u001b[39m\u001b[38;5;124mparsed_response\u001b[39m\u001b[38;5;124m'\u001b[39m: \u001b[38;5;28;01mNone\u001b[39;00m,\n\u001b[1;32m    247\u001b[0m         \u001b[38;5;124m'\u001b[39m\u001b[38;5;124mcontext\u001b[39m\u001b[38;5;124m'\u001b[39m: context,\n\u001b[1;32m    248\u001b[0m         \u001b[38;5;124m'\u001b[39m\u001b[38;5;124mexception\u001b[39m\u001b[38;5;124m'\u001b[39m: exception,\n\u001b[1;32m    249\u001b[0m     }\n\u001b[1;32m    250\u001b[0m     \u001b[38;5;28;01mif\u001b[39;00m success_response \u001b[38;5;129;01mis\u001b[39;00m \u001b[38;5;129;01mnot\u001b[39;00m \u001b[38;5;28;01mNone\u001b[39;00m:\n",
      "File \u001b[0;32m~/anaconda3/envs/python3/lib/python3.10/site-packages/botocore/endpoint.py:281\u001b[0m, in \u001b[0;36mEndpoint._do_get_response\u001b[0;34m(self, request, operation_model, context)\u001b[0m\n\u001b[1;32m    279\u001b[0m     http_response \u001b[38;5;241m=\u001b[39m first_non_none_response(responses)\n\u001b[1;32m    280\u001b[0m     \u001b[38;5;28;01mif\u001b[39;00m http_response \u001b[38;5;129;01mis\u001b[39;00m \u001b[38;5;28;01mNone\u001b[39;00m:\n\u001b[0;32m--> 281\u001b[0m         http_response \u001b[38;5;241m=\u001b[39m \u001b[38;5;28;43mself\u001b[39;49m\u001b[38;5;241;43m.\u001b[39;49m\u001b[43m_send\u001b[49m\u001b[43m(\u001b[49m\u001b[43mrequest\u001b[49m\u001b[43m)\u001b[49m\n\u001b[1;32m    282\u001b[0m \u001b[38;5;28;01mexcept\u001b[39;00m HTTPClientError \u001b[38;5;28;01mas\u001b[39;00m e:\n\u001b[1;32m    283\u001b[0m     \u001b[38;5;28;01mreturn\u001b[39;00m (\u001b[38;5;28;01mNone\u001b[39;00m, e)\n",
      "File \u001b[0;32m~/anaconda3/envs/python3/lib/python3.10/site-packages/botocore/endpoint.py:377\u001b[0m, in \u001b[0;36mEndpoint._send\u001b[0;34m(self, request)\u001b[0m\n\u001b[1;32m    376\u001b[0m \u001b[38;5;28;01mdef\u001b[39;00m \u001b[38;5;21m_send\u001b[39m(\u001b[38;5;28mself\u001b[39m, request):\n\u001b[0;32m--> 377\u001b[0m     \u001b[38;5;28;01mreturn\u001b[39;00m \u001b[38;5;28;43mself\u001b[39;49m\u001b[38;5;241;43m.\u001b[39;49m\u001b[43mhttp_session\u001b[49m\u001b[38;5;241;43m.\u001b[39;49m\u001b[43msend\u001b[49m\u001b[43m(\u001b[49m\u001b[43mrequest\u001b[49m\u001b[43m)\u001b[49m\n",
      "File \u001b[0;32m~/anaconda3/envs/python3/lib/python3.10/site-packages/botocore/httpsession.py:465\u001b[0m, in \u001b[0;36mURLLib3Session.send\u001b[0;34m(self, request)\u001b[0m\n\u001b[1;32m    462\u001b[0m     conn\u001b[38;5;241m.\u001b[39mproxy_headers[\u001b[38;5;124m'\u001b[39m\u001b[38;5;124mhost\u001b[39m\u001b[38;5;124m'\u001b[39m] \u001b[38;5;241m=\u001b[39m host\n\u001b[1;32m    464\u001b[0m request_target \u001b[38;5;241m=\u001b[39m \u001b[38;5;28mself\u001b[39m\u001b[38;5;241m.\u001b[39m_get_request_target(request\u001b[38;5;241m.\u001b[39murl, proxy_url)\n\u001b[0;32m--> 465\u001b[0m urllib_response \u001b[38;5;241m=\u001b[39m \u001b[43mconn\u001b[49m\u001b[38;5;241;43m.\u001b[39;49m\u001b[43murlopen\u001b[49m\u001b[43m(\u001b[49m\n\u001b[1;32m    466\u001b[0m \u001b[43m    \u001b[49m\u001b[43mmethod\u001b[49m\u001b[38;5;241;43m=\u001b[39;49m\u001b[43mrequest\u001b[49m\u001b[38;5;241;43m.\u001b[39;49m\u001b[43mmethod\u001b[49m\u001b[43m,\u001b[49m\n\u001b[1;32m    467\u001b[0m \u001b[43m    \u001b[49m\u001b[43murl\u001b[49m\u001b[38;5;241;43m=\u001b[39;49m\u001b[43mrequest_target\u001b[49m\u001b[43m,\u001b[49m\n\u001b[1;32m    468\u001b[0m \u001b[43m    \u001b[49m\u001b[43mbody\u001b[49m\u001b[38;5;241;43m=\u001b[39;49m\u001b[43mrequest\u001b[49m\u001b[38;5;241;43m.\u001b[39;49m\u001b[43mbody\u001b[49m\u001b[43m,\u001b[49m\n\u001b[1;32m    469\u001b[0m \u001b[43m    \u001b[49m\u001b[43mheaders\u001b[49m\u001b[38;5;241;43m=\u001b[39;49m\u001b[43mrequest\u001b[49m\u001b[38;5;241;43m.\u001b[39;49m\u001b[43mheaders\u001b[49m\u001b[43m,\u001b[49m\n\u001b[1;32m    470\u001b[0m \u001b[43m    \u001b[49m\u001b[43mretries\u001b[49m\u001b[38;5;241;43m=\u001b[39;49m\u001b[43mRetry\u001b[49m\u001b[43m(\u001b[49m\u001b[38;5;28;43;01mFalse\u001b[39;49;00m\u001b[43m)\u001b[49m\u001b[43m,\u001b[49m\n\u001b[1;32m    471\u001b[0m \u001b[43m    \u001b[49m\u001b[43massert_same_host\u001b[49m\u001b[38;5;241;43m=\u001b[39;49m\u001b[38;5;28;43;01mFalse\u001b[39;49;00m\u001b[43m,\u001b[49m\n\u001b[1;32m    472\u001b[0m \u001b[43m    \u001b[49m\u001b[43mpreload_content\u001b[49m\u001b[38;5;241;43m=\u001b[39;49m\u001b[38;5;28;43;01mFalse\u001b[39;49;00m\u001b[43m,\u001b[49m\n\u001b[1;32m    473\u001b[0m \u001b[43m    \u001b[49m\u001b[43mdecode_content\u001b[49m\u001b[38;5;241;43m=\u001b[39;49m\u001b[38;5;28;43;01mFalse\u001b[39;49;00m\u001b[43m,\u001b[49m\n\u001b[1;32m    474\u001b[0m \u001b[43m    \u001b[49m\u001b[43mchunked\u001b[49m\u001b[38;5;241;43m=\u001b[39;49m\u001b[38;5;28;43mself\u001b[39;49m\u001b[38;5;241;43m.\u001b[39;49m\u001b[43m_chunked\u001b[49m\u001b[43m(\u001b[49m\u001b[43mrequest\u001b[49m\u001b[38;5;241;43m.\u001b[39;49m\u001b[43mheaders\u001b[49m\u001b[43m)\u001b[49m\u001b[43m,\u001b[49m\n\u001b[1;32m    475\u001b[0m \u001b[43m\u001b[49m\u001b[43m)\u001b[49m\n\u001b[1;32m    477\u001b[0m http_response \u001b[38;5;241m=\u001b[39m botocore\u001b[38;5;241m.\u001b[39mawsrequest\u001b[38;5;241m.\u001b[39mAWSResponse(\n\u001b[1;32m    478\u001b[0m     request\u001b[38;5;241m.\u001b[39murl,\n\u001b[1;32m    479\u001b[0m     urllib_response\u001b[38;5;241m.\u001b[39mstatus,\n\u001b[1;32m    480\u001b[0m     urllib_response\u001b[38;5;241m.\u001b[39mheaders,\n\u001b[1;32m    481\u001b[0m     urllib_response,\n\u001b[1;32m    482\u001b[0m )\n\u001b[1;32m    484\u001b[0m \u001b[38;5;28;01mif\u001b[39;00m \u001b[38;5;129;01mnot\u001b[39;00m request\u001b[38;5;241m.\u001b[39mstream_output:\n\u001b[1;32m    485\u001b[0m     \u001b[38;5;66;03m# Cause the raw stream to be exhausted immediately. We do it\u001b[39;00m\n\u001b[1;32m    486\u001b[0m     \u001b[38;5;66;03m# this way instead of using preload_content because\u001b[39;00m\n\u001b[1;32m    487\u001b[0m     \u001b[38;5;66;03m# preload_content will never buffer chunked responses\u001b[39;00m\n",
      "File \u001b[0;32m~/anaconda3/envs/python3/lib/python3.10/site-packages/urllib3/connectionpool.py:703\u001b[0m, in \u001b[0;36mHTTPConnectionPool.urlopen\u001b[0;34m(self, method, url, body, headers, retries, redirect, assert_same_host, timeout, pool_timeout, release_conn, chunked, body_pos, **response_kw)\u001b[0m\n\u001b[1;32m    700\u001b[0m     \u001b[38;5;28mself\u001b[39m\u001b[38;5;241m.\u001b[39m_prepare_proxy(conn)\n\u001b[1;32m    702\u001b[0m \u001b[38;5;66;03m# Make the request on the httplib connection object.\u001b[39;00m\n\u001b[0;32m--> 703\u001b[0m httplib_response \u001b[38;5;241m=\u001b[39m \u001b[38;5;28;43mself\u001b[39;49m\u001b[38;5;241;43m.\u001b[39;49m\u001b[43m_make_request\u001b[49m\u001b[43m(\u001b[49m\n\u001b[1;32m    704\u001b[0m \u001b[43m    \u001b[49m\u001b[43mconn\u001b[49m\u001b[43m,\u001b[49m\n\u001b[1;32m    705\u001b[0m \u001b[43m    \u001b[49m\u001b[43mmethod\u001b[49m\u001b[43m,\u001b[49m\n\u001b[1;32m    706\u001b[0m \u001b[43m    \u001b[49m\u001b[43murl\u001b[49m\u001b[43m,\u001b[49m\n\u001b[1;32m    707\u001b[0m \u001b[43m    \u001b[49m\u001b[43mtimeout\u001b[49m\u001b[38;5;241;43m=\u001b[39;49m\u001b[43mtimeout_obj\u001b[49m\u001b[43m,\u001b[49m\n\u001b[1;32m    708\u001b[0m \u001b[43m    \u001b[49m\u001b[43mbody\u001b[49m\u001b[38;5;241;43m=\u001b[39;49m\u001b[43mbody\u001b[49m\u001b[43m,\u001b[49m\n\u001b[1;32m    709\u001b[0m \u001b[43m    \u001b[49m\u001b[43mheaders\u001b[49m\u001b[38;5;241;43m=\u001b[39;49m\u001b[43mheaders\u001b[49m\u001b[43m,\u001b[49m\n\u001b[1;32m    710\u001b[0m \u001b[43m    \u001b[49m\u001b[43mchunked\u001b[49m\u001b[38;5;241;43m=\u001b[39;49m\u001b[43mchunked\u001b[49m\u001b[43m,\u001b[49m\n\u001b[1;32m    711\u001b[0m \u001b[43m\u001b[49m\u001b[43m)\u001b[49m\n\u001b[1;32m    713\u001b[0m \u001b[38;5;66;03m# If we're going to release the connection in ``finally:``, then\u001b[39;00m\n\u001b[1;32m    714\u001b[0m \u001b[38;5;66;03m# the response doesn't need to know about the connection. Otherwise\u001b[39;00m\n\u001b[1;32m    715\u001b[0m \u001b[38;5;66;03m# it will also try to release it and we'll have a double-release\u001b[39;00m\n\u001b[1;32m    716\u001b[0m \u001b[38;5;66;03m# mess.\u001b[39;00m\n\u001b[1;32m    717\u001b[0m response_conn \u001b[38;5;241m=\u001b[39m conn \u001b[38;5;28;01mif\u001b[39;00m \u001b[38;5;129;01mnot\u001b[39;00m release_conn \u001b[38;5;28;01melse\u001b[39;00m \u001b[38;5;28;01mNone\u001b[39;00m\n",
      "File \u001b[0;32m~/anaconda3/envs/python3/lib/python3.10/site-packages/urllib3/connectionpool.py:449\u001b[0m, in \u001b[0;36mHTTPConnectionPool._make_request\u001b[0;34m(self, conn, method, url, timeout, chunked, **httplib_request_kw)\u001b[0m\n\u001b[1;32m    444\u001b[0m             httplib_response \u001b[38;5;241m=\u001b[39m conn\u001b[38;5;241m.\u001b[39mgetresponse()\n\u001b[1;32m    445\u001b[0m         \u001b[38;5;28;01mexcept\u001b[39;00m \u001b[38;5;167;01mBaseException\u001b[39;00m \u001b[38;5;28;01mas\u001b[39;00m e:\n\u001b[1;32m    446\u001b[0m             \u001b[38;5;66;03m# Remove the TypeError from the exception chain in\u001b[39;00m\n\u001b[1;32m    447\u001b[0m             \u001b[38;5;66;03m# Python 3 (including for exceptions like SystemExit).\u001b[39;00m\n\u001b[1;32m    448\u001b[0m             \u001b[38;5;66;03m# Otherwise it looks like a bug in the code.\u001b[39;00m\n\u001b[0;32m--> 449\u001b[0m             \u001b[43msix\u001b[49m\u001b[38;5;241;43m.\u001b[39;49m\u001b[43mraise_from\u001b[49m\u001b[43m(\u001b[49m\u001b[43me\u001b[49m\u001b[43m,\u001b[49m\u001b[43m \u001b[49m\u001b[38;5;28;43;01mNone\u001b[39;49;00m\u001b[43m)\u001b[49m\n\u001b[1;32m    450\u001b[0m \u001b[38;5;28;01mexcept\u001b[39;00m (SocketTimeout, BaseSSLError, SocketError) \u001b[38;5;28;01mas\u001b[39;00m e:\n\u001b[1;32m    451\u001b[0m     \u001b[38;5;28mself\u001b[39m\u001b[38;5;241m.\u001b[39m_raise_timeout(err\u001b[38;5;241m=\u001b[39me, url\u001b[38;5;241m=\u001b[39murl, timeout_value\u001b[38;5;241m=\u001b[39mread_timeout)\n",
      "File \u001b[0;32m<string>:3\u001b[0m, in \u001b[0;36mraise_from\u001b[0;34m(value, from_value)\u001b[0m\n",
      "File \u001b[0;32m~/anaconda3/envs/python3/lib/python3.10/site-packages/urllib3/connectionpool.py:444\u001b[0m, in \u001b[0;36mHTTPConnectionPool._make_request\u001b[0;34m(self, conn, method, url, timeout, chunked, **httplib_request_kw)\u001b[0m\n\u001b[1;32m    441\u001b[0m \u001b[38;5;28;01mexcept\u001b[39;00m \u001b[38;5;167;01mTypeError\u001b[39;00m:\n\u001b[1;32m    442\u001b[0m     \u001b[38;5;66;03m# Python 3\u001b[39;00m\n\u001b[1;32m    443\u001b[0m     \u001b[38;5;28;01mtry\u001b[39;00m:\n\u001b[0;32m--> 444\u001b[0m         httplib_response \u001b[38;5;241m=\u001b[39m \u001b[43mconn\u001b[49m\u001b[38;5;241;43m.\u001b[39;49m\u001b[43mgetresponse\u001b[49m\u001b[43m(\u001b[49m\u001b[43m)\u001b[49m\n\u001b[1;32m    445\u001b[0m     \u001b[38;5;28;01mexcept\u001b[39;00m \u001b[38;5;167;01mBaseException\u001b[39;00m \u001b[38;5;28;01mas\u001b[39;00m e:\n\u001b[1;32m    446\u001b[0m         \u001b[38;5;66;03m# Remove the TypeError from the exception chain in\u001b[39;00m\n\u001b[1;32m    447\u001b[0m         \u001b[38;5;66;03m# Python 3 (including for exceptions like SystemExit).\u001b[39;00m\n\u001b[1;32m    448\u001b[0m         \u001b[38;5;66;03m# Otherwise it looks like a bug in the code.\u001b[39;00m\n\u001b[1;32m    449\u001b[0m         six\u001b[38;5;241m.\u001b[39mraise_from(e, \u001b[38;5;28;01mNone\u001b[39;00m)\n",
      "File \u001b[0;32m~/anaconda3/envs/python3/lib/python3.10/http/client.py:1375\u001b[0m, in \u001b[0;36mHTTPConnection.getresponse\u001b[0;34m(self)\u001b[0m\n\u001b[1;32m   1373\u001b[0m \u001b[38;5;28;01mtry\u001b[39;00m:\n\u001b[1;32m   1374\u001b[0m     \u001b[38;5;28;01mtry\u001b[39;00m:\n\u001b[0;32m-> 1375\u001b[0m         \u001b[43mresponse\u001b[49m\u001b[38;5;241;43m.\u001b[39;49m\u001b[43mbegin\u001b[49m\u001b[43m(\u001b[49m\u001b[43m)\u001b[49m\n\u001b[1;32m   1376\u001b[0m     \u001b[38;5;28;01mexcept\u001b[39;00m \u001b[38;5;167;01mConnectionError\u001b[39;00m:\n\u001b[1;32m   1377\u001b[0m         \u001b[38;5;28mself\u001b[39m\u001b[38;5;241m.\u001b[39mclose()\n",
      "File \u001b[0;32m~/anaconda3/envs/python3/lib/python3.10/http/client.py:318\u001b[0m, in \u001b[0;36mHTTPResponse.begin\u001b[0;34m(self)\u001b[0m\n\u001b[1;32m    316\u001b[0m \u001b[38;5;66;03m# read until we get a non-100 response\u001b[39;00m\n\u001b[1;32m    317\u001b[0m \u001b[38;5;28;01mwhile\u001b[39;00m \u001b[38;5;28;01mTrue\u001b[39;00m:\n\u001b[0;32m--> 318\u001b[0m     version, status, reason \u001b[38;5;241m=\u001b[39m \u001b[38;5;28;43mself\u001b[39;49m\u001b[38;5;241;43m.\u001b[39;49m\u001b[43m_read_status\u001b[49m\u001b[43m(\u001b[49m\u001b[43m)\u001b[49m\n\u001b[1;32m    319\u001b[0m     \u001b[38;5;28;01mif\u001b[39;00m status \u001b[38;5;241m!=\u001b[39m CONTINUE:\n\u001b[1;32m    320\u001b[0m         \u001b[38;5;28;01mbreak\u001b[39;00m\n",
      "File \u001b[0;32m~/anaconda3/envs/python3/lib/python3.10/http/client.py:279\u001b[0m, in \u001b[0;36mHTTPResponse._read_status\u001b[0;34m(self)\u001b[0m\n\u001b[1;32m    278\u001b[0m \u001b[38;5;28;01mdef\u001b[39;00m \u001b[38;5;21m_read_status\u001b[39m(\u001b[38;5;28mself\u001b[39m):\n\u001b[0;32m--> 279\u001b[0m     line \u001b[38;5;241m=\u001b[39m \u001b[38;5;28mstr\u001b[39m(\u001b[38;5;28;43mself\u001b[39;49m\u001b[38;5;241;43m.\u001b[39;49m\u001b[43mfp\u001b[49m\u001b[38;5;241;43m.\u001b[39;49m\u001b[43mreadline\u001b[49m\u001b[43m(\u001b[49m\u001b[43m_MAXLINE\u001b[49m\u001b[43m \u001b[49m\u001b[38;5;241;43m+\u001b[39;49m\u001b[43m \u001b[49m\u001b[38;5;241;43m1\u001b[39;49m\u001b[43m)\u001b[49m, \u001b[38;5;124m\"\u001b[39m\u001b[38;5;124miso-8859-1\u001b[39m\u001b[38;5;124m\"\u001b[39m)\n\u001b[1;32m    280\u001b[0m     \u001b[38;5;28;01mif\u001b[39;00m \u001b[38;5;28mlen\u001b[39m(line) \u001b[38;5;241m>\u001b[39m _MAXLINE:\n\u001b[1;32m    281\u001b[0m         \u001b[38;5;28;01mraise\u001b[39;00m LineTooLong(\u001b[38;5;124m\"\u001b[39m\u001b[38;5;124mstatus line\u001b[39m\u001b[38;5;124m\"\u001b[39m)\n",
      "File \u001b[0;32m~/anaconda3/envs/python3/lib/python3.10/socket.py:705\u001b[0m, in \u001b[0;36mSocketIO.readinto\u001b[0;34m(self, b)\u001b[0m\n\u001b[1;32m    703\u001b[0m \u001b[38;5;28;01mwhile\u001b[39;00m \u001b[38;5;28;01mTrue\u001b[39;00m:\n\u001b[1;32m    704\u001b[0m     \u001b[38;5;28;01mtry\u001b[39;00m:\n\u001b[0;32m--> 705\u001b[0m         \u001b[38;5;28;01mreturn\u001b[39;00m \u001b[38;5;28;43mself\u001b[39;49m\u001b[38;5;241;43m.\u001b[39;49m\u001b[43m_sock\u001b[49m\u001b[38;5;241;43m.\u001b[39;49m\u001b[43mrecv_into\u001b[49m\u001b[43m(\u001b[49m\u001b[43mb\u001b[49m\u001b[43m)\u001b[49m\n\u001b[1;32m    706\u001b[0m     \u001b[38;5;28;01mexcept\u001b[39;00m timeout:\n\u001b[1;32m    707\u001b[0m         \u001b[38;5;28mself\u001b[39m\u001b[38;5;241m.\u001b[39m_timeout_occurred \u001b[38;5;241m=\u001b[39m \u001b[38;5;28;01mTrue\u001b[39;00m\n",
      "File \u001b[0;32m~/anaconda3/envs/python3/lib/python3.10/ssl.py:1274\u001b[0m, in \u001b[0;36mSSLSocket.recv_into\u001b[0;34m(self, buffer, nbytes, flags)\u001b[0m\n\u001b[1;32m   1270\u001b[0m     \u001b[38;5;28;01mif\u001b[39;00m flags \u001b[38;5;241m!=\u001b[39m \u001b[38;5;241m0\u001b[39m:\n\u001b[1;32m   1271\u001b[0m         \u001b[38;5;28;01mraise\u001b[39;00m \u001b[38;5;167;01mValueError\u001b[39;00m(\n\u001b[1;32m   1272\u001b[0m           \u001b[38;5;124m\"\u001b[39m\u001b[38;5;124mnon-zero flags not allowed in calls to recv_into() on \u001b[39m\u001b[38;5;132;01m%s\u001b[39;00m\u001b[38;5;124m\"\u001b[39m \u001b[38;5;241m%\u001b[39m\n\u001b[1;32m   1273\u001b[0m           \u001b[38;5;28mself\u001b[39m\u001b[38;5;241m.\u001b[39m\u001b[38;5;18m__class__\u001b[39m)\n\u001b[0;32m-> 1274\u001b[0m     \u001b[38;5;28;01mreturn\u001b[39;00m \u001b[38;5;28;43mself\u001b[39;49m\u001b[38;5;241;43m.\u001b[39;49m\u001b[43mread\u001b[49m\u001b[43m(\u001b[49m\u001b[43mnbytes\u001b[49m\u001b[43m,\u001b[49m\u001b[43m \u001b[49m\u001b[43mbuffer\u001b[49m\u001b[43m)\u001b[49m\n\u001b[1;32m   1275\u001b[0m \u001b[38;5;28;01melse\u001b[39;00m:\n\u001b[1;32m   1276\u001b[0m     \u001b[38;5;28;01mreturn\u001b[39;00m \u001b[38;5;28msuper\u001b[39m()\u001b[38;5;241m.\u001b[39mrecv_into(buffer, nbytes, flags)\n",
      "File \u001b[0;32m~/anaconda3/envs/python3/lib/python3.10/ssl.py:1130\u001b[0m, in \u001b[0;36mSSLSocket.read\u001b[0;34m(self, len, buffer)\u001b[0m\n\u001b[1;32m   1128\u001b[0m \u001b[38;5;28;01mtry\u001b[39;00m:\n\u001b[1;32m   1129\u001b[0m     \u001b[38;5;28;01mif\u001b[39;00m buffer \u001b[38;5;129;01mis\u001b[39;00m \u001b[38;5;129;01mnot\u001b[39;00m \u001b[38;5;28;01mNone\u001b[39;00m:\n\u001b[0;32m-> 1130\u001b[0m         \u001b[38;5;28;01mreturn\u001b[39;00m \u001b[38;5;28;43mself\u001b[39;49m\u001b[38;5;241;43m.\u001b[39;49m\u001b[43m_sslobj\u001b[49m\u001b[38;5;241;43m.\u001b[39;49m\u001b[43mread\u001b[49m\u001b[43m(\u001b[49m\u001b[38;5;28;43mlen\u001b[39;49m\u001b[43m,\u001b[49m\u001b[43m \u001b[49m\u001b[43mbuffer\u001b[49m\u001b[43m)\u001b[49m\n\u001b[1;32m   1131\u001b[0m     \u001b[38;5;28;01melse\u001b[39;00m:\n\u001b[1;32m   1132\u001b[0m         \u001b[38;5;28;01mreturn\u001b[39;00m \u001b[38;5;28mself\u001b[39m\u001b[38;5;241m.\u001b[39m_sslobj\u001b[38;5;241m.\u001b[39mread(\u001b[38;5;28mlen\u001b[39m)\n",
      "\u001b[0;31mKeyboardInterrupt\u001b[0m: "
     ]
    }
   ],
   "source": [
    "%%time\n",
    "\n",
    "predictor.serializer = sagemaker.serializers.JSONSerializer()\n",
    "predictor.deserializer = sagemaker.deserializers.JSONDeserializer()\n",
    "\n",
    "body = {\"inputs\": \"I am pretty new to pickleball and finally decided to try out some different paddles.\"}\n",
    "\n",
    "predictor.predict(body,initial_args={\"ContentType\":\"application/json\"})"
   ]
  },
  {
   "cell_type": "code",
   "execution_count": null,
   "id": "71b7dec7-739a-4469-8c7b-89a8c7974004",
   "metadata": {},
   "outputs": [],
   "source": []
  }
 ],
 "metadata": {
  "kernelspec": {
   "display_name": "conda_python3",
   "language": "python",
   "name": "conda_python3"
  },
  "language_info": {
   "codemirror_mode": {
    "name": "ipython",
    "version": 3
   },
   "file_extension": ".py",
   "mimetype": "text/x-python",
   "name": "python",
   "nbconvert_exporter": "python",
   "pygments_lexer": "ipython3",
   "version": "3.10.12"
  }
 },
 "nbformat": 4,
 "nbformat_minor": 5
}
